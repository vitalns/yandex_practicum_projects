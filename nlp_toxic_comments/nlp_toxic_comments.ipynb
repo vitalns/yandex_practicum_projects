{
  "cells": [
    {
      "cell_type": "markdown",
      "metadata": {
        "id": "ChA0_RCNUhfb"
      },
      "source": [
        "<div class=\"alert alert-success\">\n",
        "<h2> <b> Обработка естественного языка </b> <font size=\"7\" color=blue> 👅 </font></h2>\n",
        "</div>"
      ]
    },
    {
      "cell_type": "markdown",
      "metadata": {
        "toc": true,
        "id": "AoeRqYfFUhfZ"
      },
      "source": [
        "<h1>Содержание<span class=\"tocSkip\"></span></h1>\n",
        "<div class=\"toc\"><ul class=\"toc-item\"><li><span><a href=\"#Описание-проекта\" data-toc-modified-id=\"Описание-проекта-1\"><span class=\"toc-item-num\">1&nbsp;&nbsp;</span>Описание проекта</a></span></li><li><span><a href=\"#Анализ-данных\" data-toc-modified-id=\"Анализ-данных-2\"><span class=\"toc-item-num\">2&nbsp;&nbsp;</span>Анализ данных</a></span></li><li><span><a href=\"#Подготовка\" data-toc-modified-id=\"Подготовка-3\"><span class=\"toc-item-num\">3&nbsp;&nbsp;</span>Подготовка</a></span></li><li><span><a href=\"#Обучение\" data-toc-modified-id=\"Обучение-4\"><span class=\"toc-item-num\">4&nbsp;&nbsp;</span>Обучение</a></span><ul class=\"toc-item\"><li><span><a href=\"#Логистическая-регрессия\" data-toc-modified-id=\"Логистическая-регрессия-4.1\"><span class=\"toc-item-num\">4.1&nbsp;&nbsp;</span>Логистическая регрессия</a></span></li><li><span><a href=\"#Модель-бустинга\" data-toc-modified-id=\"Модель-бустинга-4.2\"><span class=\"toc-item-num\">4.2&nbsp;&nbsp;</span>Модель бустинга</a></span></li></ul></li><li><span><a href=\"#Выводы\" data-toc-modified-id=\"Выводы-5\"><span class=\"toc-item-num\">5&nbsp;&nbsp;</span>Выводы</a></span></li><li><span><a href=\"#Чек-лист-проверки\" data-toc-modified-id=\"Чек-лист-проверки-6\"><span class=\"toc-item-num\">6&nbsp;&nbsp;</span>Чек-лист проверки</a></span></li></ul></div>"
      ]
    },
    {
      "cell_type": "markdown",
      "metadata": {
        "id": "wRdc05azUhfj"
      },
      "source": [
        "## Описание проекта"
      ]
    },
    {
      "cell_type": "markdown",
      "metadata": {
        "id": "BDwxc3kbUhfm"
      },
      "source": [
        "Интернет-магазин запускает новый сервис. Теперь пользователи могут редактировать и дополнять описания товаров, как в вики-сообществах. То есть клиенты предлагают свои правки и комментируют изменения других. Магазину нужен инструмент, который будет искать токсичные комментарии и отправлять их на модерацию.\n",
        "\n",
        "***Задача:***<br/>\n",
        "Построить модель, которая умеет классифицировать комментарии на позитивные и негативные.\n",
        "\n",
        "Метрика качества - *F1*.\n",
        "\n",
        "***Описание данных:***<br/>\n",
        "Данные находятся в файле `toxic_comments.csv`. Столбец *text* содержит текст комментария, а *toxic* — разметка о токсичности (целевой признак)."
      ]
    },
    {
      "cell_type": "markdown",
      "metadata": {
        "id": "Bp_dqTb6Uhfn"
      },
      "source": [
        "---"
      ]
    },
    {
      "cell_type": "markdown",
      "metadata": {
        "id": "a6W-LyWHUhfo"
      },
      "source": [
        "## Анализ данных"
      ]
    },
    {
      "cell_type": "code",
      "execution_count": null,
      "metadata": {
        "id": "4XSqoo0wUhfp"
      },
      "outputs": [],
      "source": [
        "import pandas as pd\n",
        "import numpy as np\n",
        "import time\n",
        "import nltk\n",
        "from nltk.corpus import stopwords as nltk_stopwords\n",
        "from sklearn.utils import shuffle\n",
        "from sklearn.feature_extraction.text import TfidfVectorizer\n",
        "from sklearn.model_selection import (train_test_split,\n",
        "                                     cross_val_score,\n",
        "                                     StratifiedKFold)\n",
        "from sklearn.linear_model import LogisticRegression\n",
        "from sklearn.metrics import f1_score\n",
        "from catboost import CatBoostClassifier\n",
        "from sklearn.pipeline import Pipeline"
      ]
    },
    {
      "cell_type": "code",
      "execution_count": null,
      "metadata": {
        "scrolled": true,
        "id": "FHlCI1pBUhfs",
        "outputId": "2bb2aa77-657d-46e7-c5fa-098f28eee8fa"
      },
      "outputs": [
        {
          "name": "stdout",
          "output_type": "stream",
          "text": [
            "<class 'pandas.core.frame.DataFrame'>\n",
            "Int64Index: 159292 entries, 0 to 159450\n",
            "Data columns (total 2 columns):\n",
            " #   Column  Non-Null Count   Dtype \n",
            "---  ------  --------------   ----- \n",
            " 0   text    159292 non-null  object\n",
            " 1   toxic   159292 non-null  int64 \n",
            "dtypes: int64(1), object(1)\n",
            "memory usage: 3.6+ MB\n"
          ]
        }
      ],
      "source": [
        "data = pd.read_csv('/datasets/toxic_comments.csv',\n",
        "                    index_col=[0])\n",
        "data.info()"
      ]
    },
    {
      "cell_type": "code",
      "execution_count": null,
      "metadata": {
        "id": "YKkbIqj6Uhfu",
        "outputId": "c14479b5-f165-411d-a48a-ac40ba6a0224"
      },
      "outputs": [
        {
          "data": {
            "text/html": [
              "<div>\n",
              "<style scoped>\n",
              "    .dataframe tbody tr th:only-of-type {\n",
              "        vertical-align: middle;\n",
              "    }\n",
              "\n",
              "    .dataframe tbody tr th {\n",
              "        vertical-align: top;\n",
              "    }\n",
              "\n",
              "    .dataframe thead th {\n",
              "        text-align: right;\n",
              "    }\n",
              "</style>\n",
              "<table border=\"1\" class=\"dataframe\">\n",
              "  <thead>\n",
              "    <tr style=\"text-align: right;\">\n",
              "      <th></th>\n",
              "      <th>text</th>\n",
              "      <th>toxic</th>\n",
              "    </tr>\n",
              "  </thead>\n",
              "  <tbody>\n",
              "    <tr>\n",
              "      <th>6</th>\n",
              "      <td>COCKSUCKER BEFORE YOU PISS AROUND ON MY WORK</td>\n",
              "      <td>1</td>\n",
              "    </tr>\n",
              "    <tr>\n",
              "      <th>12</th>\n",
              "      <td>Hey... what is it..\\n@ | talk .\\nWhat is it......</td>\n",
              "      <td>1</td>\n",
              "    </tr>\n",
              "    <tr>\n",
              "      <th>16</th>\n",
              "      <td>Bye! \\n\\nDon't look, come or think of comming ...</td>\n",
              "      <td>1</td>\n",
              "    </tr>\n",
              "    <tr>\n",
              "      <th>42</th>\n",
              "      <td>You are gay or antisemmitian? \\n\\nArchangel WH...</td>\n",
              "      <td>1</td>\n",
              "    </tr>\n",
              "    <tr>\n",
              "      <th>43</th>\n",
              "      <td>FUCK YOUR FILTHY MOTHER IN THE ASS, DRY!</td>\n",
              "      <td>1</td>\n",
              "    </tr>\n",
              "    <tr>\n",
              "      <th>44</th>\n",
              "      <td>I'm Sorry \\n\\nI'm sorry I screwed around with ...</td>\n",
              "      <td>1</td>\n",
              "    </tr>\n",
              "    <tr>\n",
              "      <th>51</th>\n",
              "      <td>GET FUCKED UP. GET FUCKEEED UP.  GOT A DRINK T...</td>\n",
              "      <td>1</td>\n",
              "    </tr>\n",
              "    <tr>\n",
              "      <th>55</th>\n",
              "      <td>Stupid peace of shit stop deleting my stuff as...</td>\n",
              "      <td>1</td>\n",
              "    </tr>\n",
              "    <tr>\n",
              "      <th>56</th>\n",
              "      <td>=Tony Sidaway is obviously a fistfuckee. He lo...</td>\n",
              "      <td>1</td>\n",
              "    </tr>\n",
              "    <tr>\n",
              "      <th>58</th>\n",
              "      <td>My Band Page's deletion. You thought I was gon...</td>\n",
              "      <td>1</td>\n",
              "    </tr>\n",
              "  </tbody>\n",
              "</table>\n",
              "</div>"
            ],
            "text/plain": [
              "                                                 text  toxic\n",
              "6        COCKSUCKER BEFORE YOU PISS AROUND ON MY WORK      1\n",
              "12  Hey... what is it..\\n@ | talk .\\nWhat is it......      1\n",
              "16  Bye! \\n\\nDon't look, come or think of comming ...      1\n",
              "42  You are gay or antisemmitian? \\n\\nArchangel WH...      1\n",
              "43           FUCK YOUR FILTHY MOTHER IN THE ASS, DRY!      1\n",
              "44  I'm Sorry \\n\\nI'm sorry I screwed around with ...      1\n",
              "51  GET FUCKED UP. GET FUCKEEED UP.  GOT A DRINK T...      1\n",
              "55  Stupid peace of shit stop deleting my stuff as...      1\n",
              "56  =Tony Sidaway is obviously a fistfuckee. He lo...      1\n",
              "58  My Band Page's deletion. You thought I was gon...      1"
            ]
          },
          "execution_count": 3,
          "metadata": {},
          "output_type": "execute_result"
        }
      ],
      "source": [
        "data[data.toxic == 1].head(10)"
      ]
    },
    {
      "cell_type": "code",
      "execution_count": null,
      "metadata": {
        "id": "Scqp94m-Uhfw",
        "outputId": "9550fdc5-f479-47c4-fe70-567f7909f68a"
      },
      "outputs": [
        {
          "data": {
            "text/plain": [
              "<AxesSubplot:ylabel='toxic'>"
            ]
          },
          "execution_count": 4,
          "metadata": {},
          "output_type": "execute_result"
        },
        {
          "data": {
            "image/png": "[encoded data removed]",
            "text/plain": [
              "<Figure size 432x288 with 1 Axes>"
            ]
          },
          "metadata": {},
          "output_type": "display_data"
        }
      ],
      "source": [
        "# Посмотрим сбалансированность классов в целевом признаке\n",
        "\n",
        "data['toxic'].value_counts().plot(kind='pie', autopct='%.1f')"
      ]
    },
    {
      "cell_type": "markdown",
      "metadata": {
        "id": "FYiNV37CUhfw"
      },
      "source": [
        "***Заметки:***\n",
        "* Текст на английском языке;\n",
        "* Признаки перемешаны;\n",
        "* Классы несбалансированны;\n",
        "* Данных много, можно сделать уменьшение выборки класса \"0\" на 80%, тогда останется примерно 45000 строк в соотношении 1 к 2 (если будет плохая метрика, можно ещё попробовать увеличить класс \"1\" в 2 раза)."
      ]
    },
    {
      "cell_type": "markdown",
      "metadata": {
        "id": "QAMZ3XEBUhfx"
      },
      "source": [
        "---"
      ]
    },
    {
      "cell_type": "markdown",
      "metadata": {
        "id": "qEKqyGW6Uhfy"
      },
      "source": [
        "## Подготовка"
      ]
    },
    {
      "cell_type": "code",
      "execution_count": null,
      "metadata": {
        "id": "qEl9gy-HUhfy"
      },
      "outputs": [],
      "source": [
        "# Выделим признаки и целевой признак.\n",
        "\n",
        "target = data.toxic\n",
        "features = data.text"
      ]
    },
    {
      "cell_type": "code",
      "execution_count": null,
      "metadata": {
        "id": "DPylyRlUUhfz"
      },
      "outputs": [],
      "source": [
        "# Создадим функцию уменьшения выборки.\n",
        "\n",
        "def downsample(features, target, fraction):\n",
        "    features_zeros = features[target == 0]\n",
        "    features_ones = features[target == 1]\n",
        "    target_zeros = target[target == 0]\n",
        "    target_ones = target[target == 1]\n",
        "\n",
        "    features_downsampled = pd.concat(\n",
        "        [features_zeros.sample(frac=fraction, random_state=12345)]\n",
        "                                    + [features_ones])\n",
        "    target_downsampled = pd.concat(\n",
        "        [target_zeros.sample(frac=fraction, random_state=12345)]\n",
        "                                   + [target_ones])\n",
        "\n",
        "    features_downsampled, target_downsampled = shuffle(\n",
        "            features_downsampled, target_downsampled, random_state=12345)\n",
        "\n",
        "    return features_downsampled.reset_index(drop=True),\\\n",
        "           target_downsampled.reset_index(drop=True)"
      ]
    },
    {
      "cell_type": "code",
      "execution_count": null,
      "metadata": {
        "id": "XyZy5voXUhf1",
        "outputId": "32df16ff-7736-4e6e-d165-2978e3953fec"
      },
      "outputs": [
        {
          "data": {
            "text/plain": [
              "((111504,), (111504,), (23894,), (23894,), (23894,), (23894,))"
            ]
          },
          "execution_count": 9,
          "metadata": {},
          "output_type": "execute_result"
        }
      ],
      "source": [
        "# Разделим данные на обучающую, валидационную и тестовую выборки.\n",
        "\n",
        "X_train_, X_, y_train_, y_ = train_test_split(features,\n",
        "                                              target,\n",
        "                                              test_size=.3,\n",
        "                                              stratify=target,\n",
        "                                              random_state=12345)\n",
        "X_valid, X_test, y_valid, y_test = train_test_split(X_,\n",
        "                                                    y_,\n",
        "                                                    test_size=.5,\n",
        "                                                    stratify=y_,\n",
        "                                                    random_state=12345)\n",
        "\n",
        "X_train_.shape, y_train_.shape, X_valid.shape, y_valid.shape, X_test.shape, y_test.shape"
      ]
    },
    {
      "cell_type": "code",
      "execution_count": null,
      "metadata": {
        "id": "K_7MHgUqUhf2",
        "outputId": "54416d43-21ae-4c9f-a459-a751d73e2f2e"
      },
      "outputs": [
        {
          "data": {
            "text/plain": [
              "(31365,)"
            ]
          },
          "execution_count": 10,
          "metadata": {},
          "output_type": "execute_result"
        }
      ],
      "source": [
        "# Исправим дисбаланс в обучающей выборке,\n",
        "# валидировать и тестировать будем с оригинальным дисбалансом.\n",
        "\n",
        "X_train, y_train = downsample(X_train_, y_train_, 0.2)\n",
        "X_train.shape"
      ]
    },
    {
      "cell_type": "code",
      "execution_count": null,
      "metadata": {
        "id": "oqVBD0NbUhf3"
      },
      "outputs": [],
      "source": [
        "# Преобразовывать текст в Unicode для английского языка необязателено для работы моделей,\n",
        "# кроме того это занимает лишнюю память и может приводить к падению ядра.\n",
        "\n",
        "# corpus_train = X_train.values.astype('U')\n",
        "# corpus_test = X_test.values.astype('U')"
      ]
    },
    {
      "cell_type": "code",
      "execution_count": null,
      "metadata": {
        "id": "vJKGs93VUhf4"
      },
      "outputs": [],
      "source": [
        "# Создадим корпус: преобразуем столбец text в список текстов.\n",
        "\n",
        "corpus_train = X_train.values\n",
        "corpus_valid = X_valid.values\n",
        "corpus_test = X_test.values"
      ]
    },
    {
      "cell_type": "code",
      "execution_count": null,
      "metadata": {
        "id": "JOz6Co2nUhf5",
        "outputId": "d53b11a3-4770-4296-bc36-49f8b1256a64"
      },
      "outputs": [
        {
          "name": "stderr",
          "output_type": "stream",
          "text": [
            "[nltk_data] Downloading package stopwords to /home/jovyan/nltk_data...\n",
            "[nltk_data]   Package stopwords is already up-to-date!\n"
          ]
        }
      ],
      "source": [
        "# Создадим объект класса TfidfVectorizer.\n",
        "\n",
        "nltk.download('stopwords')\n",
        "stopwords = set(nltk_stopwords.words('english'))\n",
        "tf_idf = TfidfVectorizer(stop_words=stopwords)"
      ]
    },
    {
      "cell_type": "code",
      "execution_count": null,
      "metadata": {
        "id": "ZaNQZ8nJUhf5"
      },
      "outputs": [],
      "source": [
        "# Преобразуем текстовые признаки по методу TF-IDF.\n",
        "\n",
        "X_train_tf_idf = tf_idf.fit_transform(corpus_train)\n",
        "X_valid_tf_idf = tf_idf.transform(corpus_valid)\n",
        "X_test_tf_idf = tf_idf.transform(corpus_test)"
      ]
    },
    {
      "cell_type": "markdown",
      "metadata": {
        "id": "qesLMHaUUhf6"
      },
      "source": [
        "---"
      ]
    },
    {
      "cell_type": "markdown",
      "metadata": {
        "id": "desGXTyFUhf7"
      },
      "source": [
        "## Обучение"
      ]
    },
    {
      "cell_type": "markdown",
      "metadata": {
        "id": "lH_xw-T-Uhf7"
      },
      "source": [
        "### Логистическая регрессия"
      ]
    },
    {
      "cell_type": "code",
      "execution_count": null,
      "metadata": {
        "id": "RsI0YgHQUhgL",
        "outputId": "e9fd9e20-cb32-4282-bf48-d561cab20470"
      },
      "outputs": [
        {
          "data": {
            "text/plain": [
              "LogisticRegression(class_weight='balanced', random_state=12345)"
            ]
          },
          "execution_count": 15,
          "metadata": {},
          "output_type": "execute_result"
        }
      ],
      "source": [
        "# Обучим модель логистической ригрессии.\n",
        "\n",
        "model = LogisticRegression(class_weight='balanced',\n",
        "                           random_state=12345)\n",
        "model.fit(X_train_tf_idf, y_train)"
      ]
    },
    {
      "cell_type": "code",
      "execution_count": null,
      "metadata": {
        "id": "HTVvJdruUhgM",
        "outputId": "7617ef53-55a3-4a7d-af6e-01a68da54561"
      },
      "outputs": [
        {
          "name": "stdout",
          "output_type": "stream",
          "text": [
            "Значение метрики F1 на обучающей выборке: 0.71\n"
          ]
        }
      ],
      "source": [
        "# Проверка модели на валидационной выборке.\n",
        "\n",
        "predict_lr_valid = model.predict(X_valid_tf_idf)\n",
        "\n",
        "print(f'Значение метрики F1 на обучающей выборке: '\n",
        "      f'{round(f1_score(y_valid, predict_lr_valid), 2)}')"
      ]
    },
    {
      "cell_type": "code",
      "execution_count": null,
      "metadata": {
        "id": "LeX80XKpUhgO"
      },
      "outputs": [],
      "source": [
        "# Зададим параметры кросс-валидации.\n",
        "\n",
        "cv = StratifiedKFold(3, shuffle=True, random_state=12345)"
      ]
    },
    {
      "cell_type": "code",
      "execution_count": null,
      "metadata": {
        "id": "EyCVGZpUUhgO",
        "outputId": "d5fc3e13-54cc-4a05-b4c6-65ce90a17686"
      },
      "outputs": [
        {
          "name": "stdout",
          "output_type": "stream",
          "text": [
            "Значение метрики F1 на кросс-валидации: 0.85\n"
          ]
        }
      ],
      "source": [
        "# Проверка метрики F1 модели на кросс-валидации.\n",
        "\n",
        "f1_train = cross_val_score(model,\n",
        "                           X_train_tf_idf,\n",
        "                           y_train,\n",
        "                           cv=cv,\n",
        "                           scoring='f1')\n",
        "print(f'Значение метрики F1 на кросс-валидации: '\n",
        "      f'{round(min(f1_train), 2)}')"
      ]
    },
    {
      "cell_type": "code",
      "execution_count": null,
      "metadata": {
        "id": "lTGK7d5EUhgQ"
      },
      "outputs": [],
      "source": [
        "# Используем пайплайн вместе с кросс-валидацией\n",
        "\n",
        "reg = LogisticRegression(class_weight='balanced',\n",
        "                         random_state=12345)\n",
        "vect = TfidfVectorizer(stop_words=stopwords)\n",
        "\n",
        "pipe = Pipeline([\n",
        "                 ('vect', vect),\n",
        "                 ('reg', reg)\n",
        "])\n",
        "f1_pipe = cross_val_score(pipe,\n",
        "                          corpus_train,\n",
        "                          y_train,\n",
        "                          cv=cv,\n",
        "                          scoring='f1')\n"
      ]
    },
    {
      "cell_type": "code",
      "execution_count": null,
      "metadata": {
        "id": "Z0FxXHDXUhgR",
        "outputId": "aebdd29d-7d95-4aa0-e374-df8d417fb7d2"
      },
      "outputs": [
        {
          "data": {
            "text/plain": [
              "array([0.86320627, 0.85334419, 0.855378  ])"
            ]
          },
          "execution_count": 20,
          "metadata": {},
          "output_type": "execute_result"
        }
      ],
      "source": [
        "f1_pipe"
      ]
    },
    {
      "cell_type": "markdown",
      "metadata": {
        "id": "dCZU5b2aUhgW"
      },
      "source": [
        "---"
      ]
    },
    {
      "cell_type": "markdown",
      "metadata": {
        "id": "TzVHuHpXUhgW"
      },
      "source": [
        "### Модель бустинга"
      ]
    },
    {
      "cell_type": "code",
      "execution_count": null,
      "metadata": {
        "scrolled": true,
        "colab": {
          "referenced_widgets": [
            "c07a0080921c407fb82ce20b3e9c119e"
          ]
        },
        "id": "kxsynJTxUhgX",
        "outputId": "068cb3ee-2bc0-41e5-93aa-91ba8dc39345"
      },
      "outputs": [
        {
          "data": {
            "application/vnd.jupyter.widget-view+json": {
              "model_id": "c07a0080921c407fb82ce20b3e9c119e",
              "version_major": 2,
              "version_minor": 0
            },
            "text/plain": [
              "MetricVisualizer(layout=Layout(align_self='stretch', height='500px'))"
            ]
          },
          "metadata": {},
          "output_type": "display_data"
        },
        {
          "name": "stdout",
          "output_type": "stream",
          "text": [
            "\n",
            "bestTest = 0.5905433512\n",
            "bestIteration = 9\n",
            "\n",
            "0:\tloss: 0.5905434\tbest: 0.5905434 (0)\ttotal: 15.4s\tremaining: 30.9s\n",
            "\n",
            "bestTest = 0.4722614987\n",
            "bestIteration = 49\n",
            "\n",
            "1:\tloss: 0.4722615\tbest: 0.4722615 (1)\ttotal: 56.2s\tremaining: 28.1s\n",
            "\n",
            "bestTest = 0.4265190297\n",
            "bestIteration = 99\n",
            "\n",
            "2:\tloss: 0.4265190\tbest: 0.4265190 (2)\ttotal: 2m 18s\tremaining: 0us\n",
            "Estimating final quality...\n",
            "Training on fold [0/3]\n",
            "\n",
            "bestTest = 0.423154571\n",
            "bestIteration = 99\n",
            "\n",
            "Training on fold [1/3]\n",
            "\n",
            "bestTest = 0.4268953943\n",
            "bestIteration = 99\n",
            "\n",
            "Training on fold [2/3]\n",
            "\n",
            "bestTest = 0.4301041519\n",
            "bestIteration = 99\n",
            "\n"
          ]
        }
      ],
      "source": [
        "# Обучим модель бустинга.\n",
        "\n",
        "cat_model = CatBoostClassifier(iterations=10,\n",
        "                               loss_function='Logloss', # нет встроенной метрики F1\n",
        "                               verbose=False)\n",
        "# catboost.fit(X_train_tf_idf, y_train,\n",
        "#              verbose=False, plot=True)\n",
        "\n",
        "# Cоздаем словарь с гиперпараметрами\n",
        "grid = {'iterations': [10,50, 100],\n",
        "        #'learning_rate': [0.03,0.1],\n",
        "        #'depth': [8, 10]\n",
        "        }\n",
        "\n",
        "cat_grid = cat_model.grid_search(grid,\n",
        "                                 X=X_train_tf_idf,\n",
        "                                 y=y_train,\n",
        "                                 cv=cv,\n",
        "                                 plot=True)"
      ]
    },
    {
      "cell_type": "code",
      "execution_count": null,
      "metadata": {
        "id": "hADJNq52UhgX",
        "outputId": "e09f937c-9d72-4c3c-a64b-94a6368e1970"
      },
      "outputs": [
        {
          "name": "stdout",
          "output_type": "stream",
          "text": [
            "Лучший результат Logloss: 0.24\n",
            "Лучшие гиперпараметры: {'iterations': 100}\n"
          ]
        }
      ],
      "source": [
        "print('Лучший результат Logloss: {:.2}'.format(\n",
        "                    cat_model.best_score_['learn']['Logloss']))\n",
        "print(f\"Лучшие гиперпараметры: {cat_grid['params']}\")"
      ]
    },
    {
      "cell_type": "code",
      "execution_count": null,
      "metadata": {
        "id": "kDN6mpE4UhgY",
        "outputId": "ee3e2bb0-f560-4bee-8c71-86023c53394d"
      },
      "outputs": [
        {
          "name": "stdout",
          "output_type": "stream",
          "text": [
            "Значение метрики F1 на обучающей выборке: 0.76\n"
          ]
        }
      ],
      "source": [
        "# Проверка модели на валидационной выборке.\n",
        "\n",
        "predict_cat_valid = cat_model.predict(X_valid_tf_idf)\n",
        "\n",
        "print(f'Значение метрики F1 на обучающей выборке: '\n",
        "      f'{round(f1_score(y_valid, predict_cat_valid), 2)}')"
      ]
    },
    {
      "cell_type": "markdown",
      "metadata": {
        "id": "vLZ9uJwTUhgZ"
      },
      "source": [
        "***Заметки:***    \n",
        "Если делать кросс-валидацию на признаках TF-IDF, то произойдет **утечка тестовых данных**. Чтобы не попадала информация о словах из тестовой выборки в тренировочную, можно обучить `TfidfVectorizer` на тренировочной выборке, после чего трансформировать тестовую выборку. <br>\n",
        "При кросс-валидации тренировочная выборка делится на тренировочные фолды и тестовый фолд, при этом `TfidfVectorizer` обучается на всех фолдах в сумме. Решить проблему можно использую Pipelines, где получение признаков `TF-IDF` происходит каждый раз, когда выборка делится на тренировочные и тестовые фолды.\n",
        "\n",
        "```python\n",
        "from sklearn.feature_extraction.text import CountVectorizer\n",
        "\n",
        "pipeline = Pipeline([\n",
        "           ('vect', TfidfVectorizer()),\n",
        "           ('clf', SGDClassifier()),\n",
        "])\n",
        "parameters = [{\n",
        "    'vect__max_df': (0.5, 0.75, 1.0),\n",
        "    'vect__max_features': (None, 5000, 10000, 50000),\n",
        "    'vect__ngram_range': ((1, 1), (1, 2), (1,3),)  \n",
        "    'tfidf__use_idf': (True, False),\n",
        "    'tfidf__norm': ('l1', 'l2', None),\n",
        "    'clf__max_iter': (20,),\n",
        "    'clf__alpha': (0.00001, 0.000001),\n",
        "    'clf__penalty': ('l2', 'elasticnet'),\n",
        "    'clf__max_iter': (10, 50, 80)\n",
        "},{\n",
        "    'vect': (CountVectorizer(),)\n",
        "    # count_vect_params...\n",
        "    'clf__max_iter': (20,),\n",
        "    'clf__alpha': (0.00001, 0.000001),\n",
        "    'clf__penalty': ('l2', 'elasticnet'),\n",
        "    'clf__max_iter': (10, 50, 80)\n",
        "}]\n",
        "\n",
        "grid_search = GridSearchCV(pipeline, parameters)\n",
        "```\n",
        "\n",
        "</div>\n",
        "\n"
      ]
    },
    {
      "cell_type": "markdown",
      "metadata": {
        "id": "EngQ6Ff4Uhga"
      },
      "source": [
        "---"
      ]
    },
    {
      "cell_type": "markdown",
      "metadata": {
        "id": "9alNa7dOUhga"
      },
      "source": [
        "## Выводы"
      ]
    },
    {
      "cell_type": "markdown",
      "metadata": {
        "id": "5Tqz-MUvUhga"
      },
      "source": [
        "***Заметки:***\n",
        "* Лучшее занчение метрики F1 на валидационной выборке у модели бустинга (F1 = 0.76);\n",
        "* Балансировка классов методом \"уменьшения большего класса\" приводит к заметному улучшению метрики F1, кроме использовалась балансировка весов class_weight='balanced' при обучении логистической регрессии."
      ]
    },
    {
      "cell_type": "code",
      "execution_count": null,
      "metadata": {
        "id": "RCn7_zhEUhge",
        "outputId": "ea40d6f8-01e1-412d-b404-a92651c4f1af"
      },
      "outputs": [
        {
          "name": "stdout",
          "output_type": "stream",
          "text": [
            "Значение метрики F1 на тестовой выборке: 0.76\n",
            "CPU times: user 172 ms, sys: 15.1 ms, total: 187 ms\n",
            "Wall time: 185 ms\n"
          ]
        }
      ],
      "source": [
        "%%time\n",
        "# Проверка модели бустинга на тестовой выборке.\n",
        "\n",
        "predictions_cat = cat_model.predict(X_test_tf_idf)\n",
        "f1_cat_test = f1_score(y_test, predictions_cat)\n",
        "\n",
        "print(f'Значение метрики F1 на тестовой выборке: '\n",
        "      f'{round(f1_cat_test, 2)}')"
      ]
    },
    {
      "cell_type": "markdown",
      "metadata": {
        "id": "vPi0y38YUhgh"
      },
      "source": [
        "***Заключение:***\n",
        "Модель бустинга имеет на тестовой выборке значение метрики F1 = 0.76, что удовлетворяет заданному критерию точности.\n",
        "\n",
        "***Вывод:***\n",
        "\n",
        "Модель CatBoostClassifier с предобработкой признаков по методу TF-IDF даёт хорошие результаты и может быть использованна для классифицирования комментариев на позитивные и негативные.\n"
      ]
    },
    {
      "cell_type": "markdown",
      "metadata": {
        "id": "US_rTPteUhgh"
      },
      "source": [
        "---"
      ]
    },
    {
      "cell_type": "markdown",
      "metadata": {
        "id": "qVU6pomhUhgi"
      },
      "source": [
        "## Чек-лист проверки"
      ]
    },
    {
      "cell_type": "markdown",
      "metadata": {
        "id": "83VJduOnUhgj"
      },
      "source": [
        "- [x]  Jupyter Notebook открыт\n",
        "- [x]  Весь код выполняется без ошибок\n",
        "- [x]  Ячейки с кодом расположены в порядке исполнения\n",
        "- [x]  Данные загружены и подготовлены\n",
        "- [x]  Модели обучены\n",
        "- [x]  Значение метрики *F1* не меньше 0.75\n",
        "- [x]  Выводы написаны"
      ]
    }
  ],
  "metadata": {
    "ExecuteTimeLog": [
      {
        "duration": 72,
        "start_time": "2023-01-27T13:12:26.573Z"
      },
      {
        "duration": 1321,
        "start_time": "2023-01-27T13:12:28.534Z"
      },
      {
        "duration": 2400,
        "start_time": "2023-01-27T13:12:33.494Z"
      },
      {
        "duration": 787,
        "start_time": "2023-01-27T13:12:56.479Z"
      },
      {
        "duration": 17,
        "start_time": "2023-01-27T13:13:25.952Z"
      },
      {
        "duration": 78,
        "start_time": "2023-01-27T13:16:11.724Z"
      },
      {
        "duration": 9,
        "start_time": "2023-01-27T13:16:15.176Z"
      },
      {
        "duration": 4,
        "start_time": "2023-01-27T13:16:17.984Z"
      },
      {
        "duration": 731,
        "start_time": "2023-01-27T13:17:32.489Z"
      },
      {
        "duration": 11,
        "start_time": "2023-01-27T13:17:36.551Z"
      },
      {
        "duration": 501,
        "start_time": "2023-01-27T13:20:26.496Z"
      },
      {
        "duration": 86,
        "start_time": "2023-01-27T13:23:37.454Z"
      },
      {
        "duration": 22,
        "start_time": "2023-01-27T13:23:41.619Z"
      },
      {
        "duration": 4,
        "start_time": "2023-01-27T13:32:03.700Z"
      },
      {
        "duration": 4,
        "start_time": "2023-01-27T13:32:28.169Z"
      },
      {
        "duration": 3,
        "start_time": "2023-01-27T13:33:24.344Z"
      },
      {
        "duration": 5,
        "start_time": "2023-01-27T13:33:46.606Z"
      },
      {
        "duration": 5,
        "start_time": "2023-01-27T13:34:04.217Z"
      },
      {
        "duration": 5,
        "start_time": "2023-01-27T13:35:10.922Z"
      },
      {
        "duration": 5,
        "start_time": "2023-01-27T13:35:19.343Z"
      },
      {
        "duration": 9,
        "start_time": "2023-01-27T13:35:33.008Z"
      },
      {
        "duration": 1308,
        "start_time": "2023-01-27T14:09:02.538Z"
      },
      {
        "duration": 839,
        "start_time": "2023-01-27T14:09:03.848Z"
      },
      {
        "duration": 118,
        "start_time": "2023-01-27T14:09:04.688Z"
      },
      {
        "duration": 0,
        "start_time": "2023-01-27T14:09:04.808Z"
      },
      {
        "duration": 0,
        "start_time": "2023-01-27T14:09:04.810Z"
      },
      {
        "duration": 0,
        "start_time": "2023-01-27T14:09:04.811Z"
      },
      {
        "duration": 0,
        "start_time": "2023-01-27T14:09:04.812Z"
      },
      {
        "duration": 20,
        "start_time": "2023-01-27T14:09:21.325Z"
      },
      {
        "duration": 10,
        "start_time": "2023-01-27T14:09:31.958Z"
      },
      {
        "duration": 375,
        "start_time": "2023-01-27T14:09:43.309Z"
      },
      {
        "duration": 3,
        "start_time": "2023-01-27T14:09:47.750Z"
      },
      {
        "duration": 5,
        "start_time": "2023-01-27T14:09:52.211Z"
      },
      {
        "duration": 73,
        "start_time": "2023-01-27T14:10:10.412Z"
      },
      {
        "duration": 4,
        "start_time": "2023-01-27T14:11:07.989Z"
      },
      {
        "duration": 5,
        "start_time": "2023-01-27T14:11:12.921Z"
      },
      {
        "duration": 81,
        "start_time": "2023-01-27T14:11:14.901Z"
      },
      {
        "duration": 38,
        "start_time": "2023-01-27T14:11:33.691Z"
      },
      {
        "duration": 1303,
        "start_time": "2023-01-27T14:20:48.708Z"
      },
      {
        "duration": 816,
        "start_time": "2023-01-27T14:20:50.013Z"
      },
      {
        "duration": 16,
        "start_time": "2023-01-27T14:20:50.830Z"
      },
      {
        "duration": 295,
        "start_time": "2023-01-27T14:20:50.848Z"
      },
      {
        "duration": 2,
        "start_time": "2023-01-27T14:20:51.145Z"
      },
      {
        "duration": 12,
        "start_time": "2023-01-27T14:20:51.148Z"
      },
      {
        "duration": 53,
        "start_time": "2023-01-27T14:20:51.161Z"
      },
      {
        "duration": 231,
        "start_time": "2023-01-27T14:20:51.216Z"
      },
      {
        "duration": 5,
        "start_time": "2023-01-27T14:27:07.054Z"
      },
      {
        "duration": 113,
        "start_time": "2023-01-27T14:34:47.429Z"
      },
      {
        "duration": 5,
        "start_time": "2023-01-27T14:34:57.316Z"
      },
      {
        "duration": 44,
        "start_time": "2023-01-27T14:35:00.026Z"
      },
      {
        "duration": 6,
        "start_time": "2023-01-27T14:35:02.835Z"
      },
      {
        "duration": 116,
        "start_time": "2023-01-27T14:45:38.982Z"
      },
      {
        "duration": 4,
        "start_time": "2023-01-27T14:45:45.087Z"
      },
      {
        "duration": 36,
        "start_time": "2023-01-27T14:45:52.000Z"
      },
      {
        "duration": 23,
        "start_time": "2023-01-27T14:46:17.064Z"
      },
      {
        "duration": 21,
        "start_time": "2023-01-27T14:46:32.375Z"
      },
      {
        "duration": 387,
        "start_time": "2023-01-27T14:48:23.595Z"
      },
      {
        "duration": 395,
        "start_time": "2023-01-27T14:48:32.016Z"
      },
      {
        "duration": 539,
        "start_time": "2023-01-27T14:48:55.745Z"
      },
      {
        "duration": 2642,
        "start_time": "2023-01-27T14:50:30.790Z"
      },
      {
        "duration": 24800,
        "start_time": "2023-01-27T14:51:34.381Z"
      },
      {
        "duration": 5,
        "start_time": "2023-01-27T14:52:39.431Z"
      },
      {
        "duration": 16,
        "start_time": "2023-01-27T14:55:00.831Z"
      },
      {
        "duration": 5,
        "start_time": "2023-01-27T14:55:06.110Z"
      },
      {
        "duration": 15,
        "start_time": "2023-01-27T14:55:09.554Z"
      },
      {
        "duration": 11144,
        "start_time": "2023-01-27T14:59:34.044Z"
      },
      {
        "duration": 3,
        "start_time": "2023-01-27T15:15:27.958Z"
      },
      {
        "duration": 1688,
        "start_time": "2023-01-27T15:17:56.957Z"
      },
      {
        "duration": 796,
        "start_time": "2023-01-27T15:17:58.647Z"
      },
      {
        "duration": 17,
        "start_time": "2023-01-27T15:17:59.444Z"
      },
      {
        "duration": 307,
        "start_time": "2023-01-27T15:17:59.462Z"
      },
      {
        "duration": 20,
        "start_time": "2023-01-27T15:17:59.771Z"
      },
      {
        "duration": 9,
        "start_time": "2023-01-27T15:17:59.793Z"
      },
      {
        "duration": 55,
        "start_time": "2023-01-27T15:17:59.804Z"
      },
      {
        "duration": 97,
        "start_time": "2023-01-27T15:17:59.861Z"
      },
      {
        "duration": 539,
        "start_time": "2023-01-27T15:17:59.960Z"
      },
      {
        "duration": 201,
        "start_time": "2023-01-27T15:18:00.501Z"
      },
      {
        "duration": 2493,
        "start_time": "2023-01-27T15:18:00.704Z"
      },
      {
        "duration": 9304,
        "start_time": "2023-01-27T15:18:03.200Z"
      },
      {
        "duration": 25206,
        "start_time": "2023-01-27T15:18:12.585Z"
      },
      {
        "duration": 94,
        "start_time": "2023-01-27T15:18:37.794Z"
      },
      {
        "duration": 4,
        "start_time": "2023-01-27T15:18:55.017Z"
      },
      {
        "duration": 90188,
        "start_time": "2023-01-27T15:20:10.899Z"
      },
      {
        "duration": 1317,
        "start_time": "2023-01-27T15:30:35.310Z"
      },
      {
        "duration": 842,
        "start_time": "2023-01-27T15:30:36.629Z"
      },
      {
        "duration": 33,
        "start_time": "2023-01-27T15:30:37.473Z"
      },
      {
        "duration": 292,
        "start_time": "2023-01-27T15:30:37.508Z"
      },
      {
        "duration": 2,
        "start_time": "2023-01-27T15:30:37.803Z"
      },
      {
        "duration": 18,
        "start_time": "2023-01-27T15:30:37.807Z"
      },
      {
        "duration": 50,
        "start_time": "2023-01-27T15:30:37.827Z"
      },
      {
        "duration": 105,
        "start_time": "2023-01-27T15:30:37.879Z"
      },
      {
        "duration": 538,
        "start_time": "2023-01-27T15:30:37.986Z"
      },
      {
        "duration": 155,
        "start_time": "2023-01-27T15:30:38.526Z"
      },
      {
        "duration": 2515,
        "start_time": "2023-01-27T15:30:38.683Z"
      },
      {
        "duration": 6591,
        "start_time": "2023-01-27T15:30:41.201Z"
      },
      {
        "duration": 66996,
        "start_time": "2023-01-27T15:30:47.794Z"
      },
      {
        "duration": 101,
        "start_time": "2023-01-27T15:31:54.793Z"
      },
      {
        "duration": 22,
        "start_time": "2023-01-27T15:40:06.606Z"
      },
      {
        "duration": 17,
        "start_time": "2023-01-27T15:44:11.938Z"
      },
      {
        "duration": 16,
        "start_time": "2023-01-27T15:44:28.065Z"
      },
      {
        "duration": 1218,
        "start_time": "2023-01-27T15:45:32.321Z"
      },
      {
        "duration": 864,
        "start_time": "2023-01-27T15:45:33.541Z"
      },
      {
        "duration": 17,
        "start_time": "2023-01-27T15:45:34.406Z"
      },
      {
        "duration": 281,
        "start_time": "2023-01-27T15:45:34.425Z"
      },
      {
        "duration": 3,
        "start_time": "2023-01-27T15:45:34.709Z"
      },
      {
        "duration": 16,
        "start_time": "2023-01-27T15:45:34.713Z"
      },
      {
        "duration": 54,
        "start_time": "2023-01-27T15:45:34.731Z"
      },
      {
        "duration": 113,
        "start_time": "2023-01-27T15:45:34.786Z"
      },
      {
        "duration": 569,
        "start_time": "2023-01-27T15:45:34.901Z"
      },
      {
        "duration": 220,
        "start_time": "2023-01-27T15:45:35.472Z"
      },
      {
        "duration": 2596,
        "start_time": "2023-01-27T15:45:35.694Z"
      },
      {
        "duration": 8890,
        "start_time": "2023-01-27T15:45:38.292Z"
      },
      {
        "duration": 17,
        "start_time": "2023-01-27T15:45:47.184Z"
      },
      {
        "duration": 51678,
        "start_time": "2023-01-27T15:45:47.203Z"
      },
      {
        "duration": 14,
        "start_time": "2023-01-27T15:46:38.883Z"
      },
      {
        "duration": 1380,
        "start_time": "2023-01-27T16:15:42.348Z"
      },
      {
        "duration": 899,
        "start_time": "2023-01-27T16:15:43.730Z"
      },
      {
        "duration": 18,
        "start_time": "2023-01-27T16:15:44.630Z"
      },
      {
        "duration": 300,
        "start_time": "2023-01-27T16:15:44.650Z"
      },
      {
        "duration": 2,
        "start_time": "2023-01-27T16:15:44.953Z"
      },
      {
        "duration": 12,
        "start_time": "2023-01-27T16:15:44.957Z"
      },
      {
        "duration": 60,
        "start_time": "2023-01-27T16:15:44.970Z"
      },
      {
        "duration": 113,
        "start_time": "2023-01-27T16:15:45.032Z"
      },
      {
        "duration": 572,
        "start_time": "2023-01-27T16:15:45.146Z"
      },
      {
        "duration": 159,
        "start_time": "2023-01-27T16:15:45.719Z"
      },
      {
        "duration": 2608,
        "start_time": "2023-01-27T16:15:45.879Z"
      },
      {
        "duration": 5394,
        "start_time": "2023-01-27T16:15:48.488Z"
      },
      {
        "duration": 99,
        "start_time": "2023-01-27T16:15:53.884Z"
      },
      {
        "duration": 55196,
        "start_time": "2023-01-27T16:15:53.986Z"
      },
      {
        "duration": 17,
        "start_time": "2023-01-27T16:16:49.185Z"
      },
      {
        "duration": 142,
        "start_time": "2023-01-27T16:21:37.352Z"
      },
      {
        "duration": 1358,
        "start_time": "2023-01-27T16:30:41.802Z"
      },
      {
        "duration": 867,
        "start_time": "2023-01-27T16:30:43.162Z"
      },
      {
        "duration": 16,
        "start_time": "2023-01-27T16:30:44.031Z"
      },
      {
        "duration": 368,
        "start_time": "2023-01-27T16:30:44.049Z"
      },
      {
        "duration": 2,
        "start_time": "2023-01-27T16:30:44.420Z"
      },
      {
        "duration": 8,
        "start_time": "2023-01-27T16:30:44.424Z"
      },
      {
        "duration": 63,
        "start_time": "2023-01-27T16:30:44.434Z"
      },
      {
        "duration": 24,
        "start_time": "2023-01-27T16:30:44.499Z"
      },
      {
        "duration": 575,
        "start_time": "2023-01-27T16:30:44.524Z"
      },
      {
        "duration": 153,
        "start_time": "2023-01-27T16:30:45.100Z"
      },
      {
        "duration": 2601,
        "start_time": "2023-01-27T16:30:45.255Z"
      },
      {
        "duration": 8433,
        "start_time": "2023-01-27T16:30:47.857Z"
      },
      {
        "duration": 23,
        "start_time": "2023-01-27T16:30:56.381Z"
      },
      {
        "duration": 56974,
        "start_time": "2023-01-27T16:30:56.407Z"
      },
      {
        "duration": 15,
        "start_time": "2023-01-27T16:31:53.384Z"
      },
      {
        "duration": 188,
        "start_time": "2023-01-27T16:31:53.400Z"
      },
      {
        "duration": 727,
        "start_time": "2023-01-27T16:32:31.720Z"
      },
      {
        "duration": 1355,
        "start_time": "2023-01-27T16:38:51.690Z"
      },
      {
        "duration": 882,
        "start_time": "2023-01-27T16:38:53.047Z"
      },
      {
        "duration": 18,
        "start_time": "2023-01-27T16:38:53.931Z"
      },
      {
        "duration": 395,
        "start_time": "2023-01-27T16:38:53.951Z"
      },
      {
        "duration": 3,
        "start_time": "2023-01-27T16:38:54.348Z"
      },
      {
        "duration": 30,
        "start_time": "2023-01-27T16:38:54.352Z"
      },
      {
        "duration": 69,
        "start_time": "2023-01-27T16:38:54.384Z"
      },
      {
        "duration": 26,
        "start_time": "2023-01-27T16:38:54.455Z"
      },
      {
        "duration": 560,
        "start_time": "2023-01-27T16:38:54.483Z"
      },
      {
        "duration": 209,
        "start_time": "2023-01-27T16:38:55.047Z"
      },
      {
        "duration": 2612,
        "start_time": "2023-01-27T16:38:55.258Z"
      },
      {
        "duration": 9414,
        "start_time": "2023-01-27T16:38:57.872Z"
      },
      {
        "duration": 105,
        "start_time": "2023-01-27T16:39:07.287Z"
      },
      {
        "duration": 60892,
        "start_time": "2023-01-27T16:39:07.394Z"
      },
      {
        "duration": 102,
        "start_time": "2023-01-27T16:40:08.288Z"
      },
      {
        "duration": 769,
        "start_time": "2023-01-27T16:40:08.391Z"
      },
      {
        "duration": 82,
        "start_time": "2023-01-27T16:44:12.917Z"
      },
      {
        "duration": 4,
        "start_time": "2023-01-27T16:45:58.067Z"
      },
      {
        "duration": 1367,
        "start_time": "2023-01-27T16:53:44.368Z"
      },
      {
        "duration": 876,
        "start_time": "2023-01-27T16:53:45.737Z"
      },
      {
        "duration": 18,
        "start_time": "2023-01-27T16:53:46.615Z"
      },
      {
        "duration": 418,
        "start_time": "2023-01-27T16:53:46.635Z"
      },
      {
        "duration": 3,
        "start_time": "2023-01-27T16:53:47.056Z"
      },
      {
        "duration": 31,
        "start_time": "2023-01-27T16:53:47.061Z"
      },
      {
        "duration": 62,
        "start_time": "2023-01-27T16:53:47.094Z"
      },
      {
        "duration": 24,
        "start_time": "2023-01-27T16:53:47.157Z"
      },
      {
        "duration": 580,
        "start_time": "2023-01-27T16:53:47.183Z"
      },
      {
        "duration": 238,
        "start_time": "2023-01-27T16:53:47.764Z"
      },
      {
        "duration": 2590,
        "start_time": "2023-01-27T16:53:48.004Z"
      },
      {
        "duration": 9595,
        "start_time": "2023-01-27T16:53:50.596Z"
      },
      {
        "duration": 17,
        "start_time": "2023-01-27T16:54:00.281Z"
      },
      {
        "duration": 1439,
        "start_time": "2023-01-27T16:54:38.528Z"
      },
      {
        "duration": 891,
        "start_time": "2023-01-27T16:54:39.970Z"
      },
      {
        "duration": 24,
        "start_time": "2023-01-27T16:54:40.863Z"
      },
      {
        "duration": 361,
        "start_time": "2023-01-27T16:54:40.889Z"
      },
      {
        "duration": 3,
        "start_time": "2023-01-27T16:54:41.252Z"
      },
      {
        "duration": 11,
        "start_time": "2023-01-27T16:54:41.258Z"
      },
      {
        "duration": 56,
        "start_time": "2023-01-27T16:54:41.271Z"
      },
      {
        "duration": 23,
        "start_time": "2023-01-27T16:54:41.329Z"
      },
      {
        "duration": 598,
        "start_time": "2023-01-27T16:54:41.354Z"
      },
      {
        "duration": 229,
        "start_time": "2023-01-27T16:54:41.954Z"
      },
      {
        "duration": 2626,
        "start_time": "2023-01-27T16:54:42.185Z"
      },
      {
        "duration": 10079,
        "start_time": "2023-01-27T16:54:44.813Z"
      },
      {
        "duration": 17,
        "start_time": "2023-01-27T16:54:54.982Z"
      },
      {
        "duration": 2,
        "start_time": "2023-01-27T16:54:55.001Z"
      },
      {
        "duration": 25,
        "start_time": "2023-01-27T16:54:55.005Z"
      },
      {
        "duration": 14963,
        "start_time": "2023-01-27T16:54:55.032Z"
      },
      {
        "duration": 15100,
        "start_time": "2023-01-27T16:56:02.501Z"
      },
      {
        "duration": 5,
        "start_time": "2023-01-27T16:56:32.913Z"
      },
      {
        "duration": 789,
        "start_time": "2023-01-27T16:56:50.747Z"
      },
      {
        "duration": 729,
        "start_time": "2023-01-27T16:57:06.859Z"
      },
      {
        "duration": 87,
        "start_time": "2023-01-27T16:57:20.396Z"
      },
      {
        "duration": 103,
        "start_time": "2023-01-27T17:00:51.375Z"
      },
      {
        "duration": 103,
        "start_time": "2023-01-27T17:01:24.228Z"
      },
      {
        "duration": 4,
        "start_time": "2023-01-27T17:02:03.559Z"
      },
      {
        "duration": 178836,
        "start_time": "2023-01-27T17:02:05.557Z"
      },
      {
        "duration": 11,
        "start_time": "2023-01-27T17:05:43.809Z"
      },
      {
        "duration": 7,
        "start_time": "2023-01-27T17:09:46.373Z"
      },
      {
        "duration": 9,
        "start_time": "2023-01-27T17:10:18.452Z"
      },
      {
        "duration": 10,
        "start_time": "2023-01-27T17:10:39.351Z"
      },
      {
        "duration": 2,
        "start_time": "2023-01-27T17:12:11.804Z"
      },
      {
        "duration": 211,
        "start_time": "2023-01-27T17:16:54.441Z"
      },
      {
        "duration": 4,
        "start_time": "2023-01-27T17:17:03.589Z"
      },
      {
        "duration": 1440,
        "start_time": "2023-01-27T17:27:14.814Z"
      },
      {
        "duration": 956,
        "start_time": "2023-01-27T17:27:16.256Z"
      },
      {
        "duration": 16,
        "start_time": "2023-01-27T17:27:17.214Z"
      },
      {
        "duration": 367,
        "start_time": "2023-01-27T17:27:17.233Z"
      },
      {
        "duration": 3,
        "start_time": "2023-01-27T17:27:17.601Z"
      },
      {
        "duration": 9,
        "start_time": "2023-01-27T17:27:17.605Z"
      },
      {
        "duration": 53,
        "start_time": "2023-01-27T17:27:17.616Z"
      },
      {
        "duration": 29,
        "start_time": "2023-01-27T17:27:17.670Z"
      },
      {
        "duration": 584,
        "start_time": "2023-01-27T17:27:17.700Z"
      },
      {
        "duration": 139,
        "start_time": "2023-01-27T17:27:18.287Z"
      },
      {
        "duration": 2558,
        "start_time": "2023-01-27T17:27:18.427Z"
      },
      {
        "duration": 7501,
        "start_time": "2023-01-27T17:27:20.987Z"
      },
      {
        "duration": 103,
        "start_time": "2023-01-27T17:27:28.493Z"
      },
      {
        "duration": 3,
        "start_time": "2023-01-27T17:27:28.598Z"
      },
      {
        "duration": 9,
        "start_time": "2023-01-27T17:27:28.603Z"
      },
      {
        "duration": 22,
        "start_time": "2023-01-27T17:27:28.613Z"
      },
      {
        "duration": 52,
        "start_time": "2023-01-27T17:27:28.637Z"
      },
      {
        "duration": 0,
        "start_time": "2023-01-27T17:27:28.691Z"
      },
      {
        "duration": 0,
        "start_time": "2023-01-27T17:27:28.693Z"
      },
      {
        "duration": 38,
        "start_time": "2023-01-27T17:28:18.362Z"
      },
      {
        "duration": 1431,
        "start_time": "2023-01-27T18:05:48.842Z"
      },
      {
        "duration": 925,
        "start_time": "2023-01-27T18:05:50.275Z"
      },
      {
        "duration": 18,
        "start_time": "2023-01-27T18:05:51.202Z"
      },
      {
        "duration": 383,
        "start_time": "2023-01-27T18:05:51.221Z"
      },
      {
        "duration": 3,
        "start_time": "2023-01-27T18:05:51.606Z"
      },
      {
        "duration": 23,
        "start_time": "2023-01-27T18:05:51.611Z"
      },
      {
        "duration": 72,
        "start_time": "2023-01-27T18:05:51.636Z"
      },
      {
        "duration": 23,
        "start_time": "2023-01-27T18:05:51.710Z"
      },
      {
        "duration": 611,
        "start_time": "2023-01-27T18:05:51.735Z"
      },
      {
        "duration": 206,
        "start_time": "2023-01-27T18:05:52.348Z"
      },
      {
        "duration": 2622,
        "start_time": "2023-01-27T18:05:52.556Z"
      },
      {
        "duration": 7407,
        "start_time": "2023-01-27T18:05:55.179Z"
      },
      {
        "duration": 223,
        "start_time": "2023-01-27T18:06:02.588Z"
      },
      {
        "duration": 0,
        "start_time": "2023-01-27T18:06:02.813Z"
      },
      {
        "duration": 0,
        "start_time": "2023-01-27T18:06:02.814Z"
      },
      {
        "duration": 0,
        "start_time": "2023-01-27T18:06:02.815Z"
      },
      {
        "duration": 0,
        "start_time": "2023-01-27T18:06:02.816Z"
      },
      {
        "duration": 0,
        "start_time": "2023-01-27T18:06:02.817Z"
      },
      {
        "duration": 0,
        "start_time": "2023-01-27T18:06:02.818Z"
      },
      {
        "duration": 1,
        "start_time": "2023-01-27T18:06:02.818Z"
      },
      {
        "duration": 0,
        "start_time": "2023-01-27T18:06:02.820Z"
      },
      {
        "duration": 17,
        "start_time": "2023-01-27T18:06:40.453Z"
      },
      {
        "duration": 3,
        "start_time": "2023-01-27T18:06:46.156Z"
      },
      {
        "duration": 20942,
        "start_time": "2023-01-27T18:06:54.551Z"
      },
      {
        "duration": 105,
        "start_time": "2023-01-27T18:07:21.137Z"
      },
      {
        "duration": 67,
        "start_time": "2023-01-27T18:10:58.930Z"
      },
      {
        "duration": 69,
        "start_time": "2023-01-27T18:11:52.878Z"
      },
      {
        "duration": 88,
        "start_time": "2023-01-27T18:12:07.113Z"
      },
      {
        "duration": 3,
        "start_time": "2023-01-27T18:12:35.303Z"
      },
      {
        "duration": 75,
        "start_time": "2023-01-27T18:12:45.424Z"
      },
      {
        "duration": 3,
        "start_time": "2023-01-27T18:13:13.843Z"
      },
      {
        "duration": 5,
        "start_time": "2023-01-27T18:13:28.192Z"
      },
      {
        "duration": 67,
        "start_time": "2023-01-27T18:14:35.420Z"
      },
      {
        "duration": 75,
        "start_time": "2023-01-27T18:15:00.151Z"
      },
      {
        "duration": 77,
        "start_time": "2023-01-27T18:15:10.776Z"
      },
      {
        "duration": 3,
        "start_time": "2023-01-27T18:15:20.434Z"
      },
      {
        "duration": 74,
        "start_time": "2023-01-27T18:19:03.003Z"
      },
      {
        "duration": 98,
        "start_time": "2023-01-27T18:19:46.963Z"
      },
      {
        "duration": 76,
        "start_time": "2023-01-27T18:20:08.732Z"
      },
      {
        "duration": 79,
        "start_time": "2023-01-27T18:20:33.751Z"
      },
      {
        "duration": 10,
        "start_time": "2023-01-27T18:20:49.811Z"
      },
      {
        "duration": 2,
        "start_time": "2023-01-27T18:21:01.672Z"
      },
      {
        "duration": 4,
        "start_time": "2023-01-27T18:21:19.371Z"
      },
      {
        "duration": 4,
        "start_time": "2023-01-27T18:21:26.531Z"
      },
      {
        "duration": 9,
        "start_time": "2023-01-27T18:22:12.239Z"
      },
      {
        "duration": 13,
        "start_time": "2023-01-27T18:22:18.099Z"
      },
      {
        "duration": 3,
        "start_time": "2023-01-27T18:23:22.727Z"
      },
      {
        "duration": 4,
        "start_time": "2023-01-27T18:23:26.673Z"
      },
      {
        "duration": 3,
        "start_time": "2023-01-27T18:23:41.666Z"
      },
      {
        "duration": 96,
        "start_time": "2023-01-27T18:23:58.038Z"
      },
      {
        "duration": 3,
        "start_time": "2023-01-27T18:24:22.460Z"
      },
      {
        "duration": 4,
        "start_time": "2023-01-27T18:25:45.514Z"
      },
      {
        "duration": 88,
        "start_time": "2023-01-27T18:26:05.679Z"
      },
      {
        "duration": 3,
        "start_time": "2023-01-27T18:26:25.255Z"
      },
      {
        "duration": 4,
        "start_time": "2023-01-27T18:27:01.918Z"
      },
      {
        "duration": 74,
        "start_time": "2023-01-27T18:27:12.570Z"
      },
      {
        "duration": 11,
        "start_time": "2023-01-27T18:27:31.151Z"
      },
      {
        "duration": 70,
        "start_time": "2023-01-27T18:27:39.070Z"
      },
      {
        "duration": 152,
        "start_time": "2023-01-27T18:27:44.992Z"
      },
      {
        "duration": 79,
        "start_time": "2023-01-27T18:27:52.919Z"
      },
      {
        "duration": 75,
        "start_time": "2023-01-27T18:28:12.113Z"
      },
      {
        "duration": 113,
        "start_time": "2023-01-27T18:28:53.398Z"
      },
      {
        "duration": 19,
        "start_time": "2023-01-27T18:29:25.594Z"
      },
      {
        "duration": 242,
        "start_time": "2023-01-27T18:33:17.891Z"
      },
      {
        "duration": 1574,
        "start_time": "2023-01-27T18:37:52.211Z"
      },
      {
        "duration": 958,
        "start_time": "2023-01-27T18:37:53.788Z"
      },
      {
        "duration": 17,
        "start_time": "2023-01-27T18:37:54.747Z"
      },
      {
        "duration": 406,
        "start_time": "2023-01-27T18:37:54.766Z"
      },
      {
        "duration": 14,
        "start_time": "2023-01-27T18:37:55.175Z"
      },
      {
        "duration": 10,
        "start_time": "2023-01-27T18:37:55.191Z"
      },
      {
        "duration": 49,
        "start_time": "2023-01-27T18:37:55.203Z"
      },
      {
        "duration": 29,
        "start_time": "2023-01-27T18:37:55.253Z"
      },
      {
        "duration": 598,
        "start_time": "2023-01-27T18:37:55.284Z"
      },
      {
        "duration": 135,
        "start_time": "2023-01-27T18:37:55.884Z"
      },
      {
        "duration": 2743,
        "start_time": "2023-01-27T18:37:56.021Z"
      },
      {
        "duration": 12320,
        "start_time": "2023-01-27T18:37:58.766Z"
      },
      {
        "duration": 17,
        "start_time": "2023-01-27T18:38:11.087Z"
      },
      {
        "duration": 3,
        "start_time": "2023-01-27T18:38:11.106Z"
      },
      {
        "duration": 33277,
        "start_time": "2023-01-27T18:38:11.111Z"
      },
      {
        "duration": 209227,
        "start_time": "2023-01-27T18:38:44.389Z"
      },
      {
        "duration": 3,
        "start_time": "2023-01-27T18:42:13.618Z"
      },
      {
        "duration": 276,
        "start_time": "2023-01-27T18:42:13.622Z"
      },
      {
        "duration": 12,
        "start_time": "2023-01-27T18:42:13.899Z"
      },
      {
        "duration": 158,
        "start_time": "2023-01-27T18:42:13.912Z"
      },
      {
        "duration": 26,
        "start_time": "2023-01-27T18:42:14.072Z"
      },
      {
        "duration": 1391,
        "start_time": "2023-01-31T10:00:39.749Z"
      },
      {
        "duration": 3349,
        "start_time": "2023-01-31T10:00:41.142Z"
      },
      {
        "duration": 21,
        "start_time": "2023-01-31T10:00:44.493Z"
      },
      {
        "duration": 596,
        "start_time": "2023-01-31T10:00:44.516Z"
      },
      {
        "duration": 3,
        "start_time": "2023-01-31T10:00:45.114Z"
      },
      {
        "duration": 24,
        "start_time": "2023-01-31T10:00:45.119Z"
      },
      {
        "duration": 28,
        "start_time": "2023-01-31T10:00:45.145Z"
      },
      {
        "duration": 238,
        "start_time": "2023-01-31T10:00:49.389Z"
      },
      {
        "duration": 102,
        "start_time": "2023-01-31T10:01:20.404Z"
      },
      {
        "duration": 30,
        "start_time": "2023-01-31T10:01:32.914Z"
      },
      {
        "duration": 83,
        "start_time": "2023-01-31T10:02:01.903Z"
      },
      {
        "duration": 42,
        "start_time": "2023-01-31T10:02:04.765Z"
      },
      {
        "duration": 91,
        "start_time": "2023-01-31T10:02:31.524Z"
      },
      {
        "duration": 36,
        "start_time": "2023-01-31T10:02:35.194Z"
      },
      {
        "duration": 973,
        "start_time": "2023-01-31T10:02:40.893Z"
      },
      {
        "duration": 73,
        "start_time": "2023-01-31T10:03:45.804Z"
      },
      {
        "duration": 242,
        "start_time": "2023-01-31T10:03:58.855Z"
      },
      {
        "duration": 3879,
        "start_time": "2023-01-31T10:04:37.295Z"
      },
      {
        "duration": 3793,
        "start_time": "2023-01-31T10:04:49.655Z"
      },
      {
        "duration": 12194,
        "start_time": "2023-01-31T10:05:49.620Z"
      },
      {
        "duration": 17,
        "start_time": "2023-01-31T10:06:17.979Z"
      },
      {
        "duration": 14,
        "start_time": "2023-01-31T10:07:36.547Z"
      },
      {
        "duration": 3,
        "start_time": "2023-01-31T10:08:37.364Z"
      },
      {
        "duration": 28654,
        "start_time": "2023-01-31T10:08:39.352Z"
      },
      {
        "duration": 19,
        "start_time": "2023-01-31T10:11:18.131Z"
      },
      {
        "duration": 207346,
        "start_time": "2023-01-31T10:17:17.156Z"
      },
      {
        "duration": 4,
        "start_time": "2023-01-31T10:21:18.436Z"
      },
      {
        "duration": 250,
        "start_time": "2023-01-31T10:21:50.190Z"
      },
      {
        "duration": 1606,
        "start_time": "2023-01-31T12:41:36.283Z"
      },
      {
        "duration": 1472,
        "start_time": "2023-01-31T12:55:44.600Z"
      },
      {
        "duration": 2513,
        "start_time": "2023-01-31T12:55:46.074Z"
      },
      {
        "duration": 18,
        "start_time": "2023-01-31T12:55:48.589Z"
      },
      {
        "duration": 594,
        "start_time": "2023-01-31T12:55:48.610Z"
      },
      {
        "duration": 4,
        "start_time": "2023-01-31T12:55:49.207Z"
      },
      {
        "duration": 8,
        "start_time": "2023-01-31T12:55:49.213Z"
      },
      {
        "duration": 11,
        "start_time": "2023-01-31T12:55:49.223Z"
      },
      {
        "duration": 19,
        "start_time": "2023-01-31T12:55:49.236Z"
      },
      {
        "duration": 129,
        "start_time": "2023-01-31T12:55:49.257Z"
      },
      {
        "duration": 44,
        "start_time": "2023-01-31T12:55:49.391Z"
      },
      {
        "duration": 2,
        "start_time": "2023-01-31T12:55:49.437Z"
      },
      {
        "duration": 7,
        "start_time": "2023-01-31T12:55:49.441Z"
      },
      {
        "duration": 221,
        "start_time": "2023-01-31T12:55:49.450Z"
      },
      {
        "duration": 3545,
        "start_time": "2023-01-31T12:55:49.674Z"
      },
      {
        "duration": 12783,
        "start_time": "2023-01-31T12:55:53.221Z"
      },
      {
        "duration": 188,
        "start_time": "2023-01-31T12:56:06.006Z"
      },
      {
        "duration": 3,
        "start_time": "2023-01-31T12:56:06.197Z"
      },
      {
        "duration": 21,
        "start_time": "2023-01-31T12:56:06.202Z"
      },
      {
        "duration": 3,
        "start_time": "2023-01-31T12:56:16.880Z"
      },
      {
        "duration": 3,
        "start_time": "2023-01-31T12:56:21.933Z"
      },
      {
        "duration": 1331,
        "start_time": "2023-01-31T13:08:46.348Z"
      },
      {
        "duration": 852,
        "start_time": "2023-01-31T13:08:47.681Z"
      },
      {
        "duration": 17,
        "start_time": "2023-01-31T13:08:48.535Z"
      },
      {
        "duration": 377,
        "start_time": "2023-01-31T13:08:48.554Z"
      },
      {
        "duration": 3,
        "start_time": "2023-01-31T13:08:48.933Z"
      },
      {
        "duration": 10,
        "start_time": "2023-01-31T13:08:48.938Z"
      },
      {
        "duration": 8,
        "start_time": "2023-01-31T13:08:48.950Z"
      },
      {
        "duration": 6,
        "start_time": "2023-01-31T13:08:48.960Z"
      },
      {
        "duration": 100,
        "start_time": "2023-01-31T13:08:48.968Z"
      },
      {
        "duration": 41,
        "start_time": "2023-01-31T13:08:49.070Z"
      },
      {
        "duration": 3,
        "start_time": "2023-01-31T13:08:49.112Z"
      },
      {
        "duration": 15,
        "start_time": "2023-01-31T13:08:49.117Z"
      },
      {
        "duration": 155,
        "start_time": "2023-01-31T13:08:49.134Z"
      },
      {
        "duration": 3379,
        "start_time": "2023-01-31T13:08:49.291Z"
      },
      {
        "duration": 11528,
        "start_time": "2023-01-31T13:08:52.671Z"
      },
      {
        "duration": 14,
        "start_time": "2023-01-31T13:09:04.201Z"
      },
      {
        "duration": 11,
        "start_time": "2023-01-31T13:09:04.217Z"
      },
      {
        "duration": 32454,
        "start_time": "2023-01-31T13:09:09.076Z"
      },
      {
        "duration": 4,
        "start_time": "2023-01-31T13:10:09.948Z"
      },
      {
        "duration": 3,
        "start_time": "2023-01-31T13:15:51.066Z"
      },
      {
        "duration": 136,
        "start_time": "2023-01-31T13:15:55.013Z"
      },
      {
        "duration": 1573,
        "start_time": "2023-01-31T13:22:56.702Z"
      },
      {
        "duration": 944,
        "start_time": "2023-01-31T13:22:58.277Z"
      },
      {
        "duration": 21,
        "start_time": "2023-01-31T13:22:59.223Z"
      },
      {
        "duration": 403,
        "start_time": "2023-01-31T13:22:59.246Z"
      },
      {
        "duration": 3,
        "start_time": "2023-01-31T13:22:59.652Z"
      },
      {
        "duration": 11,
        "start_time": "2023-01-31T13:22:59.657Z"
      },
      {
        "duration": 15,
        "start_time": "2023-01-31T13:22:59.669Z"
      },
      {
        "duration": 4,
        "start_time": "2023-01-31T13:22:59.693Z"
      },
      {
        "duration": 104,
        "start_time": "2023-01-31T13:22:59.700Z"
      },
      {
        "duration": 43,
        "start_time": "2023-01-31T13:22:59.806Z"
      },
      {
        "duration": 3,
        "start_time": "2023-01-31T13:22:59.851Z"
      },
      {
        "duration": 7,
        "start_time": "2023-01-31T13:22:59.856Z"
      },
      {
        "duration": 234,
        "start_time": "2023-01-31T13:22:59.865Z"
      },
      {
        "duration": 3798,
        "start_time": "2023-01-31T13:23:00.101Z"
      },
      {
        "duration": 13398,
        "start_time": "2023-01-31T13:23:03.901Z"
      },
      {
        "duration": 101,
        "start_time": "2023-01-31T13:23:17.301Z"
      },
      {
        "duration": 13,
        "start_time": "2023-01-31T13:23:17.405Z"
      },
      {
        "duration": 31072,
        "start_time": "2023-01-31T13:23:17.420Z"
      },
      {
        "duration": 35612,
        "start_time": "2023-01-31T13:23:48.497Z"
      },
      {
        "duration": 5,
        "start_time": "2023-01-31T13:25:59.375Z"
      },
      {
        "duration": 418443,
        "start_time": "2023-01-31T13:26:03.344Z"
      },
      {
        "duration": 4,
        "start_time": "2023-01-31T13:33:31.845Z"
      },
      {
        "duration": 186,
        "start_time": "2023-01-31T13:33:36.955Z"
      },
      {
        "duration": 14,
        "start_time": "2023-01-31T13:34:10.705Z"
      },
      {
        "duration": 208,
        "start_time": "2023-01-31T13:34:17.143Z"
      },
      {
        "duration": 231,
        "start_time": "2023-01-31T13:35:20.434Z"
      },
      {
        "duration": 3,
        "start_time": "2023-01-31T13:38:45.224Z"
      },
      {
        "duration": 1437,
        "start_time": "2023-01-31T13:42:24.459Z"
      },
      {
        "duration": 906,
        "start_time": "2023-01-31T13:42:25.898Z"
      },
      {
        "duration": 17,
        "start_time": "2023-01-31T13:42:26.806Z"
      },
      {
        "duration": 377,
        "start_time": "2023-01-31T13:42:26.826Z"
      },
      {
        "duration": 3,
        "start_time": "2023-01-31T13:42:27.205Z"
      },
      {
        "duration": 8,
        "start_time": "2023-01-31T13:42:27.216Z"
      },
      {
        "duration": 6,
        "start_time": "2023-01-31T13:42:27.225Z"
      },
      {
        "duration": 12,
        "start_time": "2023-01-31T13:42:27.232Z"
      },
      {
        "duration": 94,
        "start_time": "2023-01-31T13:42:27.246Z"
      },
      {
        "duration": 37,
        "start_time": "2023-01-31T13:42:27.342Z"
      },
      {
        "duration": 3,
        "start_time": "2023-01-31T13:42:27.392Z"
      },
      {
        "duration": 7,
        "start_time": "2023-01-31T13:42:27.396Z"
      },
      {
        "duration": 135,
        "start_time": "2023-01-31T13:42:27.405Z"
      },
      {
        "duration": 3357,
        "start_time": "2023-01-31T13:42:27.541Z"
      },
      {
        "duration": 11502,
        "start_time": "2023-01-31T13:42:30.900Z"
      },
      {
        "duration": 13,
        "start_time": "2023-01-31T13:42:42.493Z"
      },
      {
        "duration": 2,
        "start_time": "2023-01-31T13:42:42.508Z"
      },
      {
        "duration": 24087,
        "start_time": "2023-01-31T13:42:42.512Z"
      },
      {
        "duration": 26857,
        "start_time": "2023-01-31T13:43:06.602Z"
      },
      {
        "duration": 4,
        "start_time": "2023-01-31T13:43:33.461Z"
      },
      {
        "duration": 420710,
        "start_time": "2023-01-31T13:43:33.467Z"
      },
      {
        "duration": 4,
        "start_time": "2023-01-31T13:50:34.180Z"
      },
      {
        "duration": 194,
        "start_time": "2023-01-31T13:50:34.186Z"
      },
      {
        "duration": 3,
        "start_time": "2023-01-31T13:50:34.382Z"
      },
      {
        "duration": 20,
        "start_time": "2023-01-31T13:50:34.386Z"
      },
      {
        "duration": 11,
        "start_time": "2023-01-31T13:50:34.408Z"
      },
      {
        "duration": 9,
        "start_time": "2023-01-31T13:50:34.421Z"
      },
      {
        "duration": 193,
        "start_time": "2023-01-31T13:50:34.433Z"
      }
    ],
    "kernelspec": {
      "display_name": "Python 3 (ipykernel)",
      "language": "python",
      "name": "python3"
    },
    "language_info": {
      "codemirror_mode": {
        "name": "ipython",
        "version": 3
      },
      "file_extension": ".py",
      "mimetype": "text/x-python",
      "name": "python",
      "nbconvert_exporter": "python",
      "pygments_lexer": "ipython3",
      "version": "3.9.5"
    },
    "toc": {
      "base_numbering": 1,
      "nav_menu": {},
      "number_sections": true,
      "sideBar": true,
      "skip_h1_title": true,
      "title_cell": "Содержание",
      "title_sidebar": "Contents",
      "toc_cell": true,
      "toc_position": {
        "height": "calc(100% - 180px)",
        "left": "10px",
        "top": "150px",
        "width": "170.391px"
      },
      "toc_section_display": true,
      "toc_window_display": true
    },
    "colab": {
      "provenance": [],
      "toc_visible": true
    }
  },
  "nbformat": 4,
  "nbformat_minor": 0
}