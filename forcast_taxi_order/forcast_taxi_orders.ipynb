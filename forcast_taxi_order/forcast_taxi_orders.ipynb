{
  "cells": [
    {
      "cell_type": "markdown",
      "metadata": {
        "id": "XDhHwu_L1sFG"
      },
      "source": [
        "<div class=\"alert alert-success\">\n",
        "<h2> <b> Прогнозирование заказов такси </b> <font size=\"7\" color=yellow> 🚕 </font></h2>\n",
        "</div>"
      ]
    },
    {
      "cell_type": "markdown",
      "metadata": {
        "toc": true,
        "id": "0lEYKCmi1sFC"
      },
      "source": [
        "<h1>Содержание<span class=\"tocSkip\"></span></h1>\n",
        "<div class=\"toc\"><ul class=\"toc-item\"><li><span><a href=\"#Описание-проекта\" data-toc-modified-id=\"Описание-проекта-1\"><span class=\"toc-item-num\">1&nbsp;&nbsp;</span>Описание проекта</a></span></li><li><span><a href=\"#Используемые-библиотеки-и-инструменты\" data-toc-modified-id=\"Используемые-библиотеки-и-инструменты-2\"><span class=\"toc-item-num\">2&nbsp;&nbsp;</span>Используемые библиотеки и инструменты</a></span></li><li><span><a href=\"#Подготовка-данных\" data-toc-modified-id=\"Подготовка-данных-3\"><span class=\"toc-item-num\">3&nbsp;&nbsp;</span>Подготовка данных</a></span></li><li><span><a href=\"#Анализ-данных\" data-toc-modified-id=\"Анализ-данных-4\"><span class=\"toc-item-num\">4&nbsp;&nbsp;</span>Анализ данных</a></span></li><li><span><a href=\"#Предобработка-данных\" data-toc-modified-id=\"Предобработка-данных-5\"><span class=\"toc-item-num\">5&nbsp;&nbsp;</span>Предобработка данных</a></span></li><li><span><a href=\"#Обучение-моделей\" data-toc-modified-id=\"Обучение-моделей-6\"><span class=\"toc-item-num\">6&nbsp;&nbsp;</span>Обучение моделей</a></span><ul class=\"toc-item\"><li><span><a href=\"#Линейная-регрессия\" data-toc-modified-id=\"Линейная-регрессия-6.1\"><span class=\"toc-item-num\">6.1&nbsp;&nbsp;</span>Линейная регрессия</a></span></li><li><span><a href=\"#Модель-Ridge\" data-toc-modified-id=\"Модель-Ridge-6.2\"><span class=\"toc-item-num\">6.2&nbsp;&nbsp;</span>Модель Ridge</a></span></li><li><span><a href=\"#Случайный-лес\" data-toc-modified-id=\"Случайный-лес-6.3\"><span class=\"toc-item-num\">6.3&nbsp;&nbsp;</span>Случайный лес</a></span></li><li><span><a href=\"#Модель-LightGBM\" data-toc-modified-id=\"Модель-LightGBM-6.4\"><span class=\"toc-item-num\">6.4&nbsp;&nbsp;</span>Модель LightGBM</a></span></li><li><span><a href=\"#Модель-CatBoost\" data-toc-modified-id=\"Модель-CatBoost-6.5\"><span class=\"toc-item-num\">6.5&nbsp;&nbsp;</span>Модель CatBoost</a></span></li></ul></li><li><span><a href=\"#Тестирование\" data-toc-modified-id=\"Тестирование-7\"><span class=\"toc-item-num\">7&nbsp;&nbsp;</span>Тестирование</a></span></li><li><span><a href=\"#Чек-лист-проверки\" data-toc-modified-id=\"Чек-лист-проверки-8\"><span class=\"toc-item-num\">8&nbsp;&nbsp;</span>Чек-лист проверки</a></span></li></ul></div>"
      ]
    },
    {
      "cell_type": "markdown",
      "metadata": {
        "id": "D4HghCEB1sFK"
      },
      "source": [
        "## Описание проекта"
      ]
    },
    {
      "cell_type": "markdown",
      "metadata": {
        "id": "A-JkUYq31sFI"
      },
      "source": [
        "Сервис такси хочет привлекать больше водителей в период пиковой нагрузки, нужно спрогнозировать количество заказов на следующий час.\n",
        "\n",
        "***Задача:***<br/>\n",
        "Построить модель, которая может спрогнозировать количество заказов такси на следующий час (задача регрессии).\n",
        "\n",
        "Метрика качества - *RMSE*.\n",
        "\n",
        "***Описание данных:***<br/>\n",
        "Данные лежат в файле `taxi.csv`, в столбце *num_orders* находится исторические данные о колличестве заказов такси в аэропортах."
      ]
    },
    {
      "cell_type": "markdown",
      "metadata": {
        "id": "VpCbYf9r1sFJ"
      },
      "source": [
        "---"
      ]
    },
    {
      "cell_type": "markdown",
      "source": [
        "## Используемые библиотеки и инструменты"
      ],
      "metadata": {
        "id": "5jdOrF4c6L1Y"
      }
    },
    {
      "cell_type": "code",
      "execution_count": 198,
      "metadata": {
        "id": "lS7jigvO1sFU"
      },
      "outputs": [],
      "source": [
        "import pandas as pd\n",
        "import numpy as np\n",
        "import datetime as dt\n",
        "import time\n",
        "import matplotlib.pyplot as plt\n",
        "\n",
        "import statsmodels.api as sm\n",
        "from statsmodels.tsa.seasonal import seasonal_decompose\n",
        "from statsmodels.graphics import tsaplots\n",
        "\n",
        "from sklearn.model_selection import (train_test_split,\n",
        "                                     TimeSeriesSplit,\n",
        "                                     cross_val_score,\n",
        "                                     GridSearchCV,\n",
        "                                     RandomizedSearchCV)\n",
        "from sklearn.metrics import (mean_squared_error,\n",
        "                             make_scorer)\n",
        "from sklearn.linear_model import (LinearRegression,\n",
        "                                  Ridge)\n",
        "from sklearn.ensemble import RandomForestRegressor\n",
        "\n",
        "import lightgbm as lgb\n",
        "import warnings"
      ]
    },
    {
      "cell_type": "code",
      "source": [
        "!pip install catboost -q\n",
        "from catboost import CatBoostRegressor"
      ],
      "metadata": {
        "id": "m-Q2YQ0ldt66"
      },
      "execution_count": 199,
      "outputs": []
    },
    {
      "cell_type": "code",
      "execution_count": 200,
      "metadata": {
        "id": "PBwnYUE-1sFZ"
      },
      "outputs": [],
      "source": [
        "warnings.filterwarnings('ignore')"
      ]
    },
    {
      "cell_type": "markdown",
      "source": [
        "----"
      ],
      "metadata": {
        "id": "VWB7Bj6B6Dga"
      }
    },
    {
      "cell_type": "markdown",
      "metadata": {
        "id": "p3ibJm-R1sFT"
      },
      "source": [
        "## Подготовка данных"
      ]
    },
    {
      "cell_type": "code",
      "execution_count": 201,
      "metadata": {
        "scrolled": true,
        "id": "BnVAN6HL1sFZ",
        "outputId": "f11958f9-399e-4e14-a72b-0940b1626740",
        "colab": {
          "base_uri": "https://localhost:8080/"
        }
      },
      "outputs": [
        {
          "output_type": "stream",
          "name": "stdout",
          "text": [
            "                     num_orders\n",
            "datetime                       \n",
            "2018-03-01 00:00:00           9\n",
            "2018-03-01 00:10:00          14\n",
            "2018-03-01 00:20:00          28\n",
            "2018-03-01 00:30:00          20\n",
            "2018-03-01 00:40:00          32 \n",
            " (26496, 1)\n"
          ]
        }
      ],
      "source": [
        "# Загрузка данных\n",
        "\n",
        "try:\n",
        "  data = pd.read_csv('/datasets/taxi.csv',\n",
        "                     index_col=[0],\n",
        "                     parse_dates=[0])\n",
        "except FileNotFoundError:\n",
        "  data = pd.read_csv('taxi.csv',\n",
        "                     index_col=[0],\n",
        "                     parse_dates=[0])\n",
        "\n",
        "data.sort_index(inplace=True)\n",
        "print(data.head(), \"\\n\", data.shape)"
      ]
    },
    {
      "cell_type": "code",
      "execution_count": 202,
      "metadata": {
        "id": "3Hf7j8IG1sFd",
        "outputId": "99a21841-75db-4218-b34e-0234f386fe7a",
        "colab": {
          "base_uri": "https://localhost:8080/",
          "height": 505
        }
      },
      "outputs": [
        {
          "output_type": "execute_result",
          "data": {
            "text/plain": [
              "Text(0, 0.5, 'Number of orders')"
            ]
          },
          "metadata": {},
          "execution_count": 202
        },
        {
          "output_type": "display_data",
          "data": {
            "text/plain": [
              "<Figure size 640x480 with 1 Axes>"
            ],
            "image/png": "[encoded data removed]"
          },
          "metadata": {}
        }
      ],
      "source": [
        "# Ресемплирование данных по одному часу\n",
        "\n",
        "data = data.resample('1H').sum()\n",
        "data.plot()\n",
        "\n",
        "plt.title('Taxi orders per hour')\n",
        "plt.xlabel('Hour')\n",
        "plt.ylabel('Number of orders')"
      ]
    },
    {
      "cell_type": "markdown",
      "metadata": {
        "id": "Q_cvef6J1sFf"
      },
      "source": [
        "---"
      ]
    },
    {
      "cell_type": "markdown",
      "metadata": {
        "id": "-8zk7-kM1sFf"
      },
      "source": [
        "## Анализ данных"
      ]
    },
    {
      "cell_type": "code",
      "execution_count": 203,
      "metadata": {
        "scrolled": true,
        "id": "rnlu2sbN1sFg",
        "outputId": "ccfcfb10-65b6-4add-c436-dfc246f4692f",
        "colab": {
          "base_uri": "https://localhost:8080/",
          "height": 1000
        }
      },
      "outputs": [
        {
          "output_type": "display_data",
          "data": {
            "text/plain": [
              "<Figure size 600x1500 with 4 Axes>"
            ],
            "image/png": "[encoded data removed]"
          },
          "metadata": {}
        }
      ],
      "source": [
        "# Разложим данные, ресемплированые по одному часу, на составляющие.\n",
        "\n",
        "decomposed_1H = seasonal_decompose(data)\n",
        "\n",
        "# Тренд\n",
        "plt.figure(figsize=(6, 15))\n",
        "plt.subplot(411)\n",
        "decomposed_1H.trend.plot(ax=plt.gca())\n",
        "decomposed_1H.trend.rolling(24).mean().plot(ax=plt.gca())\n",
        "plt.title('Trend')\n",
        "\n",
        "# Периодичность внутри дня\n",
        "plt.subplot(412)\n",
        "decomposed_1H.seasonal['2018-07-25'].plot(ax=plt.gca())\n",
        "plt.title('Day seasonality')\n",
        "\n",
        "# Периодичность внутри нескольких дней\n",
        "plt.subplot(413)\n",
        "decomposed_1H.seasonal['2018-07-25'].plot(ax=plt.gca())\n",
        "decomposed_1H.seasonal['2018-07-26'].plot(ax=plt.gca())\n",
        "decomposed_1H.seasonal['2018-07-27'].plot(ax=plt.gca())\n",
        "decomposed_1H.seasonal['2018-07-28'].plot(ax=plt.gca())\n",
        "decomposed_1H.seasonal['2018-07-29'].plot(ax=plt.gca())\n",
        "decomposed_1H.seasonal['2018-07-30'].plot(ax=plt.gca())\n",
        "decomposed_1H.seasonal['2018-07-31'].plot(ax=plt.gca())\n",
        "plt.title('Day seasonality')\n",
        "\n",
        "# Остаток\n",
        "plt.subplot(414)\n",
        "decomposed_1H.resid.plot(ax=plt.gca())\n",
        "decomposed_1H.resid.rolling(30).mean().plot(ax=plt.gca())\n",
        "plt.title('Residuals')\n",
        "plt.tight_layout()"
      ]
    },
    {
      "cell_type": "code",
      "execution_count": 204,
      "metadata": {
        "scrolled": true,
        "id": "GusPxwn51sFj",
        "outputId": "b36b57a8-a655-4c29-d612-035deb7f8d69",
        "colab": {
          "base_uri": "https://localhost:8080/",
          "height": 1000
        }
      },
      "outputs": [
        {
          "output_type": "display_data",
          "data": {
            "text/plain": [
              "<Figure size 600x1500 with 4 Axes>"
            ],
            "image/png": "[encoded data removed]"
          },
          "metadata": {}
        }
      ],
      "source": [
        "# Разложим данные, ресемплирование по одному дню, на составляющие.\n",
        "\n",
        "decomposed_1D = seasonal_decompose(data.resample('1D').sum())\n",
        "plt.figure(figsize=(6, 15))\n",
        "\n",
        "# Тренд\n",
        "plt.subplot(411)\n",
        "decomposed_1D.trend.plot(ax=plt.gca())\n",
        "decomposed_1D.trend.rolling(30).mean().plot(ax=plt.gca())\n",
        "plt.title('Trend')\n",
        "\n",
        "# Недельная периодичность\n",
        "plt.subplot(412)\n",
        "decomposed_1D.seasonal['2018-07-02':'2018-07-08'].plot(ax=plt.gca())\n",
        "decomposed_1D.seasonal['2018-07-09':'2018-07-15'].plot(ax=plt.gca())\n",
        "decomposed_1D.seasonal['2018-07-16':'2018-07-22'].plot(ax=plt.gca())\n",
        "decomposed_1D.seasonal['2018-07-23':'2018-07-29'].plot(ax=plt.gca())\n",
        "plt.title('Week seasonality')\n",
        "\n",
        "# Месячная переодичность\n",
        "plt.subplot(413)\n",
        "decomposed_1D.seasonal.plot(ax=plt.gca())\n",
        "plt.title('Month seasonality')\n",
        "\n",
        "# Остаток\n",
        "plt.subplot(414)\n",
        "decomposed_1D.resid.plot(ax=plt.gca())\n",
        "decomposed_1D.resid.rolling(30).mean().plot(ax=plt.gca())\n",
        "plt.title('Residuals')\n",
        "plt.tight_layout()\n"
      ]
    },
    {
      "cell_type": "markdown",
      "metadata": {
        "id": "uIgPMbc_1sFk"
      },
      "source": [
        "***Заметки:***\n",
        "1. Наблюдается чёткий возрастающий тренд;\n",
        "2. Есть цикличность внутри дней - чёткий провал спроса в 6 утра;\n",
        "3. Есть цикличность внутри недель - наименьший спрос во вт. и вс.;\n",
        "4. Нет цикличности между месяцами;\n",
        "4. Остаток похож на случчайный шум.\n"
      ]
    },
    {
      "cell_type": "markdown",
      "source": [
        "____"
      ],
      "metadata": {
        "id": "xAc4uMA3QDv6"
      }
    },
    {
      "cell_type": "markdown",
      "source": [
        "## Предобработка данных"
      ],
      "metadata": {
        "id": "asspa66aQG9x"
      }
    },
    {
      "cell_type": "code",
      "execution_count": 205,
      "metadata": {
        "scrolled": true,
        "id": "RwMZGatw1sFm"
      },
      "outputs": [],
      "source": [
        "# Создадим функцию для добавления признаков\n",
        "\n",
        "def make_features(data, max_lag, rolling_mean_size):\n",
        "\n",
        "#     data['year'] = data.index.year # Этот признак отбросили, тк данные представлены только за год\n",
        "#     data['month'] = data.index.month\n",
        "    data['dayofweek'] = data.index.dayofweek\n",
        "    data['day'] = data.index.day\n",
        "    data['hour'] = data.index.hour\n",
        "\n",
        "    for lag in range(1, max_lag + 1):\n",
        "        data['lag_{}'.format(lag)] = data['num_orders'].shift(lag)\n",
        "\n",
        "    data['rolling_mean'] = data['num_orders'].shift().rolling(rolling_mean_size).mean()\n"
      ]
    },
    {
      "cell_type": "code",
      "execution_count": 206,
      "metadata": {
        "id": "OlZjyyXS1sFo"
      },
      "outputs": [],
      "source": [
        "# Функция для вычисления метрики RMSE\n",
        "\n",
        "def RMSE(y_true, y_pred):\n",
        "    rmse = mean_squared_error(y_true, y_pred)**.5\n",
        "    # print('RSME: ', round(rmse, 2))\n",
        "    return rmse\n",
        "\n",
        "scorer = make_scorer(RMSE, greater_is_better=False)"
      ]
    },
    {
      "cell_type": "code",
      "execution_count": 207,
      "metadata": {
        "id": "kNpXbs9E1sFv",
        "outputId": "f5968228-0d1d-4588-c325-4f19ee19b50a",
        "colab": {
          "base_uri": "https://localhost:8080/",
          "height": 206
        }
      },
      "outputs": [
        {
          "output_type": "execute_result",
          "data": {
            "text/plain": [
              "    max_lag  rolling_mean_size   rmse\n",
              "30     24.0                4.0  26.67\n",
              "32     24.0               12.0  26.74\n",
              "31     24.0                8.0  26.74\n",
              "34     24.0               20.0  26.80\n",
              "33     24.0               16.0  26.81"
            ],
            "text/html": [
              "\n",
              "  <div id=\"df-2dd18bdc-8ef1-4012-9961-a6b7f57c0abb\" class=\"colab-df-container\">\n",
              "    <div>\n",
              "<style scoped>\n",
              "    .dataframe tbody tr th:only-of-type {\n",
              "        vertical-align: middle;\n",
              "    }\n",
              "\n",
              "    .dataframe tbody tr th {\n",
              "        vertical-align: top;\n",
              "    }\n",
              "\n",
              "    .dataframe thead th {\n",
              "        text-align: right;\n",
              "    }\n",
              "</style>\n",
              "<table border=\"1\" class=\"dataframe\">\n",
              "  <thead>\n",
              "    <tr style=\"text-align: right;\">\n",
              "      <th></th>\n",
              "      <th>max_lag</th>\n",
              "      <th>rolling_mean_size</th>\n",
              "      <th>rmse</th>\n",
              "    </tr>\n",
              "  </thead>\n",
              "  <tbody>\n",
              "    <tr>\n",
              "      <th>30</th>\n",
              "      <td>24.0</td>\n",
              "      <td>4.0</td>\n",
              "      <td>26.67</td>\n",
              "    </tr>\n",
              "    <tr>\n",
              "      <th>32</th>\n",
              "      <td>24.0</td>\n",
              "      <td>12.0</td>\n",
              "      <td>26.74</td>\n",
              "    </tr>\n",
              "    <tr>\n",
              "      <th>31</th>\n",
              "      <td>24.0</td>\n",
              "      <td>8.0</td>\n",
              "      <td>26.74</td>\n",
              "    </tr>\n",
              "    <tr>\n",
              "      <th>34</th>\n",
              "      <td>24.0</td>\n",
              "      <td>20.0</td>\n",
              "      <td>26.80</td>\n",
              "    </tr>\n",
              "    <tr>\n",
              "      <th>33</th>\n",
              "      <td>24.0</td>\n",
              "      <td>16.0</td>\n",
              "      <td>26.81</td>\n",
              "    </tr>\n",
              "  </tbody>\n",
              "</table>\n",
              "</div>\n",
              "    <div class=\"colab-df-buttons\">\n",
              "\n",
              "  <div class=\"colab-df-container\">\n",
              "    <button class=\"colab-df-convert\" onclick=\"convertToInteractive('df-2dd18bdc-8ef1-4012-9961-a6b7f57c0abb')\"\n",
              "            title=\"Convert this dataframe to an interactive table.\"\n",
              "            style=\"display:none;\">\n",
              "\n",
              "  <svg xmlns=\"http://www.w3.org/2000/svg\" height=\"24px\" viewBox=\"0 -960 960 960\">\n",
              "    <path d=\"M120-120v-720h720v720H120Zm60-500h600v-160H180v160Zm220 220h160v-160H400v160Zm0 220h160v-160H400v160ZM180-400h160v-160H180v160Zm440 0h160v-160H620v160ZM180-180h160v-160H180v160Zm440 0h160v-160H620v160Z\"/>\n",
              "  </svg>\n",
              "    </button>\n",
              "\n",
              "  <style>\n",
              "    .colab-df-container {\n",
              "      display:flex;\n",
              "      gap: 12px;\n",
              "    }\n",
              "\n",
              "    .colab-df-convert {\n",
              "      background-color: #E8F0FE;\n",
              "      border: none;\n",
              "      border-radius: 50%;\n",
              "      cursor: pointer;\n",
              "      display: none;\n",
              "      fill: #1967D2;\n",
              "      height: 32px;\n",
              "      padding: 0 0 0 0;\n",
              "      width: 32px;\n",
              "    }\n",
              "\n",
              "    .colab-df-convert:hover {\n",
              "      background-color: #E2EBFA;\n",
              "      box-shadow: 0px 1px 2px rgba(60, 64, 67, 0.3), 0px 1px 3px 1px rgba(60, 64, 67, 0.15);\n",
              "      fill: #174EA6;\n",
              "    }\n",
              "\n",
              "    .colab-df-buttons div {\n",
              "      margin-bottom: 4px;\n",
              "    }\n",
              "\n",
              "    [theme=dark] .colab-df-convert {\n",
              "      background-color: #3B4455;\n",
              "      fill: #D2E3FC;\n",
              "    }\n",
              "\n",
              "    [theme=dark] .colab-df-convert:hover {\n",
              "      background-color: #434B5C;\n",
              "      box-shadow: 0px 1px 3px 1px rgba(0, 0, 0, 0.15);\n",
              "      filter: drop-shadow(0px 1px 2px rgba(0, 0, 0, 0.3));\n",
              "      fill: #FFFFFF;\n",
              "    }\n",
              "  </style>\n",
              "\n",
              "    <script>\n",
              "      const buttonEl =\n",
              "        document.querySelector('#df-2dd18bdc-8ef1-4012-9961-a6b7f57c0abb button.colab-df-convert');\n",
              "      buttonEl.style.display =\n",
              "        google.colab.kernel.accessAllowed ? 'block' : 'none';\n",
              "\n",
              "      async function convertToInteractive(key) {\n",
              "        const element = document.querySelector('#df-2dd18bdc-8ef1-4012-9961-a6b7f57c0abb');\n",
              "        const dataTable =\n",
              "          await google.colab.kernel.invokeFunction('convertToInteractive',\n",
              "                                                    [key], {});\n",
              "        if (!dataTable) return;\n",
              "\n",
              "        const docLinkHtml = 'Like what you see? Visit the ' +\n",
              "          '<a target=\"_blank\" href=https://colab.research.google.com/notebooks/data_table.ipynb>data table notebook</a>'\n",
              "          + ' to learn more about interactive tables.';\n",
              "        element.innerHTML = '';\n",
              "        dataTable['output_type'] = 'display_data';\n",
              "        await google.colab.output.renderOutput(dataTable, element);\n",
              "        const docLink = document.createElement('div');\n",
              "        docLink.innerHTML = docLinkHtml;\n",
              "        element.appendChild(docLink);\n",
              "      }\n",
              "    </script>\n",
              "  </div>\n",
              "\n",
              "\n",
              "<div id=\"df-233b40a5-67bc-4b9a-9cd3-41e85011b86d\">\n",
              "  <button class=\"colab-df-quickchart\" onclick=\"quickchart('df-233b40a5-67bc-4b9a-9cd3-41e85011b86d')\"\n",
              "            title=\"Suggest charts\"\n",
              "            style=\"display:none;\">\n",
              "\n",
              "<svg xmlns=\"http://www.w3.org/2000/svg\" height=\"24px\"viewBox=\"0 0 24 24\"\n",
              "     width=\"24px\">\n",
              "    <g>\n",
              "        <path d=\"M19 3H5c-1.1 0-2 .9-2 2v14c0 1.1.9 2 2 2h14c1.1 0 2-.9 2-2V5c0-1.1-.9-2-2-2zM9 17H7v-7h2v7zm4 0h-2V7h2v10zm4 0h-2v-4h2v4z\"/>\n",
              "    </g>\n",
              "</svg>\n",
              "  </button>\n",
              "\n",
              "<style>\n",
              "  .colab-df-quickchart {\n",
              "      --bg-color: #E8F0FE;\n",
              "      --fill-color: #1967D2;\n",
              "      --hover-bg-color: #E2EBFA;\n",
              "      --hover-fill-color: #174EA6;\n",
              "      --disabled-fill-color: #AAA;\n",
              "      --disabled-bg-color: #DDD;\n",
              "  }\n",
              "\n",
              "  [theme=dark] .colab-df-quickchart {\n",
              "      --bg-color: #3B4455;\n",
              "      --fill-color: #D2E3FC;\n",
              "      --hover-bg-color: #434B5C;\n",
              "      --hover-fill-color: #FFFFFF;\n",
              "      --disabled-bg-color: #3B4455;\n",
              "      --disabled-fill-color: #666;\n",
              "  }\n",
              "\n",
              "  .colab-df-quickchart {\n",
              "    background-color: var(--bg-color);\n",
              "    border: none;\n",
              "    border-radius: 50%;\n",
              "    cursor: pointer;\n",
              "    display: none;\n",
              "    fill: var(--fill-color);\n",
              "    height: 32px;\n",
              "    padding: 0;\n",
              "    width: 32px;\n",
              "  }\n",
              "\n",
              "  .colab-df-quickchart:hover {\n",
              "    background-color: var(--hover-bg-color);\n",
              "    box-shadow: 0 1px 2px rgba(60, 64, 67, 0.3), 0 1px 3px 1px rgba(60, 64, 67, 0.15);\n",
              "    fill: var(--button-hover-fill-color);\n",
              "  }\n",
              "\n",
              "  .colab-df-quickchart-complete:disabled,\n",
              "  .colab-df-quickchart-complete:disabled:hover {\n",
              "    background-color: var(--disabled-bg-color);\n",
              "    fill: var(--disabled-fill-color);\n",
              "    box-shadow: none;\n",
              "  }\n",
              "\n",
              "  .colab-df-spinner {\n",
              "    border: 2px solid var(--fill-color);\n",
              "    border-color: transparent;\n",
              "    border-bottom-color: var(--fill-color);\n",
              "    animation:\n",
              "      spin 1s steps(1) infinite;\n",
              "  }\n",
              "\n",
              "  @keyframes spin {\n",
              "    0% {\n",
              "      border-color: transparent;\n",
              "      border-bottom-color: var(--fill-color);\n",
              "      border-left-color: var(--fill-color);\n",
              "    }\n",
              "    20% {\n",
              "      border-color: transparent;\n",
              "      border-left-color: var(--fill-color);\n",
              "      border-top-color: var(--fill-color);\n",
              "    }\n",
              "    30% {\n",
              "      border-color: transparent;\n",
              "      border-left-color: var(--fill-color);\n",
              "      border-top-color: var(--fill-color);\n",
              "      border-right-color: var(--fill-color);\n",
              "    }\n",
              "    40% {\n",
              "      border-color: transparent;\n",
              "      border-right-color: var(--fill-color);\n",
              "      border-top-color: var(--fill-color);\n",
              "    }\n",
              "    60% {\n",
              "      border-color: transparent;\n",
              "      border-right-color: var(--fill-color);\n",
              "    }\n",
              "    80% {\n",
              "      border-color: transparent;\n",
              "      border-right-color: var(--fill-color);\n",
              "      border-bottom-color: var(--fill-color);\n",
              "    }\n",
              "    90% {\n",
              "      border-color: transparent;\n",
              "      border-bottom-color: var(--fill-color);\n",
              "    }\n",
              "  }\n",
              "</style>\n",
              "\n",
              "  <script>\n",
              "    async function quickchart(key) {\n",
              "      const quickchartButtonEl =\n",
              "        document.querySelector('#' + key + ' button');\n",
              "      quickchartButtonEl.disabled = true;  // To prevent multiple clicks.\n",
              "      quickchartButtonEl.classList.add('colab-df-spinner');\n",
              "      try {\n",
              "        const charts = await google.colab.kernel.invokeFunction(\n",
              "            'suggestCharts', [key], {});\n",
              "      } catch (error) {\n",
              "        console.error('Error during call to suggestCharts:', error);\n",
              "      }\n",
              "      quickchartButtonEl.classList.remove('colab-df-spinner');\n",
              "      quickchartButtonEl.classList.add('colab-df-quickchart-complete');\n",
              "    }\n",
              "    (() => {\n",
              "      let quickchartButtonEl =\n",
              "        document.querySelector('#df-233b40a5-67bc-4b9a-9cd3-41e85011b86d button');\n",
              "      quickchartButtonEl.style.display =\n",
              "        google.colab.kernel.accessAllowed ? 'block' : 'none';\n",
              "    })();\n",
              "  </script>\n",
              "</div>\n",
              "    </div>\n",
              "  </div>\n"
            ],
            "application/vnd.google.colaboratory.intrinsic+json": {
              "type": "dataframe",
              "summary": "{\n  \"name\": \"results\",\n  \"rows\": 5,\n  \"fields\": [\n    {\n      \"column\": \"max_lag\",\n      \"properties\": {\n        \"dtype\": \"number\",\n        \"std\": 0.0,\n        \"min\": 24.0,\n        \"max\": 24.0,\n        \"num_unique_values\": 1,\n        \"samples\": [\n          24.0\n        ],\n        \"semantic_type\": \"\",\n        \"description\": \"\"\n      }\n    },\n    {\n      \"column\": \"rolling_mean_size\",\n      \"properties\": {\n        \"dtype\": \"number\",\n        \"std\": 6.324555320336759,\n        \"min\": 4.0,\n        \"max\": 20.0,\n        \"num_unique_values\": 5,\n        \"samples\": [\n          12.0\n        ],\n        \"semantic_type\": \"\",\n        \"description\": \"\"\n      }\n    },\n    {\n      \"column\": \"rmse\",\n      \"properties\": {\n        \"dtype\": \"number\",\n        \"std\": 0.05630275304103636,\n        \"min\": 26.67,\n        \"max\": 26.81,\n        \"num_unique_values\": 4,\n        \"samples\": [\n          26.74\n        ],\n        \"semantic_type\": \"\",\n        \"description\": \"\"\n      }\n    }\n  ]\n}"
            }
          },
          "metadata": {},
          "execution_count": 207
        }
      ],
      "source": [
        "# Подбирём наилучшие параметры функции make_features на модели линейной ригрессии\n",
        "\n",
        "best_model = None\n",
        "best_rmse = 100  # ??? Не знаю как задать условие ниже, Чтобы не задавать конкретное значение???\n",
        "best_max_lag = 0\n",
        "best_rolling_mean_size = 0\n",
        "results = pd.DataFrame(columns = ['max_lag', 'rolling_mean_size', 'rmse'])\n",
        "\n",
        "\n",
        "for lag in range(4,25,4):\n",
        "    for window in range(4,25,4):\n",
        "\n",
        "        make_features(data, lag, window)\n",
        "        data = data.dropna()\n",
        "        train, test = train_test_split(data, shuffle=False, test_size=.1)\n",
        "\n",
        "        y_train = train['num_orders']\n",
        "        X_train = train.drop('num_orders', axis=1)\n",
        "#         y_test = test['num_orders']\n",
        "#         X_test = test.drop('num_orders', axis=1)\n",
        "\n",
        "        model = LinearRegression().fit(X_train, y_train)\n",
        "        rmse = RMSE(y_train, model.predict(X_train))\n",
        "\n",
        "        results.loc[len(results)] = [lag, window, round(rmse, 2)]\n",
        "\n",
        "        if rmse < best_rmse:\n",
        "            best_rmse = rmse\n",
        "            best_model = model\n",
        "            best_max_lag = lag\n",
        "            best_rolling_mean_size = window\n",
        "\n",
        "results.sort_values(by='rmse').head()"
      ]
    },
    {
      "cell_type": "markdown",
      "metadata": {
        "id": "powRhtVS1sGC"
      },
      "source": [
        "Заметки:\n",
        "\n",
        "Вот так в цикле можно добавить фичи в модель чуть более продвинутым образом:\n",
        "\n",
        "```python    \n",
        "for lag in (best_corr.index[1:]):\n",
        "    data['lag_{}'.format(lag)] = data['num_orders'].shift(lag)\n",
        "```"
      ]
    },
    {
      "cell_type": "code",
      "execution_count": 208,
      "metadata": {
        "id": "u1-KGkCh1sGE",
        "outputId": "b2e7715a-1fd4-4af2-96b9-11a37d5f3fa8",
        "colab": {
          "base_uri": "https://localhost:8080/",
          "height": 704
        }
      },
      "outputs": [
        {
          "output_type": "display_data",
          "data": {
            "text/plain": [
              "<Figure size 640x480 with 1 Axes>"
            ],
            "image/png": "[encoded data removed]"
          },
          "metadata": {}
        },
        {
          "output_type": "execute_result",
          "data": {
            "text/plain": [
              "    autocorrelation\n",
              "0          1.000000\n",
              "48         0.682710\n",
              "24         0.663727\n",
              "1          0.604616\n",
              "49         0.528358\n",
              "23         0.528150\n",
              "47         0.528143"
            ],
            "text/html": [
              "\n",
              "  <div id=\"df-38139921-f6e3-433c-b1a4-4a50bba721da\" class=\"colab-df-container\">\n",
              "    <div>\n",
              "<style scoped>\n",
              "    .dataframe tbody tr th:only-of-type {\n",
              "        vertical-align: middle;\n",
              "    }\n",
              "\n",
              "    .dataframe tbody tr th {\n",
              "        vertical-align: top;\n",
              "    }\n",
              "\n",
              "    .dataframe thead th {\n",
              "        text-align: right;\n",
              "    }\n",
              "</style>\n",
              "<table border=\"1\" class=\"dataframe\">\n",
              "  <thead>\n",
              "    <tr style=\"text-align: right;\">\n",
              "      <th></th>\n",
              "      <th>autocorrelation</th>\n",
              "    </tr>\n",
              "  </thead>\n",
              "  <tbody>\n",
              "    <tr>\n",
              "      <th>0</th>\n",
              "      <td>1.000000</td>\n",
              "    </tr>\n",
              "    <tr>\n",
              "      <th>48</th>\n",
              "      <td>0.682710</td>\n",
              "    </tr>\n",
              "    <tr>\n",
              "      <th>24</th>\n",
              "      <td>0.663727</td>\n",
              "    </tr>\n",
              "    <tr>\n",
              "      <th>1</th>\n",
              "      <td>0.604616</td>\n",
              "    </tr>\n",
              "    <tr>\n",
              "      <th>49</th>\n",
              "      <td>0.528358</td>\n",
              "    </tr>\n",
              "    <tr>\n",
              "      <th>23</th>\n",
              "      <td>0.528150</td>\n",
              "    </tr>\n",
              "    <tr>\n",
              "      <th>47</th>\n",
              "      <td>0.528143</td>\n",
              "    </tr>\n",
              "  </tbody>\n",
              "</table>\n",
              "</div>\n",
              "    <div class=\"colab-df-buttons\">\n",
              "\n",
              "  <div class=\"colab-df-container\">\n",
              "    <button class=\"colab-df-convert\" onclick=\"convertToInteractive('df-38139921-f6e3-433c-b1a4-4a50bba721da')\"\n",
              "            title=\"Convert this dataframe to an interactive table.\"\n",
              "            style=\"display:none;\">\n",
              "\n",
              "  <svg xmlns=\"http://www.w3.org/2000/svg\" height=\"24px\" viewBox=\"0 -960 960 960\">\n",
              "    <path d=\"M120-120v-720h720v720H120Zm60-500h600v-160H180v160Zm220 220h160v-160H400v160Zm0 220h160v-160H400v160ZM180-400h160v-160H180v160Zm440 0h160v-160H620v160ZM180-180h160v-160H180v160Zm440 0h160v-160H620v160Z\"/>\n",
              "  </svg>\n",
              "    </button>\n",
              "\n",
              "  <style>\n",
              "    .colab-df-container {\n",
              "      display:flex;\n",
              "      gap: 12px;\n",
              "    }\n",
              "\n",
              "    .colab-df-convert {\n",
              "      background-color: #E8F0FE;\n",
              "      border: none;\n",
              "      border-radius: 50%;\n",
              "      cursor: pointer;\n",
              "      display: none;\n",
              "      fill: #1967D2;\n",
              "      height: 32px;\n",
              "      padding: 0 0 0 0;\n",
              "      width: 32px;\n",
              "    }\n",
              "\n",
              "    .colab-df-convert:hover {\n",
              "      background-color: #E2EBFA;\n",
              "      box-shadow: 0px 1px 2px rgba(60, 64, 67, 0.3), 0px 1px 3px 1px rgba(60, 64, 67, 0.15);\n",
              "      fill: #174EA6;\n",
              "    }\n",
              "\n",
              "    .colab-df-buttons div {\n",
              "      margin-bottom: 4px;\n",
              "    }\n",
              "\n",
              "    [theme=dark] .colab-df-convert {\n",
              "      background-color: #3B4455;\n",
              "      fill: #D2E3FC;\n",
              "    }\n",
              "\n",
              "    [theme=dark] .colab-df-convert:hover {\n",
              "      background-color: #434B5C;\n",
              "      box-shadow: 0px 1px 3px 1px rgba(0, 0, 0, 0.15);\n",
              "      filter: drop-shadow(0px 1px 2px rgba(0, 0, 0, 0.3));\n",
              "      fill: #FFFFFF;\n",
              "    }\n",
              "  </style>\n",
              "\n",
              "    <script>\n",
              "      const buttonEl =\n",
              "        document.querySelector('#df-38139921-f6e3-433c-b1a4-4a50bba721da button.colab-df-convert');\n",
              "      buttonEl.style.display =\n",
              "        google.colab.kernel.accessAllowed ? 'block' : 'none';\n",
              "\n",
              "      async function convertToInteractive(key) {\n",
              "        const element = document.querySelector('#df-38139921-f6e3-433c-b1a4-4a50bba721da');\n",
              "        const dataTable =\n",
              "          await google.colab.kernel.invokeFunction('convertToInteractive',\n",
              "                                                    [key], {});\n",
              "        if (!dataTable) return;\n",
              "\n",
              "        const docLinkHtml = 'Like what you see? Visit the ' +\n",
              "          '<a target=\"_blank\" href=https://colab.research.google.com/notebooks/data_table.ipynb>data table notebook</a>'\n",
              "          + ' to learn more about interactive tables.';\n",
              "        element.innerHTML = '';\n",
              "        dataTable['output_type'] = 'display_data';\n",
              "        await google.colab.output.renderOutput(dataTable, element);\n",
              "        const docLink = document.createElement('div');\n",
              "        docLink.innerHTML = docLinkHtml;\n",
              "        element.appendChild(docLink);\n",
              "      }\n",
              "    </script>\n",
              "  </div>\n",
              "\n",
              "\n",
              "<div id=\"df-0fc736e5-ea80-4064-9de2-56010d4b5fe1\">\n",
              "  <button class=\"colab-df-quickchart\" onclick=\"quickchart('df-0fc736e5-ea80-4064-9de2-56010d4b5fe1')\"\n",
              "            title=\"Suggest charts\"\n",
              "            style=\"display:none;\">\n",
              "\n",
              "<svg xmlns=\"http://www.w3.org/2000/svg\" height=\"24px\"viewBox=\"0 0 24 24\"\n",
              "     width=\"24px\">\n",
              "    <g>\n",
              "        <path d=\"M19 3H5c-1.1 0-2 .9-2 2v14c0 1.1.9 2 2 2h14c1.1 0 2-.9 2-2V5c0-1.1-.9-2-2-2zM9 17H7v-7h2v7zm4 0h-2V7h2v10zm4 0h-2v-4h2v4z\"/>\n",
              "    </g>\n",
              "</svg>\n",
              "  </button>\n",
              "\n",
              "<style>\n",
              "  .colab-df-quickchart {\n",
              "      --bg-color: #E8F0FE;\n",
              "      --fill-color: #1967D2;\n",
              "      --hover-bg-color: #E2EBFA;\n",
              "      --hover-fill-color: #174EA6;\n",
              "      --disabled-fill-color: #AAA;\n",
              "      --disabled-bg-color: #DDD;\n",
              "  }\n",
              "\n",
              "  [theme=dark] .colab-df-quickchart {\n",
              "      --bg-color: #3B4455;\n",
              "      --fill-color: #D2E3FC;\n",
              "      --hover-bg-color: #434B5C;\n",
              "      --hover-fill-color: #FFFFFF;\n",
              "      --disabled-bg-color: #3B4455;\n",
              "      --disabled-fill-color: #666;\n",
              "  }\n",
              "\n",
              "  .colab-df-quickchart {\n",
              "    background-color: var(--bg-color);\n",
              "    border: none;\n",
              "    border-radius: 50%;\n",
              "    cursor: pointer;\n",
              "    display: none;\n",
              "    fill: var(--fill-color);\n",
              "    height: 32px;\n",
              "    padding: 0;\n",
              "    width: 32px;\n",
              "  }\n",
              "\n",
              "  .colab-df-quickchart:hover {\n",
              "    background-color: var(--hover-bg-color);\n",
              "    box-shadow: 0 1px 2px rgba(60, 64, 67, 0.3), 0 1px 3px 1px rgba(60, 64, 67, 0.15);\n",
              "    fill: var(--button-hover-fill-color);\n",
              "  }\n",
              "\n",
              "  .colab-df-quickchart-complete:disabled,\n",
              "  .colab-df-quickchart-complete:disabled:hover {\n",
              "    background-color: var(--disabled-bg-color);\n",
              "    fill: var(--disabled-fill-color);\n",
              "    box-shadow: none;\n",
              "  }\n",
              "\n",
              "  .colab-df-spinner {\n",
              "    border: 2px solid var(--fill-color);\n",
              "    border-color: transparent;\n",
              "    border-bottom-color: var(--fill-color);\n",
              "    animation:\n",
              "      spin 1s steps(1) infinite;\n",
              "  }\n",
              "\n",
              "  @keyframes spin {\n",
              "    0% {\n",
              "      border-color: transparent;\n",
              "      border-bottom-color: var(--fill-color);\n",
              "      border-left-color: var(--fill-color);\n",
              "    }\n",
              "    20% {\n",
              "      border-color: transparent;\n",
              "      border-left-color: var(--fill-color);\n",
              "      border-top-color: var(--fill-color);\n",
              "    }\n",
              "    30% {\n",
              "      border-color: transparent;\n",
              "      border-left-color: var(--fill-color);\n",
              "      border-top-color: var(--fill-color);\n",
              "      border-right-color: var(--fill-color);\n",
              "    }\n",
              "    40% {\n",
              "      border-color: transparent;\n",
              "      border-right-color: var(--fill-color);\n",
              "      border-top-color: var(--fill-color);\n",
              "    }\n",
              "    60% {\n",
              "      border-color: transparent;\n",
              "      border-right-color: var(--fill-color);\n",
              "    }\n",
              "    80% {\n",
              "      border-color: transparent;\n",
              "      border-right-color: var(--fill-color);\n",
              "      border-bottom-color: var(--fill-color);\n",
              "    }\n",
              "    90% {\n",
              "      border-color: transparent;\n",
              "      border-bottom-color: var(--fill-color);\n",
              "    }\n",
              "  }\n",
              "</style>\n",
              "\n",
              "  <script>\n",
              "    async function quickchart(key) {\n",
              "      const quickchartButtonEl =\n",
              "        document.querySelector('#' + key + ' button');\n",
              "      quickchartButtonEl.disabled = true;  // To prevent multiple clicks.\n",
              "      quickchartButtonEl.classList.add('colab-df-spinner');\n",
              "      try {\n",
              "        const charts = await google.colab.kernel.invokeFunction(\n",
              "            'suggestCharts', [key], {});\n",
              "      } catch (error) {\n",
              "        console.error('Error during call to suggestCharts:', error);\n",
              "      }\n",
              "      quickchartButtonEl.classList.remove('colab-df-spinner');\n",
              "      quickchartButtonEl.classList.add('colab-df-quickchart-complete');\n",
              "    }\n",
              "    (() => {\n",
              "      let quickchartButtonEl =\n",
              "        document.querySelector('#df-0fc736e5-ea80-4064-9de2-56010d4b5fe1 button');\n",
              "      quickchartButtonEl.style.display =\n",
              "        google.colab.kernel.accessAllowed ? 'block' : 'none';\n",
              "    })();\n",
              "  </script>\n",
              "</div>\n",
              "    </div>\n",
              "  </div>\n"
            ],
            "application/vnd.google.colaboratory.intrinsic+json": {
              "type": "dataframe",
              "summary": "{\n  \"name\": \"best_corr[:7]\",\n  \"rows\": 7,\n  \"fields\": [\n    {\n      \"column\": \"autocorrelation\",\n      \"properties\": {\n        \"dtype\": \"number\",\n        \"std\": 0.16846468035379986,\n        \"min\": 0.5281434865965475,\n        \"max\": 1.0,\n        \"num_unique_values\": 7,\n        \"samples\": [\n          1.0,\n          0.6827095206177886,\n          0.5281496421752742\n        ],\n        \"semantic_type\": \"\",\n        \"description\": \"\"\n      }\n    }\n  ]\n}"
            }
          },
          "metadata": {},
          "execution_count": 208
        }
      ],
      "source": [
        "# Выберем лаги (по номеру), которые лучше связанны с таргетом использую автокорреляцию.\n",
        "\n",
        "fig = tsaplots.plot_acf(data['num_orders'],lags= 50)\n",
        "plt.show()\n",
        "\n",
        "autocorr_data = pd.DataFrame(data=sm.tsa.acf(data['num_orders'],nlags=50), columns=['autocorrelation'])\n",
        "best_corr = autocorr_data.sort_values(by='autocorrelation', ascending=False).head(25)\n",
        "best_corr[:7]"
      ]
    },
    {
      "cell_type": "code",
      "execution_count": 209,
      "metadata": {
        "id": "QApxAmFE1sGG",
        "outputId": "7cfb5071-936c-442a-e20c-6a4137d1264e",
        "colab": {
          "base_uri": "https://localhost:8080/"
        }
      },
      "outputs": [
        {
          "output_type": "execute_result",
          "data": {
            "text/plain": [
              "((3373,), (375,))"
            ]
          },
          "metadata": {},
          "execution_count": 209
        }
      ],
      "source": [
        "# Добавим признаки с максимальным лагом 12 часа и окном 4 часа\n",
        "\n",
        "make_features(data, 24, 4)\n",
        "\n",
        "# Удалим пропуски\n",
        "\n",
        "data = data.dropna()\n",
        "\n",
        "# Разделим данные на выборки\n",
        "\n",
        "train, test = train_test_split(data, shuffle=False, test_size=0.1)\n",
        "\n",
        "# Выделим целевой признак\n",
        "\n",
        "y_train = train['num_orders']\n",
        "X_train = train.drop('num_orders', axis=1)\n",
        "\n",
        "y_test = test['num_orders']\n",
        "X_test = test.drop('num_orders', axis=1)\n",
        "\n",
        "y_train.shape, y_test.shape"
      ]
    },
    {
      "cell_type": "code",
      "execution_count": 210,
      "metadata": {
        "scrolled": false,
        "id": "UbgDY7qX1sGH",
        "outputId": "6997f18e-e6c6-4c45-a046-f794c0383fc1",
        "colab": {
          "base_uri": "https://localhost:8080/",
          "height": 328
        }
      },
      "outputs": [
        {
          "output_type": "execute_result",
          "data": {
            "text/plain": [
              "                     dayofweek  day  hour  lag_1  lag_2  lag_3  lag_4  \\\n",
              "datetime                                                                \n",
              "2018-03-28 20:00:00          2   28    20   49.0   50.0   55.0   84.0   \n",
              "2018-03-28 21:00:00          2   28    21   74.0   49.0   50.0   55.0   \n",
              "2018-03-28 22:00:00          2   28    22   76.0   74.0   49.0   50.0   \n",
              "\n",
              "                     rolling_mean  lag_5  lag_6  ...  lag_15  lag_16  lag_17  \\\n",
              "datetime                                         ...                           \n",
              "2018-03-28 20:00:00         59.50   45.0   42.0  ...    15.0    35.0    55.0   \n",
              "2018-03-28 21:00:00         57.00   84.0   45.0  ...    14.0    15.0    35.0   \n",
              "2018-03-28 22:00:00         62.25   55.0   84.0  ...    20.0    14.0    15.0   \n",
              "\n",
              "                     lag_18  lag_19  lag_20  lag_21  lag_22  lag_23  lag_24  \n",
              "datetime                                                                     \n",
              "2018-03-28 20:00:00    51.0    57.0    95.0   118.0    45.0    39.0    59.0  \n",
              "2018-03-28 21:00:00    55.0    51.0    57.0    95.0   118.0    45.0    39.0  \n",
              "2018-03-28 22:00:00    35.0    55.0    51.0    57.0    95.0   118.0    45.0  \n",
              "\n",
              "[3 rows x 28 columns]"
            ],
            "text/html": [
              "\n",
              "  <div id=\"df-b64a7c9e-7c67-4c56-9523-44c58b4fc538\" class=\"colab-df-container\">\n",
              "    <div>\n",
              "<style scoped>\n",
              "    .dataframe tbody tr th:only-of-type {\n",
              "        vertical-align: middle;\n",
              "    }\n",
              "\n",
              "    .dataframe tbody tr th {\n",
              "        vertical-align: top;\n",
              "    }\n",
              "\n",
              "    .dataframe thead th {\n",
              "        text-align: right;\n",
              "    }\n",
              "</style>\n",
              "<table border=\"1\" class=\"dataframe\">\n",
              "  <thead>\n",
              "    <tr style=\"text-align: right;\">\n",
              "      <th></th>\n",
              "      <th>dayofweek</th>\n",
              "      <th>day</th>\n",
              "      <th>hour</th>\n",
              "      <th>lag_1</th>\n",
              "      <th>lag_2</th>\n",
              "      <th>lag_3</th>\n",
              "      <th>lag_4</th>\n",
              "      <th>rolling_mean</th>\n",
              "      <th>lag_5</th>\n",
              "      <th>lag_6</th>\n",
              "      <th>...</th>\n",
              "      <th>lag_15</th>\n",
              "      <th>lag_16</th>\n",
              "      <th>lag_17</th>\n",
              "      <th>lag_18</th>\n",
              "      <th>lag_19</th>\n",
              "      <th>lag_20</th>\n",
              "      <th>lag_21</th>\n",
              "      <th>lag_22</th>\n",
              "      <th>lag_23</th>\n",
              "      <th>lag_24</th>\n",
              "    </tr>\n",
              "    <tr>\n",
              "      <th>datetime</th>\n",
              "      <th></th>\n",
              "      <th></th>\n",
              "      <th></th>\n",
              "      <th></th>\n",
              "      <th></th>\n",
              "      <th></th>\n",
              "      <th></th>\n",
              "      <th></th>\n",
              "      <th></th>\n",
              "      <th></th>\n",
              "      <th></th>\n",
              "      <th></th>\n",
              "      <th></th>\n",
              "      <th></th>\n",
              "      <th></th>\n",
              "      <th></th>\n",
              "      <th></th>\n",
              "      <th></th>\n",
              "      <th></th>\n",
              "      <th></th>\n",
              "      <th></th>\n",
              "    </tr>\n",
              "  </thead>\n",
              "  <tbody>\n",
              "    <tr>\n",
              "      <th>2018-03-28 20:00:00</th>\n",
              "      <td>2</td>\n",
              "      <td>28</td>\n",
              "      <td>20</td>\n",
              "      <td>49.0</td>\n",
              "      <td>50.0</td>\n",
              "      <td>55.0</td>\n",
              "      <td>84.0</td>\n",
              "      <td>59.50</td>\n",
              "      <td>45.0</td>\n",
              "      <td>42.0</td>\n",
              "      <td>...</td>\n",
              "      <td>15.0</td>\n",
              "      <td>35.0</td>\n",
              "      <td>55.0</td>\n",
              "      <td>51.0</td>\n",
              "      <td>57.0</td>\n",
              "      <td>95.0</td>\n",
              "      <td>118.0</td>\n",
              "      <td>45.0</td>\n",
              "      <td>39.0</td>\n",
              "      <td>59.0</td>\n",
              "    </tr>\n",
              "    <tr>\n",
              "      <th>2018-03-28 21:00:00</th>\n",
              "      <td>2</td>\n",
              "      <td>28</td>\n",
              "      <td>21</td>\n",
              "      <td>74.0</td>\n",
              "      <td>49.0</td>\n",
              "      <td>50.0</td>\n",
              "      <td>55.0</td>\n",
              "      <td>57.00</td>\n",
              "      <td>84.0</td>\n",
              "      <td>45.0</td>\n",
              "      <td>...</td>\n",
              "      <td>14.0</td>\n",
              "      <td>15.0</td>\n",
              "      <td>35.0</td>\n",
              "      <td>55.0</td>\n",
              "      <td>51.0</td>\n",
              "      <td>57.0</td>\n",
              "      <td>95.0</td>\n",
              "      <td>118.0</td>\n",
              "      <td>45.0</td>\n",
              "      <td>39.0</td>\n",
              "    </tr>\n",
              "    <tr>\n",
              "      <th>2018-03-28 22:00:00</th>\n",
              "      <td>2</td>\n",
              "      <td>28</td>\n",
              "      <td>22</td>\n",
              "      <td>76.0</td>\n",
              "      <td>74.0</td>\n",
              "      <td>49.0</td>\n",
              "      <td>50.0</td>\n",
              "      <td>62.25</td>\n",
              "      <td>55.0</td>\n",
              "      <td>84.0</td>\n",
              "      <td>...</td>\n",
              "      <td>20.0</td>\n",
              "      <td>14.0</td>\n",
              "      <td>15.0</td>\n",
              "      <td>35.0</td>\n",
              "      <td>55.0</td>\n",
              "      <td>51.0</td>\n",
              "      <td>57.0</td>\n",
              "      <td>95.0</td>\n",
              "      <td>118.0</td>\n",
              "      <td>45.0</td>\n",
              "    </tr>\n",
              "  </tbody>\n",
              "</table>\n",
              "<p>3 rows × 28 columns</p>\n",
              "</div>\n",
              "    <div class=\"colab-df-buttons\">\n",
              "\n",
              "  <div class=\"colab-df-container\">\n",
              "    <button class=\"colab-df-convert\" onclick=\"convertToInteractive('df-b64a7c9e-7c67-4c56-9523-44c58b4fc538')\"\n",
              "            title=\"Convert this dataframe to an interactive table.\"\n",
              "            style=\"display:none;\">\n",
              "\n",
              "  <svg xmlns=\"http://www.w3.org/2000/svg\" height=\"24px\" viewBox=\"0 -960 960 960\">\n",
              "    <path d=\"M120-120v-720h720v720H120Zm60-500h600v-160H180v160Zm220 220h160v-160H400v160Zm0 220h160v-160H400v160ZM180-400h160v-160H180v160Zm440 0h160v-160H620v160ZM180-180h160v-160H180v160Zm440 0h160v-160H620v160Z\"/>\n",
              "  </svg>\n",
              "    </button>\n",
              "\n",
              "  <style>\n",
              "    .colab-df-container {\n",
              "      display:flex;\n",
              "      gap: 12px;\n",
              "    }\n",
              "\n",
              "    .colab-df-convert {\n",
              "      background-color: #E8F0FE;\n",
              "      border: none;\n",
              "      border-radius: 50%;\n",
              "      cursor: pointer;\n",
              "      display: none;\n",
              "      fill: #1967D2;\n",
              "      height: 32px;\n",
              "      padding: 0 0 0 0;\n",
              "      width: 32px;\n",
              "    }\n",
              "\n",
              "    .colab-df-convert:hover {\n",
              "      background-color: #E2EBFA;\n",
              "      box-shadow: 0px 1px 2px rgba(60, 64, 67, 0.3), 0px 1px 3px 1px rgba(60, 64, 67, 0.15);\n",
              "      fill: #174EA6;\n",
              "    }\n",
              "\n",
              "    .colab-df-buttons div {\n",
              "      margin-bottom: 4px;\n",
              "    }\n",
              "\n",
              "    [theme=dark] .colab-df-convert {\n",
              "      background-color: #3B4455;\n",
              "      fill: #D2E3FC;\n",
              "    }\n",
              "\n",
              "    [theme=dark] .colab-df-convert:hover {\n",
              "      background-color: #434B5C;\n",
              "      box-shadow: 0px 1px 3px 1px rgba(0, 0, 0, 0.15);\n",
              "      filter: drop-shadow(0px 1px 2px rgba(0, 0, 0, 0.3));\n",
              "      fill: #FFFFFF;\n",
              "    }\n",
              "  </style>\n",
              "\n",
              "    <script>\n",
              "      const buttonEl =\n",
              "        document.querySelector('#df-b64a7c9e-7c67-4c56-9523-44c58b4fc538 button.colab-df-convert');\n",
              "      buttonEl.style.display =\n",
              "        google.colab.kernel.accessAllowed ? 'block' : 'none';\n",
              "\n",
              "      async function convertToInteractive(key) {\n",
              "        const element = document.querySelector('#df-b64a7c9e-7c67-4c56-9523-44c58b4fc538');\n",
              "        const dataTable =\n",
              "          await google.colab.kernel.invokeFunction('convertToInteractive',\n",
              "                                                    [key], {});\n",
              "        if (!dataTable) return;\n",
              "\n",
              "        const docLinkHtml = 'Like what you see? Visit the ' +\n",
              "          '<a target=\"_blank\" href=https://colab.research.google.com/notebooks/data_table.ipynb>data table notebook</a>'\n",
              "          + ' to learn more about interactive tables.';\n",
              "        element.innerHTML = '';\n",
              "        dataTable['output_type'] = 'display_data';\n",
              "        await google.colab.output.renderOutput(dataTable, element);\n",
              "        const docLink = document.createElement('div');\n",
              "        docLink.innerHTML = docLinkHtml;\n",
              "        element.appendChild(docLink);\n",
              "      }\n",
              "    </script>\n",
              "  </div>\n",
              "\n",
              "\n",
              "<div id=\"df-47057bd2-b907-4fde-a82e-1099b97824c3\">\n",
              "  <button class=\"colab-df-quickchart\" onclick=\"quickchart('df-47057bd2-b907-4fde-a82e-1099b97824c3')\"\n",
              "            title=\"Suggest charts\"\n",
              "            style=\"display:none;\">\n",
              "\n",
              "<svg xmlns=\"http://www.w3.org/2000/svg\" height=\"24px\"viewBox=\"0 0 24 24\"\n",
              "     width=\"24px\">\n",
              "    <g>\n",
              "        <path d=\"M19 3H5c-1.1 0-2 .9-2 2v14c0 1.1.9 2 2 2h14c1.1 0 2-.9 2-2V5c0-1.1-.9-2-2-2zM9 17H7v-7h2v7zm4 0h-2V7h2v10zm4 0h-2v-4h2v4z\"/>\n",
              "    </g>\n",
              "</svg>\n",
              "  </button>\n",
              "\n",
              "<style>\n",
              "  .colab-df-quickchart {\n",
              "      --bg-color: #E8F0FE;\n",
              "      --fill-color: #1967D2;\n",
              "      --hover-bg-color: #E2EBFA;\n",
              "      --hover-fill-color: #174EA6;\n",
              "      --disabled-fill-color: #AAA;\n",
              "      --disabled-bg-color: #DDD;\n",
              "  }\n",
              "\n",
              "  [theme=dark] .colab-df-quickchart {\n",
              "      --bg-color: #3B4455;\n",
              "      --fill-color: #D2E3FC;\n",
              "      --hover-bg-color: #434B5C;\n",
              "      --hover-fill-color: #FFFFFF;\n",
              "      --disabled-bg-color: #3B4455;\n",
              "      --disabled-fill-color: #666;\n",
              "  }\n",
              "\n",
              "  .colab-df-quickchart {\n",
              "    background-color: var(--bg-color);\n",
              "    border: none;\n",
              "    border-radius: 50%;\n",
              "    cursor: pointer;\n",
              "    display: none;\n",
              "    fill: var(--fill-color);\n",
              "    height: 32px;\n",
              "    padding: 0;\n",
              "    width: 32px;\n",
              "  }\n",
              "\n",
              "  .colab-df-quickchart:hover {\n",
              "    background-color: var(--hover-bg-color);\n",
              "    box-shadow: 0 1px 2px rgba(60, 64, 67, 0.3), 0 1px 3px 1px rgba(60, 64, 67, 0.15);\n",
              "    fill: var(--button-hover-fill-color);\n",
              "  }\n",
              "\n",
              "  .colab-df-quickchart-complete:disabled,\n",
              "  .colab-df-quickchart-complete:disabled:hover {\n",
              "    background-color: var(--disabled-bg-color);\n",
              "    fill: var(--disabled-fill-color);\n",
              "    box-shadow: none;\n",
              "  }\n",
              "\n",
              "  .colab-df-spinner {\n",
              "    border: 2px solid var(--fill-color);\n",
              "    border-color: transparent;\n",
              "    border-bottom-color: var(--fill-color);\n",
              "    animation:\n",
              "      spin 1s steps(1) infinite;\n",
              "  }\n",
              "\n",
              "  @keyframes spin {\n",
              "    0% {\n",
              "      border-color: transparent;\n",
              "      border-bottom-color: var(--fill-color);\n",
              "      border-left-color: var(--fill-color);\n",
              "    }\n",
              "    20% {\n",
              "      border-color: transparent;\n",
              "      border-left-color: var(--fill-color);\n",
              "      border-top-color: var(--fill-color);\n",
              "    }\n",
              "    30% {\n",
              "      border-color: transparent;\n",
              "      border-left-color: var(--fill-color);\n",
              "      border-top-color: var(--fill-color);\n",
              "      border-right-color: var(--fill-color);\n",
              "    }\n",
              "    40% {\n",
              "      border-color: transparent;\n",
              "      border-right-color: var(--fill-color);\n",
              "      border-top-color: var(--fill-color);\n",
              "    }\n",
              "    60% {\n",
              "      border-color: transparent;\n",
              "      border-right-color: var(--fill-color);\n",
              "    }\n",
              "    80% {\n",
              "      border-color: transparent;\n",
              "      border-right-color: var(--fill-color);\n",
              "      border-bottom-color: var(--fill-color);\n",
              "    }\n",
              "    90% {\n",
              "      border-color: transparent;\n",
              "      border-bottom-color: var(--fill-color);\n",
              "    }\n",
              "  }\n",
              "</style>\n",
              "\n",
              "  <script>\n",
              "    async function quickchart(key) {\n",
              "      const quickchartButtonEl =\n",
              "        document.querySelector('#' + key + ' button');\n",
              "      quickchartButtonEl.disabled = true;  // To prevent multiple clicks.\n",
              "      quickchartButtonEl.classList.add('colab-df-spinner');\n",
              "      try {\n",
              "        const charts = await google.colab.kernel.invokeFunction(\n",
              "            'suggestCharts', [key], {});\n",
              "      } catch (error) {\n",
              "        console.error('Error during call to suggestCharts:', error);\n",
              "      }\n",
              "      quickchartButtonEl.classList.remove('colab-df-spinner');\n",
              "      quickchartButtonEl.classList.add('colab-df-quickchart-complete');\n",
              "    }\n",
              "    (() => {\n",
              "      let quickchartButtonEl =\n",
              "        document.querySelector('#df-47057bd2-b907-4fde-a82e-1099b97824c3 button');\n",
              "      quickchartButtonEl.style.display =\n",
              "        google.colab.kernel.accessAllowed ? 'block' : 'none';\n",
              "    })();\n",
              "  </script>\n",
              "</div>\n",
              "    </div>\n",
              "  </div>\n"
            ],
            "application/vnd.google.colaboratory.intrinsic+json": {
              "type": "dataframe",
              "variable_name": "X_train"
            }
          },
          "metadata": {},
          "execution_count": 210
        }
      ],
      "source": [
        "X_train.head(3)"
      ]
    },
    {
      "cell_type": "markdown",
      "source": [
        "____"
      ],
      "metadata": {
        "id": "V3UAA-gKQzZp"
      }
    },
    {
      "cell_type": "markdown",
      "metadata": {
        "id": "WMi-z8MV1sFm"
      },
      "source": [
        "## Обучение моделей"
      ]
    },
    {
      "cell_type": "markdown",
      "metadata": {
        "id": "WvBxFi3r1sFu"
      },
      "source": [
        "### Линейная регрессия"
      ]
    },
    {
      "cell_type": "markdown",
      "source": [
        "***Заметки:***\n",
        "- В случае временного ряда в каждом сплите тестовые индексы должны быть позже по времени, чем обучающие, поэтому перетасовка обычным способом неуместна. Эту проблему решает TimeSeriesSplit.\n"
      ],
      "metadata": {
        "id": "TQ5NUcfuRkZU"
      }
    },
    {
      "cell_type": "code",
      "execution_count": 211,
      "metadata": {
        "id": "7Sf9i1Bq1sGM"
      },
      "outputs": [],
      "source": [
        "# Обучим модель линейной регрессии\n",
        "model_lr = LinearRegression().fit(X_train, y_train)\n",
        "\n",
        "# Проверка модели линейной регрессии на кросс-валидации.\n",
        "tscv = TimeSeriesSplit(n_splits=5)\n",
        "rmse_lr = cross_val_score(model_lr,\n",
        "                          X_train,\n",
        "                          y_train,\n",
        "                          cv=tscv,\n",
        "                          scoring=scorer)\n"
      ]
    },
    {
      "cell_type": "code",
      "execution_count": 212,
      "metadata": {
        "id": "-4uwKmiM1sGP",
        "colab": {
          "base_uri": "https://localhost:8080/",
          "height": 81
        },
        "outputId": "3aab2645-d8d7-484c-c55e-e3d82bf7f7c6"
      },
      "outputs": [
        {
          "output_type": "execute_result",
          "data": {
            "text/plain": [
              "              model  rmse\n",
              "0  LinearRegression  35.0"
            ],
            "text/html": [
              "\n",
              "  <div id=\"df-7dc146e8-51d9-4ae0-b51e-33fc80ba7f8e\" class=\"colab-df-container\">\n",
              "    <div>\n",
              "<style scoped>\n",
              "    .dataframe tbody tr th:only-of-type {\n",
              "        vertical-align: middle;\n",
              "    }\n",
              "\n",
              "    .dataframe tbody tr th {\n",
              "        vertical-align: top;\n",
              "    }\n",
              "\n",
              "    .dataframe thead th {\n",
              "        text-align: right;\n",
              "    }\n",
              "</style>\n",
              "<table border=\"1\" class=\"dataframe\">\n",
              "  <thead>\n",
              "    <tr style=\"text-align: right;\">\n",
              "      <th></th>\n",
              "      <th>model</th>\n",
              "      <th>rmse</th>\n",
              "    </tr>\n",
              "  </thead>\n",
              "  <tbody>\n",
              "    <tr>\n",
              "      <th>0</th>\n",
              "      <td>LinearRegression</td>\n",
              "      <td>35.0</td>\n",
              "    </tr>\n",
              "  </tbody>\n",
              "</table>\n",
              "</div>\n",
              "    <div class=\"colab-df-buttons\">\n",
              "\n",
              "  <div class=\"colab-df-container\">\n",
              "    <button class=\"colab-df-convert\" onclick=\"convertToInteractive('df-7dc146e8-51d9-4ae0-b51e-33fc80ba7f8e')\"\n",
              "            title=\"Convert this dataframe to an interactive table.\"\n",
              "            style=\"display:none;\">\n",
              "\n",
              "  <svg xmlns=\"http://www.w3.org/2000/svg\" height=\"24px\" viewBox=\"0 -960 960 960\">\n",
              "    <path d=\"M120-120v-720h720v720H120Zm60-500h600v-160H180v160Zm220 220h160v-160H400v160Zm0 220h160v-160H400v160ZM180-400h160v-160H180v160Zm440 0h160v-160H620v160ZM180-180h160v-160H180v160Zm440 0h160v-160H620v160Z\"/>\n",
              "  </svg>\n",
              "    </button>\n",
              "\n",
              "  <style>\n",
              "    .colab-df-container {\n",
              "      display:flex;\n",
              "      gap: 12px;\n",
              "    }\n",
              "\n",
              "    .colab-df-convert {\n",
              "      background-color: #E8F0FE;\n",
              "      border: none;\n",
              "      border-radius: 50%;\n",
              "      cursor: pointer;\n",
              "      display: none;\n",
              "      fill: #1967D2;\n",
              "      height: 32px;\n",
              "      padding: 0 0 0 0;\n",
              "      width: 32px;\n",
              "    }\n",
              "\n",
              "    .colab-df-convert:hover {\n",
              "      background-color: #E2EBFA;\n",
              "      box-shadow: 0px 1px 2px rgba(60, 64, 67, 0.3), 0px 1px 3px 1px rgba(60, 64, 67, 0.15);\n",
              "      fill: #174EA6;\n",
              "    }\n",
              "\n",
              "    .colab-df-buttons div {\n",
              "      margin-bottom: 4px;\n",
              "    }\n",
              "\n",
              "    [theme=dark] .colab-df-convert {\n",
              "      background-color: #3B4455;\n",
              "      fill: #D2E3FC;\n",
              "    }\n",
              "\n",
              "    [theme=dark] .colab-df-convert:hover {\n",
              "      background-color: #434B5C;\n",
              "      box-shadow: 0px 1px 3px 1px rgba(0, 0, 0, 0.15);\n",
              "      filter: drop-shadow(0px 1px 2px rgba(0, 0, 0, 0.3));\n",
              "      fill: #FFFFFF;\n",
              "    }\n",
              "  </style>\n",
              "\n",
              "    <script>\n",
              "      const buttonEl =\n",
              "        document.querySelector('#df-7dc146e8-51d9-4ae0-b51e-33fc80ba7f8e button.colab-df-convert');\n",
              "      buttonEl.style.display =\n",
              "        google.colab.kernel.accessAllowed ? 'block' : 'none';\n",
              "\n",
              "      async function convertToInteractive(key) {\n",
              "        const element = document.querySelector('#df-7dc146e8-51d9-4ae0-b51e-33fc80ba7f8e');\n",
              "        const dataTable =\n",
              "          await google.colab.kernel.invokeFunction('convertToInteractive',\n",
              "                                                    [key], {});\n",
              "        if (!dataTable) return;\n",
              "\n",
              "        const docLinkHtml = 'Like what you see? Visit the ' +\n",
              "          '<a target=\"_blank\" href=https://colab.research.google.com/notebooks/data_table.ipynb>data table notebook</a>'\n",
              "          + ' to learn more about interactive tables.';\n",
              "        element.innerHTML = '';\n",
              "        dataTable['output_type'] = 'display_data';\n",
              "        await google.colab.output.renderOutput(dataTable, element);\n",
              "        const docLink = document.createElement('div');\n",
              "        docLink.innerHTML = docLinkHtml;\n",
              "        element.appendChild(docLink);\n",
              "      }\n",
              "    </script>\n",
              "  </div>\n",
              "\n",
              "    </div>\n",
              "  </div>\n"
            ],
            "application/vnd.google.colaboratory.intrinsic+json": {
              "type": "dataframe",
              "variable_name": "df_results",
              "summary": "{\n  \"name\": \"df_results\",\n  \"rows\": 1,\n  \"fields\": [\n    {\n      \"column\": \"model\",\n      \"properties\": {\n        \"dtype\": \"string\",\n        \"num_unique_values\": 1,\n        \"samples\": [\n          \"LinearRegression\"\n        ],\n        \"semantic_type\": \"\",\n        \"description\": \"\"\n      }\n    },\n    {\n      \"column\": \"rmse\",\n      \"properties\": {\n        \"dtype\": \"number\",\n        \"std\": null,\n        \"min\": 35.0,\n        \"max\": 35.0,\n        \"num_unique_values\": 1,\n        \"samples\": [\n          35.0\n        ],\n        \"semantic_type\": \"\",\n        \"description\": \"\"\n      }\n    }\n  ]\n}"
            }
          },
          "metadata": {},
          "execution_count": 212
        }
      ],
      "source": [
        "# Создадим датафрейм с результатами\n",
        "\n",
        "df_results = pd.DataFrame(columns=['model', 'rmse'])\n",
        "\n",
        "# Добавим строку к фрейму с результатами\n",
        "df_results.loc[len(df_results)] = ['LinearRegression', round(max(-rmse_lr), 2)]\n",
        "\n",
        "df_results"
      ]
    },
    {
      "cell_type": "markdown",
      "metadata": {
        "id": "tPO0wyly1sGQ"
      },
      "source": [
        "---"
      ]
    },
    {
      "cell_type": "markdown",
      "metadata": {
        "id": "5q7SELgP1sGQ"
      },
      "source": [
        "### Модель Ridge"
      ]
    },
    {
      "cell_type": "code",
      "execution_count": 213,
      "metadata": {
        "id": "sAHwNZiI1sGR",
        "outputId": "e9e8c58c-fc48-4b40-bc74-4c9a1b0e7a45",
        "colab": {
          "base_uri": "https://localhost:8080/"
        }
      },
      "outputs": [
        {
          "output_type": "stream",
          "name": "stdout",
          "text": [
            "Лучшее RMSE на кросс-валидации: 28.7\n",
            "best_params: {'alpha': 0.21000000000000002}\n"
          ]
        }
      ],
      "source": [
        "# Найдём оптимальные гиперпараметры модели\n",
        "\n",
        "model_ridge = Ridge(random_state=12345).fit(X_train, y_train)\n",
        "\n",
        "param_grid_ridge = {'alpha': np.arange(0.01, 0.22, 0.05)}  # словарь с гиперпараметрами\n",
        "\n",
        "gs_ridge = GridSearchCV(model_ridge,\n",
        "                        param_grid=param_grid_ridge,\n",
        "                        scoring='neg_root_mean_squared_error',  # вот такую штуку нашёл)\n",
        "                        cv=TimeSeriesSplit(n_splits=3))\n",
        "\n",
        "gs_ridge.fit(X_train, y_train)\n",
        "\n",
        "# лучшее значение RMSE на кросс-валидации\n",
        "print(f'Лучшее RMSE на кросс-валидации: {round(-gs_ridge.best_score_, 2)}')\n",
        "\n",
        "# лучшие гиперпараметры\n",
        "print(f'best_params: {gs_ridge.best_params_}')"
      ]
    },
    {
      "cell_type": "code",
      "execution_count": 214,
      "metadata": {
        "id": "NpJUECrc1sGS"
      },
      "outputs": [],
      "source": [
        "# Добавим строку к фрейму с результатами\n",
        "\n",
        "df_results.loc[len(df_results)] = ['Ridge', round(-gs_ridge.best_score_, 2)]"
      ]
    },
    {
      "cell_type": "markdown",
      "metadata": {
        "id": "igdt7x2J1sGU"
      },
      "source": [
        "---"
      ]
    },
    {
      "cell_type": "markdown",
      "metadata": {
        "id": "a7R7DQke1sGU"
      },
      "source": [
        "### Случайный лес"
      ]
    },
    {
      "cell_type": "code",
      "execution_count": 215,
      "metadata": {
        "id": "-ICYA1jg1sGV",
        "outputId": "275671f7-4697-41a7-f0c2-0264f8bdf590",
        "colab": {
          "base_uri": "https://localhost:8080/"
        }
      },
      "outputs": [
        {
          "output_type": "execute_result",
          "data": {
            "text/plain": [
              "({'n_estimators': 50, 'max_depth': 12}, 26.29)"
            ]
          },
          "metadata": {},
          "execution_count": 215
        }
      ],
      "source": [
        "# Найдём оптимальные гиперпараметры модели\n",
        "\n",
        "rs_rfr = RandomizedSearchCV(RandomForestRegressor(),\n",
        "                            {'max_depth': range(6, 13, 3),\n",
        "                             'n_estimators': [50, 100, 200, 500]},\n",
        "                              scoring='neg_root_mean_squared_error',\n",
        "                              n_iter=3,\n",
        "                              cv=TimeSeriesSplit(n_splits=5),\n",
        "                              random_state=12345)\n",
        "\n",
        "rs_rfr.fit(X_train, y_train)\n",
        "\n",
        "rs_rfr.best_params_, round(-rs_rfr.best_score_, 2)"
      ]
    },
    {
      "cell_type": "code",
      "execution_count": 216,
      "metadata": {
        "id": "McC5jikC1sGW"
      },
      "outputs": [],
      "source": [
        "# Добавим строку к фрейму с результатами\n",
        "\n",
        "df_results.loc[len(df_results)] = ['RandomForestRegressor', round(-rs_rfr.best_score_, 2)]"
      ]
    },
    {
      "cell_type": "markdown",
      "metadata": {
        "id": "LMl0klgp1sGX"
      },
      "source": [
        "---"
      ]
    },
    {
      "cell_type": "markdown",
      "metadata": {
        "id": "wpM8eqxl1sGX"
      },
      "source": [
        "### Модель LightGBM"
      ]
    },
    {
      "cell_type": "code",
      "execution_count": 217,
      "metadata": {
        "scrolled": true,
        "id": "nsEp3j8x1sGY",
        "outputId": "b93b6990-2261-402b-ae7b-a23df0df7e1d",
        "colab": {
          "base_uri": "https://localhost:8080/"
        }
      },
      "outputs": [
        {
          "output_type": "stream",
          "name": "stdout",
          "text": [
            "[LightGBM] [Info] Auto-choosing col-wise multi-threading, the overhead of testing was 0.002688 seconds.\n",
            "You can set `force_col_wise=true` to remove the overhead.\n",
            "[LightGBM] [Info] Total Bins 4846\n",
            "[LightGBM] [Info] Number of data points in the train set: 3373, number of used features: 28\n",
            "[LightGBM] [Info] Start training from score 83.413282\n",
            "RMSE на тренировочной выборке: 11.77\n"
          ]
        }
      ],
      "source": [
        "# Подготовим признаки\n",
        "\n",
        "train_dataset = lgb.Dataset(X_train, y_train,\n",
        "                            feature_name=X_train.columns.tolist())\n",
        "\n",
        "# Обучим модель\n",
        "\n",
        "booster = lgb.train({\"objective\": \"regression\"},\n",
        "                     train_set=train_dataset,\n",
        "                     num_boost_round=100\n",
        "                    )\n",
        "\n",
        "# Проверка модели на тренировочной выборке\n",
        "pred_lgb = booster.predict(X_train)\n",
        "rmse_lgb = RMSE(y_train, pred_lgb)\n",
        "print(f'RMSE на тренировочной выборке: {round(rmse_lgb, 2)}')"
      ]
    },
    {
      "cell_type": "code",
      "execution_count": 218,
      "metadata": {
        "id": "dJUlThOL1sGa"
      },
      "outputs": [],
      "source": [
        "# Добавим строку к фрейму с результатами\n",
        "\n",
        "df_results.loc[len(df_results)] = ['LightGBM', round(rmse_lgb, 2)]"
      ]
    },
    {
      "cell_type": "markdown",
      "metadata": {
        "id": "-CE8uBjD1sGd"
      },
      "source": [
        "---"
      ]
    },
    {
      "cell_type": "markdown",
      "metadata": {
        "id": "N2T2NcVu1sGe"
      },
      "source": [
        "### Модель CatBoost"
      ]
    },
    {
      "cell_type": "code",
      "execution_count": 219,
      "metadata": {
        "colab": {
          "base_uri": "https://localhost:8080/",
          "height": 52,
          "referenced_widgets": [
            "899ede68fe74412f99bb3a845e3127eb"
          ]
        },
        "id": "Rkn3xrCX1sGf",
        "outputId": "e962c25f-abc8-4461-8746-0e7a723f6464"
      },
      "outputs": [
        {
          "output_type": "display_data",
          "data": {
            "text/plain": [
              "MetricVisualizer(layout=Layout(align_self='stretch', height='500px'))"
            ],
            "application/vnd.jupyter.widget-view+json": {
              "version_major": 2,
              "version_minor": 0,
              "model_id": "899ede68fe74412f99bb3a845e3127eb"
            }
          },
          "metadata": {}
        },
        {
          "output_type": "stream",
          "name": "stdout",
          "text": [
            "RMSE при кросс-валидации без временного сплита: 12.85\n",
            "RMSE на тренировочной выборке: 12.85\n"
          ]
        }
      ],
      "source": [
        "# Обуим модель\n",
        "\n",
        "catboost = CatBoostRegressor(iterations=200,\n",
        "                             learning_rate = 0.1, depth=8)\n",
        "catboost.fit(X_train, y_train,\n",
        "             verbose=False, plot=True)\n",
        "\n",
        "rmse_catboost = round(catboost.best_score_['learn']['RMSE'], 2)\n",
        "print(f'RMSE при кросс-валидации без временного сплита: {rmse_catboost}')\n",
        "\n",
        "# Проверка модели на тренировочной выборке\n",
        "pred_catboost_tr = catboost.predict(X_train)\n",
        "rmse_catboost_tr = RMSE(y_train, pred_catboost_tr)\n",
        "print(f'RMSE на тренировочной выборке: {round(rmse_catboost_tr, 2)}')\n"
      ]
    },
    {
      "cell_type": "code",
      "execution_count": 220,
      "metadata": {
        "id": "HO4uVqsp1sGf"
      },
      "outputs": [],
      "source": [
        "# Добавим строку к фрейму с результатами\n",
        "\n",
        "df_results.loc[len(df_results)] = ['CatBoost', round(rmse_catboost_tr, 2)]"
      ]
    },
    {
      "cell_type": "markdown",
      "metadata": {
        "id": "Yy7-OmtT1sGg"
      },
      "source": [
        "***Заметки:***\n",
        "\n",
        "- При простой реализацией бустинга без подбора параметров, модель LightGBM не выдают значение best_score;\n",
        "- Не понятно как сделать временной сплит при кросс-валидации для моделей CatBoost и LightGBM;   \n",
        "- Для LGBM модели нужно сделать для категориальных признаков порядковое кодирование с помощью OrdinalEncoder:\n",
        "    \n",
        "```python\n",
        "gsearch_lgbm = GridSearchCV(gbm, param_grid=parameters, scoring='neg_root_mean_squared_error', cv=TimeSeriesSplit(n_splits=3))\n",
        "gsearch_lgbm.fit(features_train, target_train)\n",
        "gsearch_lgbm.best_score_\n",
        "gsearch_lgbm.best_estimator_.get_params()\n",
        "```\n",
        "\n",
        "- Кэтбустер умеет работать с категориальными признаками, нужно их только подать:\n",
        "\n",
        "```python\n",
        "%%time\n",
        "\n",
        "cat_columns = ['day','dayofweek']\n",
        "cat_model = CatBoostRegressor(loss_function='RMSE',verbose=False,cat_features=cat_columns)\n",
        "\n",
        "# создаем словарь с гиперпараметрами\n",
        "grid = {'iterations': [100,150,200],\n",
        "        'learning_rate': [0.03,0.1],\n",
        "        'depth': [ 6, 8, 10]\n",
        "        }\n",
        "cat_grid_result = cat_model.grid_search(grid,\n",
        "                                       X=X_train,\n",
        "                                       y=y_train,\n",
        "                                    cv=TimeSeriesSplit(n_splits=3)\n",
        "                                       )\n",
        "print('лучший результат RMSE ', cat_model.best_score_['learn']['RMSE'], ' c параметрами ', cat_grid_result['params'])\n",
        "```"
      ]
    },
    {
      "cell_type": "markdown",
      "metadata": {
        "id": "8yX62Zjk1sGj"
      },
      "source": [
        "---"
      ]
    },
    {
      "cell_type": "markdown",
      "metadata": {
        "id": "09OndbwY1sGk"
      },
      "source": [
        "## Тестирование"
      ]
    },
    {
      "cell_type": "code",
      "execution_count": 221,
      "metadata": {
        "scrolled": true,
        "id": "qNHosGd71sGk",
        "colab": {
          "base_uri": "https://localhost:8080/",
          "height": 206
        },
        "outputId": "f733a0d5-3846-4de1-d431-0af77df4c1f9"
      },
      "outputs": [
        {
          "output_type": "execute_result",
          "data": {
            "text/plain": [
              "                   model   rmse\n",
              "0       LinearRegression  35.00\n",
              "1                  Ridge  28.70\n",
              "2  RandomForestRegressor  26.29\n",
              "3               LightGBM  11.77\n",
              "4               CatBoost  12.85"
            ],
            "text/html": [
              "\n",
              "  <div id=\"df-c96b36d2-c8e1-4de5-a5db-4726df50fd79\" class=\"colab-df-container\">\n",
              "    <div>\n",
              "<style scoped>\n",
              "    .dataframe tbody tr th:only-of-type {\n",
              "        vertical-align: middle;\n",
              "    }\n",
              "\n",
              "    .dataframe tbody tr th {\n",
              "        vertical-align: top;\n",
              "    }\n",
              "\n",
              "    .dataframe thead th {\n",
              "        text-align: right;\n",
              "    }\n",
              "</style>\n",
              "<table border=\"1\" class=\"dataframe\">\n",
              "  <thead>\n",
              "    <tr style=\"text-align: right;\">\n",
              "      <th></th>\n",
              "      <th>model</th>\n",
              "      <th>rmse</th>\n",
              "    </tr>\n",
              "  </thead>\n",
              "  <tbody>\n",
              "    <tr>\n",
              "      <th>0</th>\n",
              "      <td>LinearRegression</td>\n",
              "      <td>35.00</td>\n",
              "    </tr>\n",
              "    <tr>\n",
              "      <th>1</th>\n",
              "      <td>Ridge</td>\n",
              "      <td>28.70</td>\n",
              "    </tr>\n",
              "    <tr>\n",
              "      <th>2</th>\n",
              "      <td>RandomForestRegressor</td>\n",
              "      <td>26.29</td>\n",
              "    </tr>\n",
              "    <tr>\n",
              "      <th>3</th>\n",
              "      <td>LightGBM</td>\n",
              "      <td>11.77</td>\n",
              "    </tr>\n",
              "    <tr>\n",
              "      <th>4</th>\n",
              "      <td>CatBoost</td>\n",
              "      <td>12.85</td>\n",
              "    </tr>\n",
              "  </tbody>\n",
              "</table>\n",
              "</div>\n",
              "    <div class=\"colab-df-buttons\">\n",
              "\n",
              "  <div class=\"colab-df-container\">\n",
              "    <button class=\"colab-df-convert\" onclick=\"convertToInteractive('df-c96b36d2-c8e1-4de5-a5db-4726df50fd79')\"\n",
              "            title=\"Convert this dataframe to an interactive table.\"\n",
              "            style=\"display:none;\">\n",
              "\n",
              "  <svg xmlns=\"http://www.w3.org/2000/svg\" height=\"24px\" viewBox=\"0 -960 960 960\">\n",
              "    <path d=\"M120-120v-720h720v720H120Zm60-500h600v-160H180v160Zm220 220h160v-160H400v160Zm0 220h160v-160H400v160ZM180-400h160v-160H180v160Zm440 0h160v-160H620v160ZM180-180h160v-160H180v160Zm440 0h160v-160H620v160Z\"/>\n",
              "  </svg>\n",
              "    </button>\n",
              "\n",
              "  <style>\n",
              "    .colab-df-container {\n",
              "      display:flex;\n",
              "      gap: 12px;\n",
              "    }\n",
              "\n",
              "    .colab-df-convert {\n",
              "      background-color: #E8F0FE;\n",
              "      border: none;\n",
              "      border-radius: 50%;\n",
              "      cursor: pointer;\n",
              "      display: none;\n",
              "      fill: #1967D2;\n",
              "      height: 32px;\n",
              "      padding: 0 0 0 0;\n",
              "      width: 32px;\n",
              "    }\n",
              "\n",
              "    .colab-df-convert:hover {\n",
              "      background-color: #E2EBFA;\n",
              "      box-shadow: 0px 1px 2px rgba(60, 64, 67, 0.3), 0px 1px 3px 1px rgba(60, 64, 67, 0.15);\n",
              "      fill: #174EA6;\n",
              "    }\n",
              "\n",
              "    .colab-df-buttons div {\n",
              "      margin-bottom: 4px;\n",
              "    }\n",
              "\n",
              "    [theme=dark] .colab-df-convert {\n",
              "      background-color: #3B4455;\n",
              "      fill: #D2E3FC;\n",
              "    }\n",
              "\n",
              "    [theme=dark] .colab-df-convert:hover {\n",
              "      background-color: #434B5C;\n",
              "      box-shadow: 0px 1px 3px 1px rgba(0, 0, 0, 0.15);\n",
              "      filter: drop-shadow(0px 1px 2px rgba(0, 0, 0, 0.3));\n",
              "      fill: #FFFFFF;\n",
              "    }\n",
              "  </style>\n",
              "\n",
              "    <script>\n",
              "      const buttonEl =\n",
              "        document.querySelector('#df-c96b36d2-c8e1-4de5-a5db-4726df50fd79 button.colab-df-convert');\n",
              "      buttonEl.style.display =\n",
              "        google.colab.kernel.accessAllowed ? 'block' : 'none';\n",
              "\n",
              "      async function convertToInteractive(key) {\n",
              "        const element = document.querySelector('#df-c96b36d2-c8e1-4de5-a5db-4726df50fd79');\n",
              "        const dataTable =\n",
              "          await google.colab.kernel.invokeFunction('convertToInteractive',\n",
              "                                                    [key], {});\n",
              "        if (!dataTable) return;\n",
              "\n",
              "        const docLinkHtml = 'Like what you see? Visit the ' +\n",
              "          '<a target=\"_blank\" href=https://colab.research.google.com/notebooks/data_table.ipynb>data table notebook</a>'\n",
              "          + ' to learn more about interactive tables.';\n",
              "        element.innerHTML = '';\n",
              "        dataTable['output_type'] = 'display_data';\n",
              "        await google.colab.output.renderOutput(dataTable, element);\n",
              "        const docLink = document.createElement('div');\n",
              "        docLink.innerHTML = docLinkHtml;\n",
              "        element.appendChild(docLink);\n",
              "      }\n",
              "    </script>\n",
              "  </div>\n",
              "\n",
              "\n",
              "<div id=\"df-b52df1df-f501-4336-948a-874a6ef76957\">\n",
              "  <button class=\"colab-df-quickchart\" onclick=\"quickchart('df-b52df1df-f501-4336-948a-874a6ef76957')\"\n",
              "            title=\"Suggest charts\"\n",
              "            style=\"display:none;\">\n",
              "\n",
              "<svg xmlns=\"http://www.w3.org/2000/svg\" height=\"24px\"viewBox=\"0 0 24 24\"\n",
              "     width=\"24px\">\n",
              "    <g>\n",
              "        <path d=\"M19 3H5c-1.1 0-2 .9-2 2v14c0 1.1.9 2 2 2h14c1.1 0 2-.9 2-2V5c0-1.1-.9-2-2-2zM9 17H7v-7h2v7zm4 0h-2V7h2v10zm4 0h-2v-4h2v4z\"/>\n",
              "    </g>\n",
              "</svg>\n",
              "  </button>\n",
              "\n",
              "<style>\n",
              "  .colab-df-quickchart {\n",
              "      --bg-color: #E8F0FE;\n",
              "      --fill-color: #1967D2;\n",
              "      --hover-bg-color: #E2EBFA;\n",
              "      --hover-fill-color: #174EA6;\n",
              "      --disabled-fill-color: #AAA;\n",
              "      --disabled-bg-color: #DDD;\n",
              "  }\n",
              "\n",
              "  [theme=dark] .colab-df-quickchart {\n",
              "      --bg-color: #3B4455;\n",
              "      --fill-color: #D2E3FC;\n",
              "      --hover-bg-color: #434B5C;\n",
              "      --hover-fill-color: #FFFFFF;\n",
              "      --disabled-bg-color: #3B4455;\n",
              "      --disabled-fill-color: #666;\n",
              "  }\n",
              "\n",
              "  .colab-df-quickchart {\n",
              "    background-color: var(--bg-color);\n",
              "    border: none;\n",
              "    border-radius: 50%;\n",
              "    cursor: pointer;\n",
              "    display: none;\n",
              "    fill: var(--fill-color);\n",
              "    height: 32px;\n",
              "    padding: 0;\n",
              "    width: 32px;\n",
              "  }\n",
              "\n",
              "  .colab-df-quickchart:hover {\n",
              "    background-color: var(--hover-bg-color);\n",
              "    box-shadow: 0 1px 2px rgba(60, 64, 67, 0.3), 0 1px 3px 1px rgba(60, 64, 67, 0.15);\n",
              "    fill: var(--button-hover-fill-color);\n",
              "  }\n",
              "\n",
              "  .colab-df-quickchart-complete:disabled,\n",
              "  .colab-df-quickchart-complete:disabled:hover {\n",
              "    background-color: var(--disabled-bg-color);\n",
              "    fill: var(--disabled-fill-color);\n",
              "    box-shadow: none;\n",
              "  }\n",
              "\n",
              "  .colab-df-spinner {\n",
              "    border: 2px solid var(--fill-color);\n",
              "    border-color: transparent;\n",
              "    border-bottom-color: var(--fill-color);\n",
              "    animation:\n",
              "      spin 1s steps(1) infinite;\n",
              "  }\n",
              "\n",
              "  @keyframes spin {\n",
              "    0% {\n",
              "      border-color: transparent;\n",
              "      border-bottom-color: var(--fill-color);\n",
              "      border-left-color: var(--fill-color);\n",
              "    }\n",
              "    20% {\n",
              "      border-color: transparent;\n",
              "      border-left-color: var(--fill-color);\n",
              "      border-top-color: var(--fill-color);\n",
              "    }\n",
              "    30% {\n",
              "      border-color: transparent;\n",
              "      border-left-color: var(--fill-color);\n",
              "      border-top-color: var(--fill-color);\n",
              "      border-right-color: var(--fill-color);\n",
              "    }\n",
              "    40% {\n",
              "      border-color: transparent;\n",
              "      border-right-color: var(--fill-color);\n",
              "      border-top-color: var(--fill-color);\n",
              "    }\n",
              "    60% {\n",
              "      border-color: transparent;\n",
              "      border-right-color: var(--fill-color);\n",
              "    }\n",
              "    80% {\n",
              "      border-color: transparent;\n",
              "      border-right-color: var(--fill-color);\n",
              "      border-bottom-color: var(--fill-color);\n",
              "    }\n",
              "    90% {\n",
              "      border-color: transparent;\n",
              "      border-bottom-color: var(--fill-color);\n",
              "    }\n",
              "  }\n",
              "</style>\n",
              "\n",
              "  <script>\n",
              "    async function quickchart(key) {\n",
              "      const quickchartButtonEl =\n",
              "        document.querySelector('#' + key + ' button');\n",
              "      quickchartButtonEl.disabled = true;  // To prevent multiple clicks.\n",
              "      quickchartButtonEl.classList.add('colab-df-spinner');\n",
              "      try {\n",
              "        const charts = await google.colab.kernel.invokeFunction(\n",
              "            'suggestCharts', [key], {});\n",
              "      } catch (error) {\n",
              "        console.error('Error during call to suggestCharts:', error);\n",
              "      }\n",
              "      quickchartButtonEl.classList.remove('colab-df-spinner');\n",
              "      quickchartButtonEl.classList.add('colab-df-quickchart-complete');\n",
              "    }\n",
              "    (() => {\n",
              "      let quickchartButtonEl =\n",
              "        document.querySelector('#df-b52df1df-f501-4336-948a-874a6ef76957 button');\n",
              "      quickchartButtonEl.style.display =\n",
              "        google.colab.kernel.accessAllowed ? 'block' : 'none';\n",
              "    })();\n",
              "  </script>\n",
              "</div>\n",
              "    </div>\n",
              "  </div>\n"
            ],
            "application/vnd.google.colaboratory.intrinsic+json": {
              "type": "dataframe",
              "variable_name": "df_results",
              "summary": "{\n  \"name\": \"df_results\",\n  \"rows\": 5,\n  \"fields\": [\n    {\n      \"column\": \"model\",\n      \"properties\": {\n        \"dtype\": \"string\",\n        \"num_unique_values\": 5,\n        \"samples\": [\n          \"Ridge\",\n          \"CatBoost\",\n          \"RandomForestRegressor\"\n        ],\n        \"semantic_type\": \"\",\n        \"description\": \"\"\n      }\n    },\n    {\n      \"column\": \"rmse\",\n      \"properties\": {\n        \"dtype\": \"number\",\n        \"std\": 10.203174506005471,\n        \"min\": 11.77,\n        \"max\": 35.0,\n        \"num_unique_values\": 5,\n        \"samples\": [\n          28.7,\n          12.85,\n          26.29\n        ],\n        \"semantic_type\": \"\",\n        \"description\": \"\"\n      }\n    }\n  ]\n}"
            }
          },
          "metadata": {},
          "execution_count": 221
        }
      ],
      "source": [
        "# Результаты\n",
        "\n",
        "df_results"
      ]
    },
    {
      "cell_type": "markdown",
      "metadata": {
        "id": "YgUOz2kE1sGl"
      },
      "source": [
        "***Заметки:***\n",
        "* Лучшие результаты получается для моделей бустинга, пока не разобрался как для этих моделей задавать кроссвалидацию для временных рядов, поэтому метрике RMSE рассчитывалась на тренировочных данных;\n",
        "* Линейные модели и модель случайного леса имеют результаты хуже, но они \"по-честному\" проверялись с помощью кросс-валидации с временным сплитом TimeSeriesSplit;\n",
        "* На тестовой выборке будем проверять модель LightGBM и для страховки сравним с результами тестирования моделей LinearRegression и RandomForest, также сравним скорость предсказания.\n"
      ]
    },
    {
      "cell_type": "code",
      "execution_count": 222,
      "metadata": {
        "id": "c1cM5QTi1sGr"
      },
      "outputs": [],
      "source": [
        "# Проверим модель LightGBM на тестовой выборке\n",
        "\n",
        "start_time = time.time()\n",
        "\n",
        "pred_lgb_test = booster.predict(X_test)\n",
        "rmse_lgb_test = RMSE(y_test, pred_lgb_test)\n",
        "\n",
        "elapsed_pred_time_lgb = time.time() - start_time"
      ]
    },
    {
      "cell_type": "code",
      "execution_count": 223,
      "metadata": {
        "id": "OAQR_o6b1sGm"
      },
      "outputs": [],
      "source": [
        "# Создадим датафрейм с результатами\n",
        "\n",
        "df_test = pd.DataFrame(columns=['model', 'rmse', 'pred_time'])\n",
        "\n",
        "# Добавим строку к фрейму с результатами\n",
        "df_test.loc[len(df_test)] = ['LightGBM',\n",
        "                             round(rmse_lgb_test, 1),\n",
        "                             round(elapsed_pred_time_lgb, 3)]"
      ]
    },
    {
      "cell_type": "code",
      "source": [
        "df_test"
      ],
      "metadata": {
        "colab": {
          "base_uri": "https://localhost:8080/",
          "height": 81
        },
        "id": "qzcXdhOO7AXq",
        "outputId": "2697d566-9363-4a3e-a08d-641f87189ec1"
      },
      "execution_count": 224,
      "outputs": [
        {
          "output_type": "execute_result",
          "data": {
            "text/plain": [
              "      model  rmse  pred_time\n",
              "0  LightGBM  41.9      0.015"
            ],
            "text/html": [
              "\n",
              "  <div id=\"df-47ed9cc7-e938-4ffc-8ae6-7e1165978849\" class=\"colab-df-container\">\n",
              "    <div>\n",
              "<style scoped>\n",
              "    .dataframe tbody tr th:only-of-type {\n",
              "        vertical-align: middle;\n",
              "    }\n",
              "\n",
              "    .dataframe tbody tr th {\n",
              "        vertical-align: top;\n",
              "    }\n",
              "\n",
              "    .dataframe thead th {\n",
              "        text-align: right;\n",
              "    }\n",
              "</style>\n",
              "<table border=\"1\" class=\"dataframe\">\n",
              "  <thead>\n",
              "    <tr style=\"text-align: right;\">\n",
              "      <th></th>\n",
              "      <th>model</th>\n",
              "      <th>rmse</th>\n",
              "      <th>pred_time</th>\n",
              "    </tr>\n",
              "  </thead>\n",
              "  <tbody>\n",
              "    <tr>\n",
              "      <th>0</th>\n",
              "      <td>LightGBM</td>\n",
              "      <td>41.9</td>\n",
              "      <td>0.015</td>\n",
              "    </tr>\n",
              "  </tbody>\n",
              "</table>\n",
              "</div>\n",
              "    <div class=\"colab-df-buttons\">\n",
              "\n",
              "  <div class=\"colab-df-container\">\n",
              "    <button class=\"colab-df-convert\" onclick=\"convertToInteractive('df-47ed9cc7-e938-4ffc-8ae6-7e1165978849')\"\n",
              "            title=\"Convert this dataframe to an interactive table.\"\n",
              "            style=\"display:none;\">\n",
              "\n",
              "  <svg xmlns=\"http://www.w3.org/2000/svg\" height=\"24px\" viewBox=\"0 -960 960 960\">\n",
              "    <path d=\"M120-120v-720h720v720H120Zm60-500h600v-160H180v160Zm220 220h160v-160H400v160Zm0 220h160v-160H400v160ZM180-400h160v-160H180v160Zm440 0h160v-160H620v160ZM180-180h160v-160H180v160Zm440 0h160v-160H620v160Z\"/>\n",
              "  </svg>\n",
              "    </button>\n",
              "\n",
              "  <style>\n",
              "    .colab-df-container {\n",
              "      display:flex;\n",
              "      gap: 12px;\n",
              "    }\n",
              "\n",
              "    .colab-df-convert {\n",
              "      background-color: #E8F0FE;\n",
              "      border: none;\n",
              "      border-radius: 50%;\n",
              "      cursor: pointer;\n",
              "      display: none;\n",
              "      fill: #1967D2;\n",
              "      height: 32px;\n",
              "      padding: 0 0 0 0;\n",
              "      width: 32px;\n",
              "    }\n",
              "\n",
              "    .colab-df-convert:hover {\n",
              "      background-color: #E2EBFA;\n",
              "      box-shadow: 0px 1px 2px rgba(60, 64, 67, 0.3), 0px 1px 3px 1px rgba(60, 64, 67, 0.15);\n",
              "      fill: #174EA6;\n",
              "    }\n",
              "\n",
              "    .colab-df-buttons div {\n",
              "      margin-bottom: 4px;\n",
              "    }\n",
              "\n",
              "    [theme=dark] .colab-df-convert {\n",
              "      background-color: #3B4455;\n",
              "      fill: #D2E3FC;\n",
              "    }\n",
              "\n",
              "    [theme=dark] .colab-df-convert:hover {\n",
              "      background-color: #434B5C;\n",
              "      box-shadow: 0px 1px 3px 1px rgba(0, 0, 0, 0.15);\n",
              "      filter: drop-shadow(0px 1px 2px rgba(0, 0, 0, 0.3));\n",
              "      fill: #FFFFFF;\n",
              "    }\n",
              "  </style>\n",
              "\n",
              "    <script>\n",
              "      const buttonEl =\n",
              "        document.querySelector('#df-47ed9cc7-e938-4ffc-8ae6-7e1165978849 button.colab-df-convert');\n",
              "      buttonEl.style.display =\n",
              "        google.colab.kernel.accessAllowed ? 'block' : 'none';\n",
              "\n",
              "      async function convertToInteractive(key) {\n",
              "        const element = document.querySelector('#df-47ed9cc7-e938-4ffc-8ae6-7e1165978849');\n",
              "        const dataTable =\n",
              "          await google.colab.kernel.invokeFunction('convertToInteractive',\n",
              "                                                    [key], {});\n",
              "        if (!dataTable) return;\n",
              "\n",
              "        const docLinkHtml = 'Like what you see? Visit the ' +\n",
              "          '<a target=\"_blank\" href=https://colab.research.google.com/notebooks/data_table.ipynb>data table notebook</a>'\n",
              "          + ' to learn more about interactive tables.';\n",
              "        element.innerHTML = '';\n",
              "        dataTable['output_type'] = 'display_data';\n",
              "        await google.colab.output.renderOutput(dataTable, element);\n",
              "        const docLink = document.createElement('div');\n",
              "        docLink.innerHTML = docLinkHtml;\n",
              "        element.appendChild(docLink);\n",
              "      }\n",
              "    </script>\n",
              "  </div>\n",
              "\n",
              "    </div>\n",
              "  </div>\n"
            ],
            "application/vnd.google.colaboratory.intrinsic+json": {
              "type": "dataframe",
              "variable_name": "df_test",
              "summary": "{\n  \"name\": \"df_test\",\n  \"rows\": 1,\n  \"fields\": [\n    {\n      \"column\": \"model\",\n      \"properties\": {\n        \"dtype\": \"string\",\n        \"num_unique_values\": 1,\n        \"samples\": [\n          \"LightGBM\"\n        ],\n        \"semantic_type\": \"\",\n        \"description\": \"\"\n      }\n    },\n    {\n      \"column\": \"rmse\",\n      \"properties\": {\n        \"dtype\": \"number\",\n        \"std\": null,\n        \"min\": 41.9,\n        \"max\": 41.9,\n        \"num_unique_values\": 1,\n        \"samples\": [\n          41.9\n        ],\n        \"semantic_type\": \"\",\n        \"description\": \"\"\n      }\n    },\n    {\n      \"column\": \"pred_time\",\n      \"properties\": {\n        \"dtype\": \"number\",\n        \"std\": null,\n        \"min\": 0.015,\n        \"max\": 0.015,\n        \"num_unique_values\": 1,\n        \"samples\": [\n          0.015\n        ],\n        \"semantic_type\": \"\",\n        \"description\": \"\"\n      }\n    }\n  ]\n}"
            }
          },
          "metadata": {},
          "execution_count": 224
        }
      ]
    },
    {
      "cell_type": "code",
      "execution_count": 225,
      "metadata": {
        "id": "tgpFqAXd1sGl"
      },
      "outputs": [],
      "source": [
        "# Проверим модель LinearRegression на тестовой выборке\n",
        "\n",
        "start_time = time.time()\n",
        "\n",
        "pred_lr_test = model_lr.predict(X_test)\n",
        "rmse_lr_test = RMSE(y_test, pred_lr_test)\n",
        "\n",
        "elapsed_pred_time_lr = time.time() - start_time\n",
        "\n",
        "# Добавим строку к фрейму с результатами\n",
        "df_test.loc[len(df_test)] = ['LinearRegression',\n",
        "                             round(rmse_lr_test, 1),\n",
        "                             round(elapsed_pred_time_lr, 3)]"
      ]
    },
    {
      "cell_type": "code",
      "execution_count": 226,
      "metadata": {
        "id": "90mHQHFu1sGm"
      },
      "outputs": [],
      "source": [
        "# Проверим модель случайного леса на тестовой выборке\n",
        "\n",
        "start_time = time.time()\n",
        "\n",
        "pred_rfr_test = rs_rfr.predict(X_test)\n",
        "rmse_rfr_test = RMSE(y_test, pred_rfr_test)\n",
        "\n",
        "elapsed_pred_time_rfr = time.time() - start_time\n",
        "\n",
        "# Добавим строку к фрейму с результатами\n",
        "df_test.loc[len(df_test)] = ['RandomForest',\n",
        "                             round(rmse_rfr_test, 1),\n",
        "                             round(elapsed_pred_time_rfr, 3)]"
      ]
    },
    {
      "cell_type": "code",
      "execution_count": 227,
      "metadata": {
        "scrolled": true,
        "id": "8ZNMEp4t1sGt",
        "colab": {
          "base_uri": "https://localhost:8080/",
          "height": 143
        },
        "outputId": "ddd76811-534b-4038-ffcb-976ab6c9c2c5"
      },
      "outputs": [
        {
          "output_type": "execute_result",
          "data": {
            "text/plain": [
              "              model  rmse  pred_time\n",
              "0          LightGBM  41.9      0.015\n",
              "1  LinearRegression  45.5      0.009\n",
              "2      RandomForest  45.0      0.036"
            ],
            "text/html": [
              "\n",
              "  <div id=\"df-f05a2ad2-b0e9-465d-827a-ba984453a594\" class=\"colab-df-container\">\n",
              "    <div>\n",
              "<style scoped>\n",
              "    .dataframe tbody tr th:only-of-type {\n",
              "        vertical-align: middle;\n",
              "    }\n",
              "\n",
              "    .dataframe tbody tr th {\n",
              "        vertical-align: top;\n",
              "    }\n",
              "\n",
              "    .dataframe thead th {\n",
              "        text-align: right;\n",
              "    }\n",
              "</style>\n",
              "<table border=\"1\" class=\"dataframe\">\n",
              "  <thead>\n",
              "    <tr style=\"text-align: right;\">\n",
              "      <th></th>\n",
              "      <th>model</th>\n",
              "      <th>rmse</th>\n",
              "      <th>pred_time</th>\n",
              "    </tr>\n",
              "  </thead>\n",
              "  <tbody>\n",
              "    <tr>\n",
              "      <th>0</th>\n",
              "      <td>LightGBM</td>\n",
              "      <td>41.9</td>\n",
              "      <td>0.015</td>\n",
              "    </tr>\n",
              "    <tr>\n",
              "      <th>1</th>\n",
              "      <td>LinearRegression</td>\n",
              "      <td>45.5</td>\n",
              "      <td>0.009</td>\n",
              "    </tr>\n",
              "    <tr>\n",
              "      <th>2</th>\n",
              "      <td>RandomForest</td>\n",
              "      <td>45.0</td>\n",
              "      <td>0.036</td>\n",
              "    </tr>\n",
              "  </tbody>\n",
              "</table>\n",
              "</div>\n",
              "    <div class=\"colab-df-buttons\">\n",
              "\n",
              "  <div class=\"colab-df-container\">\n",
              "    <button class=\"colab-df-convert\" onclick=\"convertToInteractive('df-f05a2ad2-b0e9-465d-827a-ba984453a594')\"\n",
              "            title=\"Convert this dataframe to an interactive table.\"\n",
              "            style=\"display:none;\">\n",
              "\n",
              "  <svg xmlns=\"http://www.w3.org/2000/svg\" height=\"24px\" viewBox=\"0 -960 960 960\">\n",
              "    <path d=\"M120-120v-720h720v720H120Zm60-500h600v-160H180v160Zm220 220h160v-160H400v160Zm0 220h160v-160H400v160ZM180-400h160v-160H180v160Zm440 0h160v-160H620v160ZM180-180h160v-160H180v160Zm440 0h160v-160H620v160Z\"/>\n",
              "  </svg>\n",
              "    </button>\n",
              "\n",
              "  <style>\n",
              "    .colab-df-container {\n",
              "      display:flex;\n",
              "      gap: 12px;\n",
              "    }\n",
              "\n",
              "    .colab-df-convert {\n",
              "      background-color: #E8F0FE;\n",
              "      border: none;\n",
              "      border-radius: 50%;\n",
              "      cursor: pointer;\n",
              "      display: none;\n",
              "      fill: #1967D2;\n",
              "      height: 32px;\n",
              "      padding: 0 0 0 0;\n",
              "      width: 32px;\n",
              "    }\n",
              "\n",
              "    .colab-df-convert:hover {\n",
              "      background-color: #E2EBFA;\n",
              "      box-shadow: 0px 1px 2px rgba(60, 64, 67, 0.3), 0px 1px 3px 1px rgba(60, 64, 67, 0.15);\n",
              "      fill: #174EA6;\n",
              "    }\n",
              "\n",
              "    .colab-df-buttons div {\n",
              "      margin-bottom: 4px;\n",
              "    }\n",
              "\n",
              "    [theme=dark] .colab-df-convert {\n",
              "      background-color: #3B4455;\n",
              "      fill: #D2E3FC;\n",
              "    }\n",
              "\n",
              "    [theme=dark] .colab-df-convert:hover {\n",
              "      background-color: #434B5C;\n",
              "      box-shadow: 0px 1px 3px 1px rgba(0, 0, 0, 0.15);\n",
              "      filter: drop-shadow(0px 1px 2px rgba(0, 0, 0, 0.3));\n",
              "      fill: #FFFFFF;\n",
              "    }\n",
              "  </style>\n",
              "\n",
              "    <script>\n",
              "      const buttonEl =\n",
              "        document.querySelector('#df-f05a2ad2-b0e9-465d-827a-ba984453a594 button.colab-df-convert');\n",
              "      buttonEl.style.display =\n",
              "        google.colab.kernel.accessAllowed ? 'block' : 'none';\n",
              "\n",
              "      async function convertToInteractive(key) {\n",
              "        const element = document.querySelector('#df-f05a2ad2-b0e9-465d-827a-ba984453a594');\n",
              "        const dataTable =\n",
              "          await google.colab.kernel.invokeFunction('convertToInteractive',\n",
              "                                                    [key], {});\n",
              "        if (!dataTable) return;\n",
              "\n",
              "        const docLinkHtml = 'Like what you see? Visit the ' +\n",
              "          '<a target=\"_blank\" href=https://colab.research.google.com/notebooks/data_table.ipynb>data table notebook</a>'\n",
              "          + ' to learn more about interactive tables.';\n",
              "        element.innerHTML = '';\n",
              "        dataTable['output_type'] = 'display_data';\n",
              "        await google.colab.output.renderOutput(dataTable, element);\n",
              "        const docLink = document.createElement('div');\n",
              "        docLink.innerHTML = docLinkHtml;\n",
              "        element.appendChild(docLink);\n",
              "      }\n",
              "    </script>\n",
              "  </div>\n",
              "\n",
              "\n",
              "<div id=\"df-3b605ed3-915d-47cc-9387-a1a98d378720\">\n",
              "  <button class=\"colab-df-quickchart\" onclick=\"quickchart('df-3b605ed3-915d-47cc-9387-a1a98d378720')\"\n",
              "            title=\"Suggest charts\"\n",
              "            style=\"display:none;\">\n",
              "\n",
              "<svg xmlns=\"http://www.w3.org/2000/svg\" height=\"24px\"viewBox=\"0 0 24 24\"\n",
              "     width=\"24px\">\n",
              "    <g>\n",
              "        <path d=\"M19 3H5c-1.1 0-2 .9-2 2v14c0 1.1.9 2 2 2h14c1.1 0 2-.9 2-2V5c0-1.1-.9-2-2-2zM9 17H7v-7h2v7zm4 0h-2V7h2v10zm4 0h-2v-4h2v4z\"/>\n",
              "    </g>\n",
              "</svg>\n",
              "  </button>\n",
              "\n",
              "<style>\n",
              "  .colab-df-quickchart {\n",
              "      --bg-color: #E8F0FE;\n",
              "      --fill-color: #1967D2;\n",
              "      --hover-bg-color: #E2EBFA;\n",
              "      --hover-fill-color: #174EA6;\n",
              "      --disabled-fill-color: #AAA;\n",
              "      --disabled-bg-color: #DDD;\n",
              "  }\n",
              "\n",
              "  [theme=dark] .colab-df-quickchart {\n",
              "      --bg-color: #3B4455;\n",
              "      --fill-color: #D2E3FC;\n",
              "      --hover-bg-color: #434B5C;\n",
              "      --hover-fill-color: #FFFFFF;\n",
              "      --disabled-bg-color: #3B4455;\n",
              "      --disabled-fill-color: #666;\n",
              "  }\n",
              "\n",
              "  .colab-df-quickchart {\n",
              "    background-color: var(--bg-color);\n",
              "    border: none;\n",
              "    border-radius: 50%;\n",
              "    cursor: pointer;\n",
              "    display: none;\n",
              "    fill: var(--fill-color);\n",
              "    height: 32px;\n",
              "    padding: 0;\n",
              "    width: 32px;\n",
              "  }\n",
              "\n",
              "  .colab-df-quickchart:hover {\n",
              "    background-color: var(--hover-bg-color);\n",
              "    box-shadow: 0 1px 2px rgba(60, 64, 67, 0.3), 0 1px 3px 1px rgba(60, 64, 67, 0.15);\n",
              "    fill: var(--button-hover-fill-color);\n",
              "  }\n",
              "\n",
              "  .colab-df-quickchart-complete:disabled,\n",
              "  .colab-df-quickchart-complete:disabled:hover {\n",
              "    background-color: var(--disabled-bg-color);\n",
              "    fill: var(--disabled-fill-color);\n",
              "    box-shadow: none;\n",
              "  }\n",
              "\n",
              "  .colab-df-spinner {\n",
              "    border: 2px solid var(--fill-color);\n",
              "    border-color: transparent;\n",
              "    border-bottom-color: var(--fill-color);\n",
              "    animation:\n",
              "      spin 1s steps(1) infinite;\n",
              "  }\n",
              "\n",
              "  @keyframes spin {\n",
              "    0% {\n",
              "      border-color: transparent;\n",
              "      border-bottom-color: var(--fill-color);\n",
              "      border-left-color: var(--fill-color);\n",
              "    }\n",
              "    20% {\n",
              "      border-color: transparent;\n",
              "      border-left-color: var(--fill-color);\n",
              "      border-top-color: var(--fill-color);\n",
              "    }\n",
              "    30% {\n",
              "      border-color: transparent;\n",
              "      border-left-color: var(--fill-color);\n",
              "      border-top-color: var(--fill-color);\n",
              "      border-right-color: var(--fill-color);\n",
              "    }\n",
              "    40% {\n",
              "      border-color: transparent;\n",
              "      border-right-color: var(--fill-color);\n",
              "      border-top-color: var(--fill-color);\n",
              "    }\n",
              "    60% {\n",
              "      border-color: transparent;\n",
              "      border-right-color: var(--fill-color);\n",
              "    }\n",
              "    80% {\n",
              "      border-color: transparent;\n",
              "      border-right-color: var(--fill-color);\n",
              "      border-bottom-color: var(--fill-color);\n",
              "    }\n",
              "    90% {\n",
              "      border-color: transparent;\n",
              "      border-bottom-color: var(--fill-color);\n",
              "    }\n",
              "  }\n",
              "</style>\n",
              "\n",
              "  <script>\n",
              "    async function quickchart(key) {\n",
              "      const quickchartButtonEl =\n",
              "        document.querySelector('#' + key + ' button');\n",
              "      quickchartButtonEl.disabled = true;  // To prevent multiple clicks.\n",
              "      quickchartButtonEl.classList.add('colab-df-spinner');\n",
              "      try {\n",
              "        const charts = await google.colab.kernel.invokeFunction(\n",
              "            'suggestCharts', [key], {});\n",
              "      } catch (error) {\n",
              "        console.error('Error during call to suggestCharts:', error);\n",
              "      }\n",
              "      quickchartButtonEl.classList.remove('colab-df-spinner');\n",
              "      quickchartButtonEl.classList.add('colab-df-quickchart-complete');\n",
              "    }\n",
              "    (() => {\n",
              "      let quickchartButtonEl =\n",
              "        document.querySelector('#df-3b605ed3-915d-47cc-9387-a1a98d378720 button');\n",
              "      quickchartButtonEl.style.display =\n",
              "        google.colab.kernel.accessAllowed ? 'block' : 'none';\n",
              "    })();\n",
              "  </script>\n",
              "</div>\n",
              "    </div>\n",
              "  </div>\n"
            ],
            "application/vnd.google.colaboratory.intrinsic+json": {
              "type": "dataframe",
              "variable_name": "df_test",
              "summary": "{\n  \"name\": \"df_test\",\n  \"rows\": 3,\n  \"fields\": [\n    {\n      \"column\": \"model\",\n      \"properties\": {\n        \"dtype\": \"string\",\n        \"num_unique_values\": 3,\n        \"samples\": [\n          \"LightGBM\",\n          \"LinearRegression\",\n          \"RandomForest\"\n        ],\n        \"semantic_type\": \"\",\n        \"description\": \"\"\n      }\n    },\n    {\n      \"column\": \"rmse\",\n      \"properties\": {\n        \"dtype\": \"number\",\n        \"std\": 1.9502136635080107,\n        \"min\": 41.9,\n        \"max\": 45.5,\n        \"num_unique_values\": 3,\n        \"samples\": [\n          41.9,\n          45.5,\n          45.0\n        ],\n        \"semantic_type\": \"\",\n        \"description\": \"\"\n      }\n    },\n    {\n      \"column\": \"pred_time\",\n      \"properties\": {\n        \"dtype\": \"number\",\n        \"std\": 0.014177446878757823,\n        \"min\": 0.009,\n        \"max\": 0.036,\n        \"num_unique_values\": 3,\n        \"samples\": [\n          0.015,\n          0.009,\n          0.036\n        ],\n        \"semantic_type\": \"\",\n        \"description\": \"\"\n      }\n    }\n  ]\n}"
            }
          },
          "metadata": {},
          "execution_count": 227
        }
      ],
      "source": [
        "# Результаты проверки моделей на тестовой выборке\n",
        "\n",
        "df_test"
      ]
    },
    {
      "cell_type": "markdown",
      "metadata": {
        "id": "hbHKUI7b1sGt"
      },
      "source": [
        "***Заключение:***\n",
        "* Лучшее значении RMSE получается для модели бустинга LightGBM, для других моделей значение метрики несколько хуже;\n",
        "* Модель LinearRegression имеют наименьшее время предсказания, на втором месте - LightGBM.\n",
        "\n",
        "***Вывод:***\n",
        "\n",
        "Для прогноза количества заказов такси на следующий час рекомендуется использовать модель LightGBM."
      ]
    },
    {
      "cell_type": "markdown",
      "metadata": {
        "id": "YFf22kil1sGw"
      },
      "source": [
        "---"
      ]
    },
    {
      "cell_type": "markdown",
      "metadata": {
        "id": "5REmGp1F1sGw"
      },
      "source": [
        "## Чек-лист проверки"
      ]
    },
    {
      "cell_type": "markdown",
      "metadata": {
        "id": "QZa297Km1sGx"
      },
      "source": [
        "- [x]  Jupyter Notebook открыт\n",
        "- [ ]  Весь код выполняется без ошибок\n",
        "- [ ]  Ячейки с кодом расположены в порядке исполнения\n",
        "- [ ]  Данные загружены и подготовлены\n",
        "- [ ]  Данные проанализированы\n",
        "- [ ]  Модель обучена, гиперпараметры подобраны\n",
        "- [ ]  Качество моделей проверено, выводы сделаны\n",
        "- [ ]  Значение *RMSE* на тестовой выборке не больше 48"
      ]
    }
  ],
  "metadata": {
    "ExecuteTimeLog": [
      {
        "duration": 1568,
        "start_time": "2023-01-17T13:06:26.330Z"
      },
      {
        "duration": 153,
        "start_time": "2023-01-17T13:08:45.848Z"
      },
      {
        "duration": 283,
        "start_time": "2023-01-17T13:09:56.029Z"
      },
      {
        "duration": 47,
        "start_time": "2023-01-17T13:10:06.167Z"
      },
      {
        "duration": 53,
        "start_time": "2023-01-17T13:10:25.183Z"
      },
      {
        "duration": 47,
        "start_time": "2023-01-17T13:11:51.902Z"
      },
      {
        "duration": 43,
        "start_time": "2023-01-17T13:12:06.231Z"
      },
      {
        "duration": 1304,
        "start_time": "2023-01-17T13:13:33.800Z"
      },
      {
        "duration": 55,
        "start_time": "2023-01-17T13:13:35.106Z"
      },
      {
        "duration": 1314,
        "start_time": "2023-01-17T13:29:50.201Z"
      },
      {
        "duration": 103,
        "start_time": "2023-01-17T13:29:54.624Z"
      },
      {
        "duration": 3,
        "start_time": "2023-01-17T13:30:09.314Z"
      },
      {
        "duration": 98,
        "start_time": "2023-01-17T13:30:09.319Z"
      },
      {
        "duration": 221,
        "start_time": "2023-01-17T13:30:09.418Z"
      },
      {
        "duration": 13,
        "start_time": "2023-01-17T13:35:53.920Z"
      },
      {
        "duration": 22,
        "start_time": "2023-01-17T13:36:04.705Z"
      },
      {
        "duration": 44,
        "start_time": "2023-01-17T13:36:04.729Z"
      },
      {
        "duration": 216,
        "start_time": "2023-01-17T13:36:04.774Z"
      },
      {
        "duration": 715,
        "start_time": "2023-01-17T13:36:04.992Z"
      },
      {
        "duration": 4,
        "start_time": "2023-01-17T13:37:21.376Z"
      },
      {
        "duration": 85,
        "start_time": "2023-01-17T13:37:21.382Z"
      },
      {
        "duration": 205,
        "start_time": "2023-01-17T13:37:21.469Z"
      },
      {
        "duration": 641,
        "start_time": "2023-01-17T13:37:21.676Z"
      },
      {
        "duration": 608,
        "start_time": "2023-01-17T13:38:29.276Z"
      },
      {
        "duration": 747,
        "start_time": "2023-01-17T13:38:36.908Z"
      },
      {
        "duration": 346,
        "start_time": "2023-01-17T13:39:02.706Z"
      },
      {
        "duration": 1510,
        "start_time": "2023-01-17T13:39:16.086Z"
      },
      {
        "duration": 57,
        "start_time": "2023-01-17T13:39:17.599Z"
      },
      {
        "duration": 1299,
        "start_time": "2023-01-17T13:39:28.426Z"
      },
      {
        "duration": 50,
        "start_time": "2023-01-17T13:39:29.727Z"
      },
      {
        "duration": 221,
        "start_time": "2023-01-17T13:39:29.779Z"
      },
      {
        "duration": 731,
        "start_time": "2023-01-17T13:39:30.002Z"
      },
      {
        "duration": 696,
        "start_time": "2023-01-17T13:41:22.269Z"
      },
      {
        "duration": 638,
        "start_time": "2023-01-17T13:41:36.486Z"
      },
      {
        "duration": 678,
        "start_time": "2023-01-17T13:42:01.910Z"
      },
      {
        "duration": 800,
        "start_time": "2023-01-17T13:43:29.108Z"
      },
      {
        "duration": 650,
        "start_time": "2023-01-17T13:43:56.734Z"
      },
      {
        "duration": 687,
        "start_time": "2023-01-17T13:44:09.520Z"
      },
      {
        "duration": 711,
        "start_time": "2023-01-17T13:44:54.019Z"
      },
      {
        "duration": 1292,
        "start_time": "2023-01-17T13:52:04.324Z"
      },
      {
        "duration": 47,
        "start_time": "2023-01-17T13:52:05.618Z"
      },
      {
        "duration": 212,
        "start_time": "2023-01-17T13:52:05.667Z"
      },
      {
        "duration": 815,
        "start_time": "2023-01-17T13:52:05.882Z"
      },
      {
        "duration": 674,
        "start_time": "2023-01-17T13:52:06.699Z"
      },
      {
        "duration": 756,
        "start_time": "2023-01-17T13:53:04.251Z"
      },
      {
        "duration": 1685,
        "start_time": "2023-01-17T13:54:03.114Z"
      },
      {
        "duration": 678,
        "start_time": "2023-01-17T13:54:31.994Z"
      },
      {
        "duration": 657,
        "start_time": "2023-01-17T13:54:47.555Z"
      },
      {
        "duration": 780,
        "start_time": "2023-01-17T13:56:11.881Z"
      },
      {
        "duration": 1401,
        "start_time": "2023-01-17T13:58:10.263Z"
      },
      {
        "duration": 52,
        "start_time": "2023-01-17T13:58:11.666Z"
      },
      {
        "duration": 246,
        "start_time": "2023-01-17T13:58:11.719Z"
      },
      {
        "duration": 846,
        "start_time": "2023-01-17T13:58:11.967Z"
      },
      {
        "duration": 652,
        "start_time": "2023-01-17T13:58:12.815Z"
      },
      {
        "duration": 1294,
        "start_time": "2023-01-17T14:04:23.232Z"
      },
      {
        "duration": 49,
        "start_time": "2023-01-17T14:04:24.528Z"
      },
      {
        "duration": 218,
        "start_time": "2023-01-17T14:04:24.579Z"
      },
      {
        "duration": 776,
        "start_time": "2023-01-17T14:04:24.804Z"
      },
      {
        "duration": 691,
        "start_time": "2023-01-17T14:04:25.582Z"
      },
      {
        "duration": 1744,
        "start_time": "2023-01-19T12:29:49.769Z"
      },
      {
        "duration": 350,
        "start_time": "2023-01-19T12:29:51.516Z"
      },
      {
        "duration": 279,
        "start_time": "2023-01-19T12:29:51.868Z"
      },
      {
        "duration": 1012,
        "start_time": "2023-01-19T12:29:52.149Z"
      },
      {
        "duration": 743,
        "start_time": "2023-01-19T12:29:53.163Z"
      },
      {
        "duration": 557,
        "start_time": "2023-01-19T12:30:43.480Z"
      },
      {
        "duration": 978,
        "start_time": "2023-01-19T12:31:05.949Z"
      },
      {
        "duration": 1052,
        "start_time": "2023-01-19T12:33:30.678Z"
      },
      {
        "duration": 872,
        "start_time": "2023-01-19T12:35:45.098Z"
      },
      {
        "duration": 818,
        "start_time": "2023-01-19T12:37:11.260Z"
      },
      {
        "duration": 1010,
        "start_time": "2023-01-19T12:37:24.361Z"
      },
      {
        "duration": 1572,
        "start_time": "2023-01-19T12:42:53.848Z"
      },
      {
        "duration": 52,
        "start_time": "2023-01-19T12:42:55.430Z"
      },
      {
        "duration": 271,
        "start_time": "2023-01-19T12:42:55.484Z"
      },
      {
        "duration": 1076,
        "start_time": "2023-01-19T12:42:55.757Z"
      },
      {
        "duration": 1077,
        "start_time": "2023-01-19T12:42:56.835Z"
      },
      {
        "duration": 1201,
        "start_time": "2023-01-19T12:43:24.597Z"
      },
      {
        "duration": 1329,
        "start_time": "2023-01-19T12:43:38.412Z"
      },
      {
        "duration": 661,
        "start_time": "2023-01-19T12:51:34.347Z"
      },
      {
        "duration": 582,
        "start_time": "2023-01-19T12:51:41.494Z"
      },
      {
        "duration": 1230,
        "start_time": "2023-01-19T12:52:15.053Z"
      },
      {
        "duration": 1416,
        "start_time": "2023-01-19T12:52:27.237Z"
      },
      {
        "duration": 383,
        "start_time": "2023-01-19T12:54:04.298Z"
      },
      {
        "duration": 426,
        "start_time": "2023-01-19T12:54:08.033Z"
      },
      {
        "duration": 396,
        "start_time": "2023-01-19T12:54:20.630Z"
      },
      {
        "duration": 3,
        "start_time": "2023-01-19T12:54:55.247Z"
      },
      {
        "duration": 1479,
        "start_time": "2023-01-19T12:55:00.658Z"
      },
      {
        "duration": 70,
        "start_time": "2023-01-19T12:55:02.139Z"
      },
      {
        "duration": 343,
        "start_time": "2023-01-19T12:55:02.211Z"
      },
      {
        "duration": 1166,
        "start_time": "2023-01-19T12:55:02.556Z"
      },
      {
        "duration": 526,
        "start_time": "2023-01-19T12:55:03.726Z"
      },
      {
        "duration": 899,
        "start_time": "2023-01-19T12:57:20.763Z"
      },
      {
        "duration": 122,
        "start_time": "2023-01-19T12:57:47.570Z"
      },
      {
        "duration": 2190,
        "start_time": "2023-01-19T12:58:04.449Z"
      },
      {
        "duration": 6,
        "start_time": "2023-01-19T13:04:41.449Z"
      },
      {
        "duration": 2357,
        "start_time": "2023-01-19T13:04:51.949Z"
      },
      {
        "duration": 1118,
        "start_time": "2023-01-19T13:05:02.361Z"
      },
      {
        "duration": 923,
        "start_time": "2023-01-19T13:06:00.356Z"
      },
      {
        "duration": 371,
        "start_time": "2023-01-19T13:10:53.986Z"
      },
      {
        "duration": 8,
        "start_time": "2023-01-19T13:11:22.661Z"
      },
      {
        "duration": 11,
        "start_time": "2023-01-19T13:11:57.650Z"
      },
      {
        "duration": 14,
        "start_time": "2023-01-19T13:12:07.272Z"
      },
      {
        "duration": 7,
        "start_time": "2023-01-19T13:12:15.242Z"
      },
      {
        "duration": 6,
        "start_time": "2023-01-19T13:12:30.665Z"
      },
      {
        "duration": 13,
        "start_time": "2023-01-19T13:12:48.253Z"
      },
      {
        "duration": 10,
        "start_time": "2023-01-19T13:13:02.347Z"
      },
      {
        "duration": 19,
        "start_time": "2023-01-19T13:13:15.914Z"
      },
      {
        "duration": 918,
        "start_time": "2023-01-19T13:14:09.175Z"
      },
      {
        "duration": 449,
        "start_time": "2023-01-19T13:14:58.230Z"
      },
      {
        "duration": 333,
        "start_time": "2023-01-19T13:15:17.973Z"
      },
      {
        "duration": 443,
        "start_time": "2023-01-19T13:15:34.373Z"
      },
      {
        "duration": 364,
        "start_time": "2023-01-19T13:15:59.272Z"
      },
      {
        "duration": 413,
        "start_time": "2023-01-19T13:23:27.058Z"
      },
      {
        "duration": 499,
        "start_time": "2023-01-19T13:28:19.257Z"
      },
      {
        "duration": 140,
        "start_time": "2023-01-19T13:28:56.418Z"
      },
      {
        "duration": 142,
        "start_time": "2023-01-19T13:29:12.228Z"
      },
      {
        "duration": 170,
        "start_time": "2023-01-19T13:29:20.970Z"
      },
      {
        "duration": 147,
        "start_time": "2023-01-19T13:30:48.026Z"
      },
      {
        "duration": 148,
        "start_time": "2023-01-19T13:31:06.325Z"
      },
      {
        "duration": 143,
        "start_time": "2023-01-19T13:31:46.247Z"
      },
      {
        "duration": 146,
        "start_time": "2023-01-19T13:32:21.871Z"
      },
      {
        "duration": 154,
        "start_time": "2023-01-19T13:34:04.297Z"
      },
      {
        "duration": 156,
        "start_time": "2023-01-19T13:35:09.330Z"
      },
      {
        "duration": 156,
        "start_time": "2023-01-19T13:37:04.481Z"
      },
      {
        "duration": 151,
        "start_time": "2023-01-19T13:37:10.165Z"
      },
      {
        "duration": 148,
        "start_time": "2023-01-19T13:37:17.134Z"
      },
      {
        "duration": 145,
        "start_time": "2023-01-19T13:37:21.094Z"
      },
      {
        "duration": 137,
        "start_time": "2023-01-19T13:37:33.751Z"
      },
      {
        "duration": 134,
        "start_time": "2023-01-19T13:37:47.729Z"
      },
      {
        "duration": 249,
        "start_time": "2023-01-19T13:39:12.294Z"
      },
      {
        "duration": 169,
        "start_time": "2023-01-19T13:39:24.154Z"
      },
      {
        "duration": 178,
        "start_time": "2023-01-19T13:39:44.191Z"
      },
      {
        "duration": 132,
        "start_time": "2023-01-19T13:39:55.542Z"
      },
      {
        "duration": 143,
        "start_time": "2023-01-19T13:40:00.762Z"
      },
      {
        "duration": 129,
        "start_time": "2023-01-19T13:40:12.836Z"
      },
      {
        "duration": 4,
        "start_time": "2023-01-19T13:40:22.233Z"
      },
      {
        "duration": 125,
        "start_time": "2023-01-19T13:44:45.624Z"
      },
      {
        "duration": 152,
        "start_time": "2023-01-19T13:45:35.594Z"
      },
      {
        "duration": 144,
        "start_time": "2023-01-19T13:55:38.760Z"
      },
      {
        "duration": 170,
        "start_time": "2023-01-19T14:00:40.693Z"
      },
      {
        "duration": 1413,
        "start_time": "2023-01-19T14:07:49.564Z"
      },
      {
        "duration": 68,
        "start_time": "2023-01-19T14:07:50.979Z"
      },
      {
        "duration": 249,
        "start_time": "2023-01-19T14:07:51.049Z"
      },
      {
        "duration": 1130,
        "start_time": "2023-01-19T14:07:51.300Z"
      },
      {
        "duration": 450,
        "start_time": "2023-01-19T14:07:52.434Z"
      },
      {
        "duration": 0,
        "start_time": "2023-01-19T14:07:52.885Z"
      },
      {
        "duration": 1160,
        "start_time": "2023-01-19T14:19:15.388Z"
      },
      {
        "duration": 137,
        "start_time": "2023-01-19T14:20:48.536Z"
      },
      {
        "duration": 190,
        "start_time": "2023-01-19T14:21:44.131Z"
      },
      {
        "duration": 1901,
        "start_time": "2023-01-19T14:21:57.408Z"
      },
      {
        "duration": 1531,
        "start_time": "2023-01-19T15:30:28.730Z"
      },
      {
        "duration": 294,
        "start_time": "2023-01-19T15:30:30.263Z"
      },
      {
        "duration": 244,
        "start_time": "2023-01-19T15:30:30.559Z"
      },
      {
        "duration": 1199,
        "start_time": "2023-01-19T15:30:30.806Z"
      },
      {
        "duration": 1332,
        "start_time": "2023-01-19T15:30:32.007Z"
      },
      {
        "duration": 3,
        "start_time": "2023-01-19T15:30:33.341Z"
      },
      {
        "duration": 16,
        "start_time": "2023-01-19T15:33:48.056Z"
      },
      {
        "duration": 29,
        "start_time": "2023-01-19T15:34:02.797Z"
      },
      {
        "duration": 5,
        "start_time": "2023-01-19T15:35:56.419Z"
      },
      {
        "duration": 20,
        "start_time": "2023-01-19T15:37:57.455Z"
      },
      {
        "duration": 1402,
        "start_time": "2023-01-19T15:42:34.916Z"
      },
      {
        "duration": 72,
        "start_time": "2023-01-19T15:42:36.321Z"
      },
      {
        "duration": 272,
        "start_time": "2023-01-19T15:42:36.395Z"
      },
      {
        "duration": 1101,
        "start_time": "2023-01-19T15:42:36.668Z"
      },
      {
        "duration": 1113,
        "start_time": "2023-01-19T15:42:37.771Z"
      },
      {
        "duration": 3,
        "start_time": "2023-01-19T15:42:38.885Z"
      },
      {
        "duration": 50,
        "start_time": "2023-01-19T15:42:38.901Z"
      },
      {
        "duration": 118,
        "start_time": "2023-01-19T15:42:38.952Z"
      },
      {
        "duration": 27,
        "start_time": "2023-01-19T15:44:40.065Z"
      },
      {
        "duration": 25,
        "start_time": "2023-01-19T15:44:52.425Z"
      },
      {
        "duration": 3,
        "start_time": "2023-01-19T15:45:03.784Z"
      },
      {
        "duration": 62,
        "start_time": "2023-01-19T15:45:03.790Z"
      },
      {
        "duration": 285,
        "start_time": "2023-01-19T15:45:03.854Z"
      },
      {
        "duration": 1179,
        "start_time": "2023-01-19T15:45:04.142Z"
      },
      {
        "duration": 1336,
        "start_time": "2023-01-19T15:45:05.325Z"
      },
      {
        "duration": 3,
        "start_time": "2023-01-19T15:45:06.663Z"
      },
      {
        "duration": 40,
        "start_time": "2023-01-19T15:45:10.724Z"
      },
      {
        "duration": 26,
        "start_time": "2023-01-19T15:45:37.165Z"
      },
      {
        "duration": 9,
        "start_time": "2023-01-19T15:48:29.728Z"
      },
      {
        "duration": 1411,
        "start_time": "2023-01-19T15:49:07.870Z"
      },
      {
        "duration": 59,
        "start_time": "2023-01-19T15:49:09.283Z"
      },
      {
        "duration": 250,
        "start_time": "2023-01-19T15:49:09.344Z"
      },
      {
        "duration": 1141,
        "start_time": "2023-01-19T15:49:09.596Z"
      },
      {
        "duration": 1165,
        "start_time": "2023-01-19T15:49:10.738Z"
      },
      {
        "duration": 2,
        "start_time": "2023-01-19T15:49:11.911Z"
      },
      {
        "duration": 37,
        "start_time": "2023-01-19T15:49:11.915Z"
      },
      {
        "duration": 26,
        "start_time": "2023-01-19T15:49:11.954Z"
      },
      {
        "duration": 10,
        "start_time": "2023-01-19T15:49:11.981Z"
      },
      {
        "duration": 1351,
        "start_time": "2023-01-19T16:29:57.720Z"
      },
      {
        "duration": 49,
        "start_time": "2023-01-19T16:29:59.073Z"
      },
      {
        "duration": 232,
        "start_time": "2023-01-19T16:29:59.125Z"
      },
      {
        "duration": 1038,
        "start_time": "2023-01-19T16:29:59.359Z"
      },
      {
        "duration": 1148,
        "start_time": "2023-01-19T16:30:00.399Z"
      },
      {
        "duration": 2,
        "start_time": "2023-01-19T16:30:01.549Z"
      },
      {
        "duration": 92,
        "start_time": "2023-01-19T16:30:01.553Z"
      },
      {
        "duration": 23,
        "start_time": "2023-01-19T16:30:01.647Z"
      },
      {
        "duration": 20,
        "start_time": "2023-01-19T16:30:01.671Z"
      },
      {
        "duration": 1276,
        "start_time": "2023-01-19T16:41:57.729Z"
      },
      {
        "duration": 48,
        "start_time": "2023-01-19T16:41:59.007Z"
      },
      {
        "duration": 224,
        "start_time": "2023-01-19T16:41:59.057Z"
      },
      {
        "duration": 1002,
        "start_time": "2023-01-19T16:41:59.283Z"
      },
      {
        "duration": 1132,
        "start_time": "2023-01-19T16:42:00.287Z"
      },
      {
        "duration": 2,
        "start_time": "2023-01-19T16:42:01.421Z"
      },
      {
        "duration": 29,
        "start_time": "2023-01-19T16:42:01.425Z"
      },
      {
        "duration": 120,
        "start_time": "2023-01-19T16:42:01.456Z"
      },
      {
        "duration": 0,
        "start_time": "2023-01-19T16:42:01.577Z"
      },
      {
        "duration": 0,
        "start_time": "2023-01-19T16:42:01.578Z"
      },
      {
        "duration": 14,
        "start_time": "2023-01-19T16:42:42.607Z"
      },
      {
        "duration": 3,
        "start_time": "2023-01-19T16:44:49.314Z"
      },
      {
        "duration": 13,
        "start_time": "2023-01-19T16:45:49.632Z"
      },
      {
        "duration": 1259,
        "start_time": "2023-01-19T16:46:12.651Z"
      },
      {
        "duration": 52,
        "start_time": "2023-01-19T16:46:13.913Z"
      },
      {
        "duration": 267,
        "start_time": "2023-01-19T16:46:13.967Z"
      },
      {
        "duration": 1068,
        "start_time": "2023-01-19T16:46:14.235Z"
      },
      {
        "duration": 1145,
        "start_time": "2023-01-19T16:46:15.306Z"
      },
      {
        "duration": 2,
        "start_time": "2023-01-19T16:46:16.453Z"
      },
      {
        "duration": 29,
        "start_time": "2023-01-19T16:46:16.457Z"
      },
      {
        "duration": 23,
        "start_time": "2023-01-19T16:46:16.487Z"
      },
      {
        "duration": 159,
        "start_time": "2023-01-19T16:46:16.511Z"
      },
      {
        "duration": 0,
        "start_time": "2023-01-19T16:46:16.671Z"
      },
      {
        "duration": 14,
        "start_time": "2023-01-19T16:46:34.416Z"
      },
      {
        "duration": 1342,
        "start_time": "2023-01-19T16:47:06.815Z"
      },
      {
        "duration": 53,
        "start_time": "2023-01-19T16:47:08.160Z"
      },
      {
        "duration": 302,
        "start_time": "2023-01-19T16:47:08.215Z"
      },
      {
        "duration": 1093,
        "start_time": "2023-01-19T16:47:08.518Z"
      },
      {
        "duration": 1198,
        "start_time": "2023-01-19T16:47:09.613Z"
      },
      {
        "duration": 2,
        "start_time": "2023-01-19T16:47:10.813Z"
      },
      {
        "duration": 15,
        "start_time": "2023-01-19T16:47:10.817Z"
      },
      {
        "duration": 3,
        "start_time": "2023-01-19T16:47:10.834Z"
      },
      {
        "duration": 112,
        "start_time": "2023-01-19T16:47:10.839Z"
      },
      {
        "duration": 0,
        "start_time": "2023-01-19T16:47:10.953Z"
      },
      {
        "duration": 17,
        "start_time": "2023-01-19T16:51:09.130Z"
      },
      {
        "duration": 1295,
        "start_time": "2023-01-19T16:51:20.099Z"
      },
      {
        "duration": 47,
        "start_time": "2023-01-19T16:51:21.396Z"
      },
      {
        "duration": 222,
        "start_time": "2023-01-19T16:51:21.445Z"
      },
      {
        "duration": 1002,
        "start_time": "2023-01-19T16:51:21.669Z"
      },
      {
        "duration": 1051,
        "start_time": "2023-01-19T16:51:22.673Z"
      },
      {
        "duration": 3,
        "start_time": "2023-01-19T16:51:23.725Z"
      },
      {
        "duration": 42,
        "start_time": "2023-01-19T16:51:23.729Z"
      },
      {
        "duration": 13,
        "start_time": "2023-01-19T16:51:23.772Z"
      },
      {
        "duration": 31,
        "start_time": "2023-01-19T16:51:23.787Z"
      },
      {
        "duration": 9,
        "start_time": "2023-01-19T16:51:23.819Z"
      },
      {
        "duration": 3,
        "start_time": "2023-01-19T16:51:59.415Z"
      },
      {
        "duration": 88,
        "start_time": "2023-01-19T16:51:59.419Z"
      },
      {
        "duration": 226,
        "start_time": "2023-01-19T16:51:59.509Z"
      },
      {
        "duration": 1035,
        "start_time": "2023-01-19T16:51:59.737Z"
      },
      {
        "duration": 1059,
        "start_time": "2023-01-19T16:52:00.774Z"
      },
      {
        "duration": 2,
        "start_time": "2023-01-19T16:52:01.835Z"
      },
      {
        "duration": 25,
        "start_time": "2023-01-19T16:52:01.839Z"
      },
      {
        "duration": 63,
        "start_time": "2023-01-19T16:52:01.866Z"
      },
      {
        "duration": 24,
        "start_time": "2023-01-19T16:52:01.930Z"
      },
      {
        "duration": 29,
        "start_time": "2023-01-19T16:52:01.956Z"
      },
      {
        "duration": 11,
        "start_time": "2023-01-19T16:56:56.099Z"
      },
      {
        "duration": 13,
        "start_time": "2023-01-19T16:57:09.544Z"
      },
      {
        "duration": 20,
        "start_time": "2023-01-19T16:57:21.424Z"
      },
      {
        "duration": 172,
        "start_time": "2023-01-19T17:11:03.268Z"
      },
      {
        "duration": 1307,
        "start_time": "2023-01-19T17:13:19.006Z"
      },
      {
        "duration": 48,
        "start_time": "2023-01-19T17:13:20.315Z"
      },
      {
        "duration": 239,
        "start_time": "2023-01-19T17:13:20.365Z"
      },
      {
        "duration": 1000,
        "start_time": "2023-01-19T17:13:20.606Z"
      },
      {
        "duration": 1096,
        "start_time": "2023-01-19T17:13:21.608Z"
      },
      {
        "duration": 2,
        "start_time": "2023-01-19T17:13:22.706Z"
      },
      {
        "duration": 25,
        "start_time": "2023-01-19T17:13:22.710Z"
      },
      {
        "duration": 75,
        "start_time": "2023-01-19T17:13:22.737Z"
      },
      {
        "duration": 10,
        "start_time": "2023-01-19T17:13:22.899Z"
      },
      {
        "duration": 39,
        "start_time": "2023-01-19T17:14:16.274Z"
      },
      {
        "duration": 432,
        "start_time": "2023-01-19T17:14:25.171Z"
      },
      {
        "duration": 521,
        "start_time": "2023-01-19T17:14:37.185Z"
      },
      {
        "duration": 529,
        "start_time": "2023-01-19T17:15:07.674Z"
      },
      {
        "duration": 472,
        "start_time": "2023-01-19T17:15:33.929Z"
      },
      {
        "duration": 954,
        "start_time": "2023-01-19T17:16:01.849Z"
      },
      {
        "duration": 822,
        "start_time": "2023-01-19T17:16:56.377Z"
      },
      {
        "duration": 14,
        "start_time": "2023-01-19T17:16:57.201Z"
      },
      {
        "duration": 1048,
        "start_time": "2023-01-19T17:17:11.856Z"
      },
      {
        "duration": 1113,
        "start_time": "2023-01-19T17:17:24.886Z"
      },
      {
        "duration": 1018,
        "start_time": "2023-01-19T17:17:42.781Z"
      },
      {
        "duration": 1052,
        "start_time": "2023-01-19T17:17:49.649Z"
      },
      {
        "duration": 985,
        "start_time": "2023-01-19T17:17:55.317Z"
      },
      {
        "duration": 935,
        "start_time": "2023-01-19T17:18:20.081Z"
      },
      {
        "duration": 869,
        "start_time": "2023-01-19T17:20:43.936Z"
      },
      {
        "duration": 764,
        "start_time": "2023-01-19T17:21:22.540Z"
      },
      {
        "duration": 1103,
        "start_time": "2023-01-19T17:21:53.198Z"
      },
      {
        "duration": 109,
        "start_time": "2023-01-19T17:25:29.117Z"
      },
      {
        "duration": 1048,
        "start_time": "2023-01-19T17:26:45.659Z"
      },
      {
        "duration": 1225,
        "start_time": "2023-01-19T17:28:19.676Z"
      },
      {
        "duration": 90,
        "start_time": "2023-01-19T17:31:14.020Z"
      },
      {
        "duration": 2565,
        "start_time": "2023-01-19T17:31:20.957Z"
      },
      {
        "duration": 3116,
        "start_time": "2023-01-19T17:31:26.885Z"
      },
      {
        "duration": 3385,
        "start_time": "2023-01-19T17:31:52.917Z"
      },
      {
        "duration": 862,
        "start_time": "2023-01-19T17:32:35.447Z"
      },
      {
        "duration": 2440,
        "start_time": "2023-01-19T17:32:48.967Z"
      },
      {
        "duration": 2584,
        "start_time": "2023-01-19T17:41:21.423Z"
      },
      {
        "duration": 2264,
        "start_time": "2023-01-19T17:41:34.848Z"
      },
      {
        "duration": 4373,
        "start_time": "2023-01-19T17:42:25.034Z"
      },
      {
        "duration": 7987,
        "start_time": "2023-01-19T17:44:01.622Z"
      },
      {
        "duration": 3520,
        "start_time": "2023-01-19T17:44:42.880Z"
      },
      {
        "duration": 3334,
        "start_time": "2023-01-19T17:45:15.581Z"
      },
      {
        "duration": 3051,
        "start_time": "2023-01-19T17:45:47.460Z"
      },
      {
        "duration": 3218,
        "start_time": "2023-01-19T17:47:36.885Z"
      },
      {
        "duration": 1574,
        "start_time": "2023-01-19T17:58:53.367Z"
      },
      {
        "duration": 600,
        "start_time": "2023-01-19T17:59:25.686Z"
      },
      {
        "duration": 19,
        "start_time": "2023-01-19T17:59:50.293Z"
      },
      {
        "duration": 24,
        "start_time": "2023-01-19T18:00:12.430Z"
      },
      {
        "duration": 27,
        "start_time": "2023-01-19T18:00:27.010Z"
      },
      {
        "duration": 1612,
        "start_time": "2023-01-19T18:00:42.785Z"
      },
      {
        "duration": 54,
        "start_time": "2023-01-19T18:00:44.399Z"
      },
      {
        "duration": 246,
        "start_time": "2023-01-19T18:00:44.455Z"
      },
      {
        "duration": 1040,
        "start_time": "2023-01-19T18:00:44.703Z"
      },
      {
        "duration": 1147,
        "start_time": "2023-01-19T18:00:45.746Z"
      },
      {
        "duration": 4,
        "start_time": "2023-01-19T18:00:46.895Z"
      },
      {
        "duration": 17,
        "start_time": "2023-01-19T18:00:46.901Z"
      },
      {
        "duration": 2781,
        "start_time": "2023-01-19T18:00:46.920Z"
      },
      {
        "duration": 9,
        "start_time": "2023-01-19T18:00:49.704Z"
      },
      {
        "duration": 3804,
        "start_time": "2023-01-19T18:01:14.196Z"
      },
      {
        "duration": 1448,
        "start_time": "2023-01-19T18:03:18.854Z"
      },
      {
        "duration": 1675,
        "start_time": "2023-01-19T18:03:29.331Z"
      },
      {
        "duration": 1643,
        "start_time": "2023-01-19T18:03:44.363Z"
      },
      {
        "duration": 1850,
        "start_time": "2023-01-19T18:05:39.661Z"
      },
      {
        "duration": 1331,
        "start_time": "2023-01-19T18:09:11.078Z"
      },
      {
        "duration": 1443,
        "start_time": "2023-01-19T18:09:26.257Z"
      },
      {
        "duration": 833,
        "start_time": "2023-01-19T18:10:04.980Z"
      },
      {
        "duration": 1482,
        "start_time": "2023-01-19T18:10:59.718Z"
      },
      {
        "duration": 16,
        "start_time": "2023-01-19T18:11:20.609Z"
      },
      {
        "duration": 4,
        "start_time": "2023-01-19T18:22:17.746Z"
      },
      {
        "duration": 1303,
        "start_time": "2023-01-19T18:26:38.687Z"
      },
      {
        "duration": 50,
        "start_time": "2023-01-19T18:26:39.992Z"
      },
      {
        "duration": 251,
        "start_time": "2023-01-19T18:26:40.044Z"
      },
      {
        "duration": 1090,
        "start_time": "2023-01-19T18:26:40.299Z"
      },
      {
        "duration": 1213,
        "start_time": "2023-01-19T18:26:41.391Z"
      },
      {
        "duration": 3,
        "start_time": "2023-01-19T18:26:42.606Z"
      },
      {
        "duration": 14,
        "start_time": "2023-01-19T18:26:42.610Z"
      },
      {
        "duration": 1774,
        "start_time": "2023-01-19T18:26:42.626Z"
      },
      {
        "duration": 15,
        "start_time": "2023-01-19T18:26:44.402Z"
      },
      {
        "duration": 3,
        "start_time": "2023-01-19T18:26:44.419Z"
      },
      {
        "duration": 281,
        "start_time": "2023-01-19T18:26:44.424Z"
      },
      {
        "duration": 401,
        "start_time": "2023-01-19T18:27:16.998Z"
      },
      {
        "duration": 1277,
        "start_time": "2023-01-19T19:11:32.345Z"
      },
      {
        "duration": 58,
        "start_time": "2023-01-19T19:11:33.624Z"
      },
      {
        "duration": 231,
        "start_time": "2023-01-19T19:11:33.684Z"
      },
      {
        "duration": 1040,
        "start_time": "2023-01-19T19:11:33.917Z"
      },
      {
        "duration": 1048,
        "start_time": "2023-01-19T19:11:34.960Z"
      },
      {
        "duration": 2,
        "start_time": "2023-01-19T19:11:36.009Z"
      },
      {
        "duration": 12,
        "start_time": "2023-01-19T19:11:36.013Z"
      },
      {
        "duration": 12,
        "start_time": "2023-01-19T19:11:36.026Z"
      },
      {
        "duration": 1460,
        "start_time": "2023-01-19T19:11:36.040Z"
      },
      {
        "duration": 14,
        "start_time": "2023-01-19T19:11:37.501Z"
      },
      {
        "duration": 288,
        "start_time": "2023-01-19T19:11:37.517Z"
      },
      {
        "duration": 275,
        "start_time": "2023-01-19T19:11:37.807Z"
      },
      {
        "duration": 1339,
        "start_time": "2023-01-19T19:12:34.910Z"
      },
      {
        "duration": 51,
        "start_time": "2023-01-19T19:12:36.252Z"
      },
      {
        "duration": 254,
        "start_time": "2023-01-19T19:12:36.305Z"
      },
      {
        "duration": 1083,
        "start_time": "2023-01-19T19:12:36.561Z"
      },
      {
        "duration": 1086,
        "start_time": "2023-01-19T19:12:37.647Z"
      },
      {
        "duration": 3,
        "start_time": "2023-01-19T19:12:38.735Z"
      },
      {
        "duration": 13,
        "start_time": "2023-01-19T19:12:38.739Z"
      },
      {
        "duration": 10,
        "start_time": "2023-01-19T19:12:38.754Z"
      },
      {
        "duration": 1433,
        "start_time": "2023-01-19T19:12:38.766Z"
      },
      {
        "duration": 18,
        "start_time": "2023-01-19T19:12:40.201Z"
      },
      {
        "duration": 485,
        "start_time": "2023-01-19T19:12:40.221Z"
      },
      {
        "duration": 294,
        "start_time": "2023-01-19T19:12:40.708Z"
      },
      {
        "duration": 3,
        "start_time": "2023-01-19T19:13:50.823Z"
      },
      {
        "duration": 1381,
        "start_time": "2023-01-19T19:18:04.582Z"
      },
      {
        "duration": 49,
        "start_time": "2023-01-19T19:18:05.965Z"
      },
      {
        "duration": 244,
        "start_time": "2023-01-19T19:18:06.016Z"
      },
      {
        "duration": 1090,
        "start_time": "2023-01-19T19:18:06.262Z"
      },
      {
        "duration": 1154,
        "start_time": "2023-01-19T19:18:07.354Z"
      },
      {
        "duration": 3,
        "start_time": "2023-01-19T19:18:08.510Z"
      },
      {
        "duration": 8,
        "start_time": "2023-01-19T19:18:08.515Z"
      },
      {
        "duration": 12,
        "start_time": "2023-01-19T19:18:08.526Z"
      },
      {
        "duration": 1260,
        "start_time": "2023-01-19T19:18:08.540Z"
      },
      {
        "duration": 95,
        "start_time": "2023-01-19T19:18:09.804Z"
      },
      {
        "duration": 699,
        "start_time": "2023-01-19T19:18:09.901Z"
      },
      {
        "duration": 298506,
        "start_time": "2023-01-19T19:18:10.603Z"
      },
      {
        "duration": 216,
        "start_time": "2023-01-19T19:23:09.112Z"
      },
      {
        "duration": 21,
        "start_time": "2023-01-19T19:29:03.363Z"
      },
      {
        "duration": 12,
        "start_time": "2023-01-19T19:31:10.764Z"
      },
      {
        "duration": 1509,
        "start_time": "2023-01-19T19:31:46.586Z"
      },
      {
        "duration": 51,
        "start_time": "2023-01-19T19:31:48.097Z"
      },
      {
        "duration": 242,
        "start_time": "2023-01-19T19:31:48.150Z"
      },
      {
        "duration": 1105,
        "start_time": "2023-01-19T19:31:48.400Z"
      },
      {
        "duration": 1170,
        "start_time": "2023-01-19T19:31:49.508Z"
      },
      {
        "duration": 2,
        "start_time": "2023-01-19T19:31:50.681Z"
      },
      {
        "duration": 16,
        "start_time": "2023-01-19T19:31:50.685Z"
      },
      {
        "duration": 11,
        "start_time": "2023-01-19T19:31:50.703Z"
      },
      {
        "duration": 1587,
        "start_time": "2023-01-19T19:31:50.716Z"
      },
      {
        "duration": 15,
        "start_time": "2023-01-19T19:31:52.305Z"
      },
      {
        "duration": 289,
        "start_time": "2023-01-19T19:31:52.321Z"
      },
      {
        "duration": 100,
        "start_time": "2023-01-19T19:31:52.700Z"
      },
      {
        "duration": 4,
        "start_time": "2023-01-19T19:33:03.209Z"
      },
      {
        "duration": 1905,
        "start_time": "2023-01-19T19:33:05.427Z"
      },
      {
        "duration": 1687,
        "start_time": "2023-01-19T19:33:46.945Z"
      },
      {
        "duration": 6099,
        "start_time": "2023-01-19T19:34:09.994Z"
      },
      {
        "duration": 12784,
        "start_time": "2023-01-19T19:34:28.603Z"
      },
      {
        "duration": 2852,
        "start_time": "2023-01-19T19:34:55.084Z"
      },
      {
        "duration": 3108,
        "start_time": "2023-01-19T19:35:41.494Z"
      },
      {
        "duration": 6127,
        "start_time": "2023-01-19T19:36:02.780Z"
      },
      {
        "duration": 12400,
        "start_time": "2023-01-19T19:36:15.868Z"
      },
      {
        "duration": 3089,
        "start_time": "2023-01-19T19:36:34.909Z"
      },
      {
        "duration": 251,
        "start_time": "2023-01-19T19:36:58.150Z"
      },
      {
        "duration": 311,
        "start_time": "2023-01-19T19:37:12.500Z"
      },
      {
        "duration": 7,
        "start_time": "2023-01-19T19:38:41.138Z"
      },
      {
        "duration": 1758,
        "start_time": "2023-01-20T07:37:30.785Z"
      },
      {
        "duration": 147,
        "start_time": "2023-01-20T07:37:32.545Z"
      },
      {
        "duration": 255,
        "start_time": "2023-01-20T07:37:32.694Z"
      },
      {
        "duration": 1211,
        "start_time": "2023-01-20T07:37:32.951Z"
      },
      {
        "duration": 1221,
        "start_time": "2023-01-20T07:37:34.163Z"
      },
      {
        "duration": 2,
        "start_time": "2023-01-20T07:37:35.386Z"
      },
      {
        "duration": 25,
        "start_time": "2023-01-20T07:37:35.390Z"
      },
      {
        "duration": 23,
        "start_time": "2023-01-20T07:37:35.417Z"
      },
      {
        "duration": 1646,
        "start_time": "2023-01-20T07:37:35.442Z"
      },
      {
        "duration": 18,
        "start_time": "2023-01-20T07:37:37.090Z"
      },
      {
        "duration": 585,
        "start_time": "2023-01-20T07:37:37.110Z"
      },
      {
        "duration": 11,
        "start_time": "2023-01-20T07:37:37.785Z"
      },
      {
        "duration": 7,
        "start_time": "2023-01-20T07:37:37.884Z"
      },
      {
        "duration": 8,
        "start_time": "2023-01-20T07:37:37.893Z"
      },
      {
        "duration": 9,
        "start_time": "2023-01-20T07:37:37.902Z"
      },
      {
        "duration": 3062,
        "start_time": "2023-01-20T07:37:37.913Z"
      },
      {
        "duration": 35,
        "start_time": "2023-01-20T07:47:51.700Z"
      },
      {
        "duration": 6,
        "start_time": "2023-01-20T08:10:37.726Z"
      },
      {
        "duration": 27,
        "start_time": "2023-01-20T08:10:46.609Z"
      },
      {
        "duration": 4,
        "start_time": "2023-01-20T08:20:48.419Z"
      },
      {
        "duration": 1632,
        "start_time": "2023-01-20T08:20:58.796Z"
      },
      {
        "duration": 56,
        "start_time": "2023-01-20T08:21:00.430Z"
      },
      {
        "duration": 304,
        "start_time": "2023-01-20T08:21:00.488Z"
      },
      {
        "duration": 1192,
        "start_time": "2023-01-20T08:21:00.794Z"
      },
      {
        "duration": 1273,
        "start_time": "2023-01-20T08:21:01.988Z"
      },
      {
        "duration": 3,
        "start_time": "2023-01-20T08:21:03.263Z"
      },
      {
        "duration": 25,
        "start_time": "2023-01-20T08:21:03.269Z"
      },
      {
        "duration": 26,
        "start_time": "2023-01-20T08:21:03.297Z"
      },
      {
        "duration": 1667,
        "start_time": "2023-01-20T08:21:03.326Z"
      },
      {
        "duration": 18,
        "start_time": "2023-01-20T08:21:04.995Z"
      },
      {
        "duration": 21,
        "start_time": "2023-01-20T08:21:05.014Z"
      },
      {
        "duration": 853,
        "start_time": "2023-01-20T08:21:05.037Z"
      },
      {
        "duration": 93,
        "start_time": "2023-01-20T08:21:05.893Z"
      },
      {
        "duration": 96,
        "start_time": "2023-01-20T08:21:05.991Z"
      },
      {
        "duration": 12,
        "start_time": "2023-01-20T08:21:06.089Z"
      },
      {
        "duration": 11,
        "start_time": "2023-01-20T08:21:06.103Z"
      },
      {
        "duration": 3195,
        "start_time": "2023-01-20T08:21:06.116Z"
      },
      {
        "duration": 1718,
        "start_time": "2023-01-20T08:41:14.187Z"
      },
      {
        "duration": 54,
        "start_time": "2023-01-20T08:41:15.907Z"
      },
      {
        "duration": 269,
        "start_time": "2023-01-20T08:41:15.963Z"
      },
      {
        "duration": 1248,
        "start_time": "2023-01-20T08:41:16.234Z"
      },
      {
        "duration": 1257,
        "start_time": "2023-01-20T08:41:17.484Z"
      },
      {
        "duration": 4,
        "start_time": "2023-01-20T08:41:18.743Z"
      },
      {
        "duration": 9,
        "start_time": "2023-01-20T08:41:18.749Z"
      },
      {
        "duration": 6,
        "start_time": "2023-01-20T08:41:18.760Z"
      },
      {
        "duration": 1620,
        "start_time": "2023-01-20T08:41:18.769Z"
      },
      {
        "duration": 105,
        "start_time": "2023-01-20T08:41:20.397Z"
      },
      {
        "duration": 29,
        "start_time": "2023-01-20T08:41:20.505Z"
      },
      {
        "duration": 4,
        "start_time": "2023-01-20T08:41:26.291Z"
      },
      {
        "duration": 346,
        "start_time": "2023-01-20T08:42:00.046Z"
      },
      {
        "duration": 480,
        "start_time": "2023-01-20T08:44:46.523Z"
      },
      {
        "duration": 8,
        "start_time": "2023-01-20T08:44:57.689Z"
      },
      {
        "duration": 1776,
        "start_time": "2023-01-20T08:48:18.275Z"
      },
      {
        "duration": 54,
        "start_time": "2023-01-20T08:48:20.055Z"
      },
      {
        "duration": 293,
        "start_time": "2023-01-20T08:48:20.111Z"
      },
      {
        "duration": 1210,
        "start_time": "2023-01-20T08:48:20.408Z"
      },
      {
        "duration": 1332,
        "start_time": "2023-01-20T08:48:21.619Z"
      },
      {
        "duration": 3,
        "start_time": "2023-01-20T08:48:22.953Z"
      },
      {
        "duration": 10,
        "start_time": "2023-01-20T08:48:22.958Z"
      },
      {
        "duration": 16,
        "start_time": "2023-01-20T08:48:22.970Z"
      },
      {
        "duration": 1798,
        "start_time": "2023-01-20T08:48:22.988Z"
      },
      {
        "duration": 20,
        "start_time": "2023-01-20T08:48:24.788Z"
      },
      {
        "duration": 22,
        "start_time": "2023-01-20T08:48:24.810Z"
      },
      {
        "duration": 750,
        "start_time": "2023-01-20T08:48:24.834Z"
      },
      {
        "duration": 10,
        "start_time": "2023-01-20T08:48:25.586Z"
      },
      {
        "duration": 233,
        "start_time": "2023-01-20T08:48:25.601Z"
      },
      {
        "duration": 3,
        "start_time": "2023-01-20T08:48:36.375Z"
      },
      {
        "duration": 7,
        "start_time": "2023-01-20T08:51:03.931Z"
      },
      {
        "duration": 12,
        "start_time": "2023-01-20T08:52:23.519Z"
      },
      {
        "duration": 15,
        "start_time": "2023-01-20T08:52:35.680Z"
      },
      {
        "duration": 1561,
        "start_time": "2023-01-20T08:59:26.199Z"
      },
      {
        "duration": 56,
        "start_time": "2023-01-20T08:59:27.762Z"
      },
      {
        "duration": 272,
        "start_time": "2023-01-20T08:59:27.820Z"
      },
      {
        "duration": 1216,
        "start_time": "2023-01-20T08:59:28.094Z"
      },
      {
        "duration": 1354,
        "start_time": "2023-01-20T08:59:29.313Z"
      },
      {
        "duration": 2,
        "start_time": "2023-01-20T08:59:30.670Z"
      },
      {
        "duration": 19,
        "start_time": "2023-01-20T08:59:30.674Z"
      },
      {
        "duration": 19,
        "start_time": "2023-01-20T08:59:30.696Z"
      },
      {
        "duration": 1570,
        "start_time": "2023-01-20T08:59:30.717Z"
      },
      {
        "duration": 19,
        "start_time": "2023-01-20T08:59:32.289Z"
      },
      {
        "duration": 21,
        "start_time": "2023-01-20T08:59:32.310Z"
      },
      {
        "duration": 754,
        "start_time": "2023-01-20T08:59:32.333Z"
      },
      {
        "duration": 96,
        "start_time": "2023-01-20T08:59:33.091Z"
      },
      {
        "duration": 9,
        "start_time": "2023-01-20T08:59:39.783Z"
      },
      {
        "duration": 124,
        "start_time": "2023-01-20T08:59:42.260Z"
      },
      {
        "duration": 5,
        "start_time": "2023-01-20T09:01:06.782Z"
      },
      {
        "duration": 529,
        "start_time": "2023-01-20T09:01:13.960Z"
      },
      {
        "duration": 17,
        "start_time": "2023-01-20T09:04:34.061Z"
      },
      {
        "duration": 768,
        "start_time": "2023-01-20T09:04:45.920Z"
      },
      {
        "duration": 92,
        "start_time": "2023-01-20T09:05:24.640Z"
      },
      {
        "duration": 79,
        "start_time": "2023-01-20T09:05:28.340Z"
      },
      {
        "duration": 1207,
        "start_time": "2023-01-20T09:05:38.980Z"
      },
      {
        "duration": 498,
        "start_time": "2023-01-20T09:06:21.600Z"
      },
      {
        "duration": 1154,
        "start_time": "2023-01-20T09:08:50.133Z"
      },
      {
        "duration": 625,
        "start_time": "2023-01-20T09:08:58.059Z"
      },
      {
        "duration": 3742,
        "start_time": "2023-01-20T09:09:06.445Z"
      },
      {
        "duration": 3947,
        "start_time": "2023-01-20T09:09:21.244Z"
      },
      {
        "duration": 7561,
        "start_time": "2023-01-20T09:09:43.532Z"
      },
      {
        "duration": 20,
        "start_time": "2023-01-20T09:10:23.817Z"
      },
      {
        "duration": 9673,
        "start_time": "2023-01-20T09:10:29.022Z"
      },
      {
        "duration": 1550,
        "start_time": "2023-01-20T09:10:51.939Z"
      },
      {
        "duration": 1599,
        "start_time": "2023-01-20T09:11:30.153Z"
      },
      {
        "duration": 54,
        "start_time": "2023-01-20T09:11:31.754Z"
      },
      {
        "duration": 250,
        "start_time": "2023-01-20T09:11:36.325Z"
      },
      {
        "duration": 1201,
        "start_time": "2023-01-20T09:11:36.585Z"
      },
      {
        "duration": 1236,
        "start_time": "2023-01-20T09:11:37.788Z"
      },
      {
        "duration": 3,
        "start_time": "2023-01-20T09:11:39.026Z"
      },
      {
        "duration": 9,
        "start_time": "2023-01-20T09:11:39.032Z"
      },
      {
        "duration": 15,
        "start_time": "2023-01-20T09:11:39.042Z"
      },
      {
        "duration": 1532,
        "start_time": "2023-01-20T09:11:39.059Z"
      },
      {
        "duration": 92,
        "start_time": "2023-01-20T09:11:40.593Z"
      },
      {
        "duration": 21,
        "start_time": "2023-01-20T09:11:40.687Z"
      },
      {
        "duration": 475,
        "start_time": "2023-01-20T09:11:40.710Z"
      },
      {
        "duration": 97,
        "start_time": "2023-01-20T09:11:41.189Z"
      },
      {
        "duration": 1397,
        "start_time": "2023-01-20T09:11:41.288Z"
      },
      {
        "duration": 3,
        "start_time": "2023-01-20T09:11:42.687Z"
      },
      {
        "duration": 122,
        "start_time": "2023-01-20T09:11:42.692Z"
      },
      {
        "duration": 23,
        "start_time": "2023-01-20T09:11:42.817Z"
      },
      {
        "duration": 16,
        "start_time": "2023-01-20T09:11:42.842Z"
      },
      {
        "duration": 3106,
        "start_time": "2023-01-20T09:11:42.859Z"
      },
      {
        "duration": 8746,
        "start_time": "2023-01-20T09:12:59.450Z"
      },
      {
        "duration": 3341,
        "start_time": "2023-01-20T09:26:03.359Z"
      },
      {
        "duration": 1289,
        "start_time": "2023-01-20T09:26:43.599Z"
      },
      {
        "duration": 745,
        "start_time": "2023-01-20T09:26:56.949Z"
      },
      {
        "duration": 810,
        "start_time": "2023-01-20T09:27:22.478Z"
      },
      {
        "duration": 129,
        "start_time": "2023-01-20T09:29:17.025Z"
      },
      {
        "duration": 1774,
        "start_time": "2023-01-20T09:30:10.483Z"
      },
      {
        "duration": 57,
        "start_time": "2023-01-20T09:30:12.260Z"
      },
      {
        "duration": 283,
        "start_time": "2023-01-20T09:30:12.319Z"
      },
      {
        "duration": 1202,
        "start_time": "2023-01-20T09:30:12.604Z"
      },
      {
        "duration": 1210,
        "start_time": "2023-01-20T09:30:13.808Z"
      },
      {
        "duration": 2,
        "start_time": "2023-01-20T09:30:15.020Z"
      },
      {
        "duration": 20,
        "start_time": "2023-01-20T09:30:15.024Z"
      },
      {
        "duration": 33,
        "start_time": "2023-01-20T09:30:15.046Z"
      },
      {
        "duration": 1511,
        "start_time": "2023-01-20T09:30:15.081Z"
      },
      {
        "duration": 23,
        "start_time": "2023-01-20T09:30:16.594Z"
      },
      {
        "duration": 71,
        "start_time": "2023-01-20T09:30:16.619Z"
      },
      {
        "duration": 302,
        "start_time": "2023-01-20T09:30:16.692Z"
      },
      {
        "duration": 10,
        "start_time": "2023-01-20T09:30:17.085Z"
      },
      {
        "duration": 1007,
        "start_time": "2023-01-20T09:30:17.186Z"
      },
      {
        "duration": 10810,
        "start_time": "2023-01-20T09:30:18.285Z"
      },
      {
        "duration": 2,
        "start_time": "2023-01-20T09:30:29.097Z"
      },
      {
        "duration": 35,
        "start_time": "2023-01-20T09:30:29.101Z"
      },
      {
        "duration": 30,
        "start_time": "2023-01-20T09:30:29.138Z"
      },
      {
        "duration": 4211,
        "start_time": "2023-01-20T09:30:29.170Z"
      },
      {
        "duration": 11793,
        "start_time": "2023-01-20T09:31:35.847Z"
      },
      {
        "duration": 16137,
        "start_time": "2023-01-20T09:32:11.899Z"
      },
      {
        "duration": 693,
        "start_time": "2023-01-20T09:33:48.730Z"
      },
      {
        "duration": 384,
        "start_time": "2023-01-20T09:34:12.206Z"
      },
      {
        "duration": 13,
        "start_time": "2023-01-20T09:37:48.128Z"
      },
      {
        "duration": 8,
        "start_time": "2023-01-20T09:38:03.502Z"
      },
      {
        "duration": 12,
        "start_time": "2023-01-20T09:40:24.305Z"
      },
      {
        "duration": 12,
        "start_time": "2023-01-20T09:41:58.697Z"
      },
      {
        "duration": 3130,
        "start_time": "2023-01-20T09:47:13.761Z"
      },
      {
        "duration": 2969,
        "start_time": "2023-01-20T09:50:40.653Z"
      },
      {
        "duration": 3094,
        "start_time": "2023-01-20T09:51:06.142Z"
      },
      {
        "duration": 3213,
        "start_time": "2023-01-20T09:51:42.994Z"
      },
      {
        "duration": 6,
        "start_time": "2023-01-20T09:54:32.841Z"
      },
      {
        "duration": 5,
        "start_time": "2023-01-20T09:56:07.021Z"
      },
      {
        "duration": 5,
        "start_time": "2023-01-20T09:56:26.561Z"
      },
      {
        "duration": 11,
        "start_time": "2023-01-20T09:56:38.417Z"
      },
      {
        "duration": 4,
        "start_time": "2023-01-20T09:57:41.522Z"
      },
      {
        "duration": 3016,
        "start_time": "2023-01-20T10:01:19.691Z"
      },
      {
        "duration": 3069,
        "start_time": "2023-01-20T10:01:41.450Z"
      },
      {
        "duration": 3088,
        "start_time": "2023-01-20T10:06:23.827Z"
      },
      {
        "duration": 8,
        "start_time": "2023-01-20T10:09:03.819Z"
      },
      {
        "duration": 13,
        "start_time": "2023-01-20T10:09:11.230Z"
      },
      {
        "duration": 1427,
        "start_time": "2023-01-20T10:12:02.264Z"
      },
      {
        "duration": 12,
        "start_time": "2023-01-20T10:12:58.523Z"
      },
      {
        "duration": 14,
        "start_time": "2023-01-20T10:13:26.035Z"
      },
      {
        "duration": 10,
        "start_time": "2023-01-20T10:13:41.342Z"
      },
      {
        "duration": 4,
        "start_time": "2023-01-20T10:13:51.482Z"
      },
      {
        "duration": 4493,
        "start_time": "2023-01-20T10:15:14.991Z"
      },
      {
        "duration": 5,
        "start_time": "2023-01-20T10:15:19.487Z"
      },
      {
        "duration": 5,
        "start_time": "2023-01-20T10:15:46.331Z"
      },
      {
        "duration": 13,
        "start_time": "2023-01-20T10:18:07.209Z"
      },
      {
        "duration": 75,
        "start_time": "2023-01-20T10:18:32.309Z"
      },
      {
        "duration": 55,
        "start_time": "2023-01-20T10:19:15.533Z"
      },
      {
        "duration": 1660,
        "start_time": "2023-01-20T10:20:44.654Z"
      },
      {
        "duration": 54,
        "start_time": "2023-01-20T10:20:46.316Z"
      },
      {
        "duration": 276,
        "start_time": "2023-01-20T10:20:46.371Z"
      },
      {
        "duration": 1172,
        "start_time": "2023-01-20T10:20:46.649Z"
      },
      {
        "duration": 1276,
        "start_time": "2023-01-20T10:20:47.824Z"
      },
      {
        "duration": 2,
        "start_time": "2023-01-20T10:20:49.102Z"
      },
      {
        "duration": 39,
        "start_time": "2023-01-20T10:20:49.106Z"
      },
      {
        "duration": 33,
        "start_time": "2023-01-20T10:20:49.147Z"
      },
      {
        "duration": 1605,
        "start_time": "2023-01-20T10:20:49.181Z"
      },
      {
        "duration": 17,
        "start_time": "2023-01-20T10:20:50.787Z"
      },
      {
        "duration": 23,
        "start_time": "2023-01-20T10:20:50.806Z"
      },
      {
        "duration": 362,
        "start_time": "2023-01-20T10:20:50.831Z"
      },
      {
        "duration": 99,
        "start_time": "2023-01-20T10:20:51.195Z"
      },
      {
        "duration": 7,
        "start_time": "2023-01-20T10:20:51.386Z"
      },
      {
        "duration": 1298,
        "start_time": "2023-01-20T10:20:51.396Z"
      },
      {
        "duration": 8,
        "start_time": "2023-01-20T10:20:52.785Z"
      },
      {
        "duration": 16062,
        "start_time": "2023-01-20T10:20:52.795Z"
      },
      {
        "duration": 7,
        "start_time": "2023-01-20T10:21:08.859Z"
      },
      {
        "duration": 1316,
        "start_time": "2023-01-20T10:21:08.868Z"
      },
      {
        "duration": 6,
        "start_time": "2023-01-20T10:21:10.186Z"
      },
      {
        "duration": 39,
        "start_time": "2023-01-20T10:21:10.194Z"
      },
      {
        "duration": 49,
        "start_time": "2023-01-20T10:21:10.235Z"
      },
      {
        "duration": 3257,
        "start_time": "2023-01-20T10:21:10.286Z"
      },
      {
        "duration": 8,
        "start_time": "2023-01-20T10:21:13.545Z"
      },
      {
        "duration": 32,
        "start_time": "2023-01-20T10:21:13.556Z"
      },
      {
        "duration": 132,
        "start_time": "2023-01-20T10:22:47.083Z"
      },
      {
        "duration": 16,
        "start_time": "2023-01-20T10:23:11.423Z"
      },
      {
        "duration": 1642,
        "start_time": "2023-01-20T12:59:02.594Z"
      },
      {
        "duration": 142,
        "start_time": "2023-01-20T12:59:04.238Z"
      },
      {
        "duration": 217,
        "start_time": "2023-01-20T12:59:04.382Z"
      },
      {
        "duration": 1100,
        "start_time": "2023-01-20T12:59:04.600Z"
      },
      {
        "duration": 1181,
        "start_time": "2023-01-20T12:59:05.703Z"
      },
      {
        "duration": 3,
        "start_time": "2023-01-20T12:59:06.886Z"
      },
      {
        "duration": 6,
        "start_time": "2023-01-20T12:59:06.890Z"
      },
      {
        "duration": 5,
        "start_time": "2023-01-20T12:59:06.898Z"
      },
      {
        "duration": 1270,
        "start_time": "2023-01-20T12:59:06.904Z"
      },
      {
        "duration": 22,
        "start_time": "2023-01-20T12:59:08.177Z"
      },
      {
        "duration": 23,
        "start_time": "2023-01-20T12:59:08.201Z"
      },
      {
        "duration": 254,
        "start_time": "2023-01-20T12:59:08.226Z"
      },
      {
        "duration": 93,
        "start_time": "2023-01-20T12:59:08.482Z"
      },
      {
        "duration": 995,
        "start_time": "2023-01-20T12:59:08.579Z"
      },
      {
        "duration": 12,
        "start_time": "2023-01-20T12:59:09.578Z"
      },
      {
        "duration": 15167,
        "start_time": "2023-01-20T12:59:09.671Z"
      },
      {
        "duration": 7,
        "start_time": "2023-01-20T12:59:24.839Z"
      },
      {
        "duration": 170,
        "start_time": "2023-01-20T12:59:24.848Z"
      },
      {
        "duration": 0,
        "start_time": "2023-01-20T12:59:25.020Z"
      },
      {
        "duration": 0,
        "start_time": "2023-01-20T12:59:25.021Z"
      },
      {
        "duration": 0,
        "start_time": "2023-01-20T12:59:25.022Z"
      },
      {
        "duration": 0,
        "start_time": "2023-01-20T12:59:25.024Z"
      },
      {
        "duration": 0,
        "start_time": "2023-01-20T12:59:25.025Z"
      },
      {
        "duration": 0,
        "start_time": "2023-01-20T12:59:25.026Z"
      },
      {
        "duration": 0,
        "start_time": "2023-01-20T12:59:25.028Z"
      },
      {
        "duration": 0,
        "start_time": "2023-01-20T12:59:25.029Z"
      },
      {
        "duration": 1339,
        "start_time": "2023-01-20T12:59:59.225Z"
      },
      {
        "duration": 53,
        "start_time": "2023-01-20T13:00:00.576Z"
      },
      {
        "duration": 220,
        "start_time": "2023-01-20T13:00:00.630Z"
      },
      {
        "duration": 12,
        "start_time": "2023-01-20T13:00:20.574Z"
      },
      {
        "duration": 53,
        "start_time": "2023-01-20T13:00:20.587Z"
      },
      {
        "duration": 204,
        "start_time": "2023-01-20T13:00:20.641Z"
      },
      {
        "duration": 1047,
        "start_time": "2023-01-20T13:00:20.846Z"
      },
      {
        "duration": 1151,
        "start_time": "2023-01-20T13:00:21.895Z"
      },
      {
        "duration": 4,
        "start_time": "2023-01-20T13:00:23.048Z"
      },
      {
        "duration": 16,
        "start_time": "2023-01-20T13:00:23.054Z"
      },
      {
        "duration": 6,
        "start_time": "2023-01-20T13:00:23.072Z"
      },
      {
        "duration": 1593,
        "start_time": "2023-01-20T13:00:23.080Z"
      },
      {
        "duration": 17,
        "start_time": "2023-01-20T13:00:24.674Z"
      },
      {
        "duration": 20,
        "start_time": "2023-01-20T13:00:24.693Z"
      },
      {
        "duration": 260,
        "start_time": "2023-01-20T13:00:24.715Z"
      },
      {
        "duration": 191,
        "start_time": "2023-01-20T13:00:24.977Z"
      },
      {
        "duration": 1498,
        "start_time": "2023-01-20T13:00:25.171Z"
      },
      {
        "duration": 99,
        "start_time": "2023-01-20T13:00:26.671Z"
      },
      {
        "duration": 14862,
        "start_time": "2023-01-20T13:00:26.772Z"
      },
      {
        "duration": 6,
        "start_time": "2023-01-20T13:00:41.636Z"
      },
      {
        "duration": 7,
        "start_time": "2023-01-20T13:00:41.643Z"
      },
      {
        "duration": 1318,
        "start_time": "2023-01-20T13:00:41.652Z"
      },
      {
        "duration": 4,
        "start_time": "2023-01-20T13:00:42.972Z"
      },
      {
        "duration": 97,
        "start_time": "2023-01-20T13:00:42.978Z"
      },
      {
        "duration": 6,
        "start_time": "2023-01-20T13:00:43.077Z"
      },
      {
        "duration": 2830,
        "start_time": "2023-01-20T13:00:43.084Z"
      },
      {
        "duration": 6,
        "start_time": "2023-01-20T13:00:45.918Z"
      },
      {
        "duration": 11,
        "start_time": "2023-01-20T13:00:45.925Z"
      },
      {
        "duration": 7,
        "start_time": "2023-01-20T13:00:45.938Z"
      },
      {
        "duration": 13,
        "start_time": "2023-01-20T13:01:50.984Z"
      },
      {
        "duration": 12,
        "start_time": "2023-01-20T13:02:09.189Z"
      },
      {
        "duration": 14,
        "start_time": "2023-01-20T13:03:57.438Z"
      },
      {
        "duration": 6,
        "start_time": "2023-01-20T13:05:12.545Z"
      },
      {
        "duration": 62,
        "start_time": "2023-01-20T13:09:34.813Z"
      },
      {
        "duration": 1511,
        "start_time": "2023-01-20T13:09:37.785Z"
      },
      {
        "duration": 54,
        "start_time": "2023-01-20T13:09:39.298Z"
      },
      {
        "duration": 215,
        "start_time": "2023-01-20T13:09:39.354Z"
      },
      {
        "duration": 1037,
        "start_time": "2023-01-20T13:09:39.571Z"
      },
      {
        "duration": 1113,
        "start_time": "2023-01-20T13:09:40.610Z"
      },
      {
        "duration": 3,
        "start_time": "2023-01-20T13:09:41.724Z"
      },
      {
        "duration": 16,
        "start_time": "2023-01-20T13:09:41.728Z"
      },
      {
        "duration": 11,
        "start_time": "2023-01-20T13:09:41.745Z"
      },
      {
        "duration": 1519,
        "start_time": "2023-01-20T13:09:41.758Z"
      },
      {
        "duration": 16,
        "start_time": "2023-01-20T13:09:43.279Z"
      },
      {
        "duration": 81,
        "start_time": "2023-01-20T13:09:43.296Z"
      },
      {
        "duration": 389,
        "start_time": "2023-01-20T13:09:43.379Z"
      },
      {
        "duration": 99,
        "start_time": "2023-01-20T13:09:43.771Z"
      },
      {
        "duration": 1297,
        "start_time": "2023-01-20T13:09:43.873Z"
      },
      {
        "duration": 99,
        "start_time": "2023-01-20T13:09:45.172Z"
      },
      {
        "duration": 14633,
        "start_time": "2023-01-20T13:09:45.274Z"
      },
      {
        "duration": 6,
        "start_time": "2023-01-20T13:09:59.910Z"
      },
      {
        "duration": 955,
        "start_time": "2023-01-20T13:09:59.917Z"
      },
      {
        "duration": 4,
        "start_time": "2023-01-20T13:10:00.874Z"
      },
      {
        "duration": 92,
        "start_time": "2023-01-20T13:10:00.879Z"
      },
      {
        "duration": 20,
        "start_time": "2023-01-20T13:10:00.973Z"
      },
      {
        "duration": 3035,
        "start_time": "2023-01-20T13:10:00.995Z"
      },
      {
        "duration": 7,
        "start_time": "2023-01-20T13:10:04.032Z"
      },
      {
        "duration": 11,
        "start_time": "2023-01-20T13:10:04.040Z"
      },
      {
        "duration": 22,
        "start_time": "2023-01-20T13:10:04.053Z"
      },
      {
        "duration": 14,
        "start_time": "2023-01-20T13:10:04.077Z"
      },
      {
        "duration": 16,
        "start_time": "2023-01-20T13:10:04.092Z"
      },
      {
        "duration": 5,
        "start_time": "2023-01-20T13:10:04.110Z"
      },
      {
        "duration": 53,
        "start_time": "2023-01-20T13:10:04.117Z"
      },
      {
        "duration": 6,
        "start_time": "2023-01-20T13:10:04.172Z"
      },
      {
        "duration": 8,
        "start_time": "2023-01-20T13:11:00.837Z"
      },
      {
        "duration": 87,
        "start_time": "2023-01-20T13:21:19.716Z"
      },
      {
        "duration": 1428,
        "start_time": "2023-01-20T13:21:35.796Z"
      },
      {
        "duration": 52,
        "start_time": "2023-01-20T13:21:37.228Z"
      },
      {
        "duration": 220,
        "start_time": "2023-01-20T13:21:37.282Z"
      },
      {
        "duration": 963,
        "start_time": "2023-01-20T13:21:37.504Z"
      },
      {
        "duration": 1088,
        "start_time": "2023-01-20T13:21:38.470Z"
      },
      {
        "duration": 7,
        "start_time": "2023-01-20T13:21:39.560Z"
      },
      {
        "duration": 13,
        "start_time": "2023-01-20T13:21:39.569Z"
      },
      {
        "duration": 8,
        "start_time": "2023-01-20T13:21:39.584Z"
      },
      {
        "duration": 1275,
        "start_time": "2023-01-20T13:21:39.594Z"
      },
      {
        "duration": 101,
        "start_time": "2023-01-20T13:21:40.876Z"
      },
      {
        "duration": 23,
        "start_time": "2023-01-20T13:21:40.979Z"
      },
      {
        "duration": 267,
        "start_time": "2023-01-20T13:21:41.003Z"
      },
      {
        "duration": 99,
        "start_time": "2023-01-20T13:21:41.272Z"
      },
      {
        "duration": 1098,
        "start_time": "2023-01-20T13:21:41.378Z"
      },
      {
        "duration": 9,
        "start_time": "2023-01-20T13:21:42.569Z"
      },
      {
        "duration": 14042,
        "start_time": "2023-01-20T13:21:42.580Z"
      },
      {
        "duration": 6,
        "start_time": "2023-01-20T13:21:56.624Z"
      },
      {
        "duration": 1246,
        "start_time": "2023-01-20T13:21:56.631Z"
      },
      {
        "duration": 4,
        "start_time": "2023-01-20T13:21:57.879Z"
      },
      {
        "duration": 99,
        "start_time": "2023-01-20T13:21:57.968Z"
      },
      {
        "duration": 7,
        "start_time": "2023-01-20T13:21:58.069Z"
      },
      {
        "duration": 2591,
        "start_time": "2023-01-20T13:21:58.077Z"
      },
      {
        "duration": 6,
        "start_time": "2023-01-20T13:22:00.670Z"
      },
      {
        "duration": 25,
        "start_time": "2023-01-20T13:22:00.677Z"
      },
      {
        "duration": 154,
        "start_time": "2023-01-20T13:22:00.704Z"
      },
      {
        "duration": 3,
        "start_time": "2023-01-20T13:22:18.605Z"
      },
      {
        "duration": 8,
        "start_time": "2023-01-20T13:22:25.545Z"
      },
      {
        "duration": 8,
        "start_time": "2023-01-20T13:22:28.005Z"
      },
      {
        "duration": 1334,
        "start_time": "2023-01-20T13:25:06.517Z"
      },
      {
        "duration": 53,
        "start_time": "2023-01-20T13:25:07.853Z"
      },
      {
        "duration": 220,
        "start_time": "2023-01-20T13:25:07.908Z"
      },
      {
        "duration": 1074,
        "start_time": "2023-01-20T13:25:08.130Z"
      },
      {
        "duration": 1099,
        "start_time": "2023-01-20T13:25:09.206Z"
      },
      {
        "duration": 2,
        "start_time": "2023-01-20T13:25:10.307Z"
      },
      {
        "duration": 10,
        "start_time": "2023-01-20T13:25:10.311Z"
      },
      {
        "duration": 5,
        "start_time": "2023-01-20T13:25:10.323Z"
      },
      {
        "duration": 1745,
        "start_time": "2023-01-20T13:25:10.330Z"
      },
      {
        "duration": 17,
        "start_time": "2023-01-20T13:25:12.079Z"
      },
      {
        "duration": 17,
        "start_time": "2023-01-20T13:25:12.097Z"
      },
      {
        "duration": 258,
        "start_time": "2023-01-20T13:25:12.116Z"
      },
      {
        "duration": 95,
        "start_time": "2023-01-20T13:25:12.376Z"
      },
      {
        "duration": 1303,
        "start_time": "2023-01-20T13:25:12.473Z"
      },
      {
        "duration": 8,
        "start_time": "2023-01-20T13:25:13.867Z"
      },
      {
        "duration": 14352,
        "start_time": "2023-01-20T13:25:13.876Z"
      },
      {
        "duration": 6,
        "start_time": "2023-01-20T13:25:28.230Z"
      },
      {
        "duration": 1040,
        "start_time": "2023-01-20T13:25:28.238Z"
      },
      {
        "duration": 4,
        "start_time": "2023-01-20T13:25:29.280Z"
      },
      {
        "duration": 91,
        "start_time": "2023-01-20T13:25:29.285Z"
      },
      {
        "duration": 8,
        "start_time": "2023-01-20T13:25:29.378Z"
      },
      {
        "duration": 2574,
        "start_time": "2023-01-20T13:25:29.388Z"
      },
      {
        "duration": 6,
        "start_time": "2023-01-20T13:25:31.964Z"
      },
      {
        "duration": 17,
        "start_time": "2023-01-20T13:25:31.972Z"
      },
      {
        "duration": 11,
        "start_time": "2023-01-20T13:25:31.991Z"
      },
      {
        "duration": 10,
        "start_time": "2023-01-20T13:25:32.004Z"
      },
      {
        "duration": 24,
        "start_time": "2023-01-20T13:25:32.015Z"
      },
      {
        "duration": 7,
        "start_time": "2023-01-20T13:25:32.042Z"
      },
      {
        "duration": 29,
        "start_time": "2023-01-20T13:25:32.050Z"
      },
      {
        "duration": 13,
        "start_time": "2023-01-20T13:25:32.081Z"
      },
      {
        "duration": 10,
        "start_time": "2023-01-20T13:25:32.095Z"
      },
      {
        "duration": 1534,
        "start_time": "2023-01-20T13:26:03.517Z"
      },
      {
        "duration": 65,
        "start_time": "2023-01-20T13:26:05.054Z"
      },
      {
        "duration": 272,
        "start_time": "2023-01-20T13:26:05.122Z"
      },
      {
        "duration": 1080,
        "start_time": "2023-01-20T13:26:05.396Z"
      },
      {
        "duration": 1219,
        "start_time": "2023-01-20T13:26:06.478Z"
      },
      {
        "duration": 3,
        "start_time": "2023-01-20T13:26:07.699Z"
      },
      {
        "duration": 8,
        "start_time": "2023-01-20T13:26:07.703Z"
      },
      {
        "duration": 12,
        "start_time": "2023-01-20T13:26:07.712Z"
      },
      {
        "duration": 1745,
        "start_time": "2023-01-20T13:26:07.726Z"
      },
      {
        "duration": 15,
        "start_time": "2023-01-20T13:26:09.473Z"
      },
      {
        "duration": 23,
        "start_time": "2023-01-20T13:26:09.490Z"
      },
      {
        "duration": 367,
        "start_time": "2023-01-20T13:26:09.515Z"
      },
      {
        "duration": 98,
        "start_time": "2023-01-20T13:26:09.969Z"
      },
      {
        "duration": 1398,
        "start_time": "2023-01-20T13:26:10.070Z"
      },
      {
        "duration": 96,
        "start_time": "2023-01-20T13:26:11.471Z"
      },
      {
        "duration": 14499,
        "start_time": "2023-01-20T13:26:11.570Z"
      },
      {
        "duration": 5,
        "start_time": "2023-01-20T13:26:26.071Z"
      },
      {
        "duration": 1594,
        "start_time": "2023-01-20T13:26:26.078Z"
      },
      {
        "duration": 5,
        "start_time": "2023-01-20T13:26:27.673Z"
      },
      {
        "duration": 91,
        "start_time": "2023-01-20T13:26:27.680Z"
      },
      {
        "duration": 6,
        "start_time": "2023-01-20T13:26:27.773Z"
      },
      {
        "duration": 3722,
        "start_time": "2023-01-20T13:26:27.780Z"
      },
      {
        "duration": 6,
        "start_time": "2023-01-20T13:26:31.503Z"
      },
      {
        "duration": 29,
        "start_time": "2023-01-20T13:26:31.511Z"
      },
      {
        "duration": 25,
        "start_time": "2023-01-20T13:26:31.542Z"
      },
      {
        "duration": 24,
        "start_time": "2023-01-20T13:26:31.569Z"
      },
      {
        "duration": 20,
        "start_time": "2023-01-20T13:26:31.594Z"
      },
      {
        "duration": 6,
        "start_time": "2023-01-20T13:26:31.617Z"
      },
      {
        "duration": 21,
        "start_time": "2023-01-20T13:26:31.625Z"
      },
      {
        "duration": 20,
        "start_time": "2023-01-20T13:26:31.647Z"
      },
      {
        "duration": 15,
        "start_time": "2023-01-20T13:26:31.669Z"
      },
      {
        "duration": 1764,
        "start_time": "2023-01-20T13:32:38.109Z"
      },
      {
        "duration": 65,
        "start_time": "2023-01-20T13:32:39.875Z"
      },
      {
        "duration": 242,
        "start_time": "2023-01-20T13:32:39.942Z"
      },
      {
        "duration": 1050,
        "start_time": "2023-01-20T13:32:40.186Z"
      },
      {
        "duration": 1171,
        "start_time": "2023-01-20T13:32:41.238Z"
      },
      {
        "duration": 3,
        "start_time": "2023-01-20T13:32:42.410Z"
      },
      {
        "duration": 9,
        "start_time": "2023-01-20T13:32:42.415Z"
      },
      {
        "duration": 6,
        "start_time": "2023-01-20T13:32:42.425Z"
      },
      {
        "duration": 1437,
        "start_time": "2023-01-20T13:32:42.432Z"
      },
      {
        "duration": 16,
        "start_time": "2023-01-20T13:32:43.872Z"
      },
      {
        "duration": 16,
        "start_time": "2023-01-20T13:32:43.890Z"
      },
      {
        "duration": 460,
        "start_time": "2023-01-20T13:32:43.908Z"
      },
      {
        "duration": 98,
        "start_time": "2023-01-20T13:32:44.370Z"
      },
      {
        "duration": 1107,
        "start_time": "2023-01-20T13:32:44.469Z"
      },
      {
        "duration": 89,
        "start_time": "2023-01-20T13:32:45.579Z"
      },
      {
        "duration": 15729,
        "start_time": "2023-01-20T13:32:45.671Z"
      },
      {
        "duration": 8,
        "start_time": "2023-01-20T13:33:01.402Z"
      },
      {
        "duration": 1391,
        "start_time": "2023-01-20T13:34:27.448Z"
      },
      {
        "duration": 52,
        "start_time": "2023-01-20T13:34:28.841Z"
      },
      {
        "duration": 227,
        "start_time": "2023-01-20T13:34:28.895Z"
      },
      {
        "duration": 1004,
        "start_time": "2023-01-20T13:34:29.124Z"
      },
      {
        "duration": 1079,
        "start_time": "2023-01-20T13:34:30.130Z"
      },
      {
        "duration": 2,
        "start_time": "2023-01-20T13:34:31.211Z"
      },
      {
        "duration": 20,
        "start_time": "2023-01-20T13:34:31.215Z"
      },
      {
        "duration": 28,
        "start_time": "2023-01-20T13:34:31.236Z"
      },
      {
        "duration": 1407,
        "start_time": "2023-01-20T13:34:31.266Z"
      },
      {
        "duration": 17,
        "start_time": "2023-01-20T13:34:32.675Z"
      },
      {
        "duration": 19,
        "start_time": "2023-01-20T13:34:32.693Z"
      },
      {
        "duration": 454,
        "start_time": "2023-01-20T13:34:32.714Z"
      },
      {
        "duration": 98,
        "start_time": "2023-01-20T13:34:33.171Z"
      },
      {
        "duration": 1107,
        "start_time": "2023-01-20T13:34:33.272Z"
      },
      {
        "duration": 91,
        "start_time": "2023-01-20T13:34:34.381Z"
      },
      {
        "duration": 14366,
        "start_time": "2023-01-20T13:34:34.474Z"
      },
      {
        "duration": 6,
        "start_time": "2023-01-20T13:34:48.841Z"
      },
      {
        "duration": 13425,
        "start_time": "2023-01-20T13:34:48.849Z"
      },
      {
        "duration": 4,
        "start_time": "2023-01-20T13:35:02.276Z"
      },
      {
        "duration": 99,
        "start_time": "2023-01-20T13:35:02.281Z"
      },
      {
        "duration": 7,
        "start_time": "2023-01-20T13:35:02.382Z"
      },
      {
        "duration": 3220,
        "start_time": "2023-01-20T13:35:02.390Z"
      },
      {
        "duration": 6,
        "start_time": "2023-01-20T13:35:05.612Z"
      },
      {
        "duration": 13,
        "start_time": "2023-01-20T13:35:05.620Z"
      },
      {
        "duration": 13,
        "start_time": "2023-01-20T13:35:05.634Z"
      },
      {
        "duration": 20,
        "start_time": "2023-01-20T13:35:05.648Z"
      },
      {
        "duration": 17,
        "start_time": "2023-01-20T13:35:05.670Z"
      },
      {
        "duration": 6,
        "start_time": "2023-01-20T13:35:05.688Z"
      },
      {
        "duration": 73,
        "start_time": "2023-01-20T13:35:05.696Z"
      },
      {
        "duration": 16,
        "start_time": "2023-01-20T13:35:05.771Z"
      },
      {
        "duration": 11,
        "start_time": "2023-01-20T13:35:05.789Z"
      },
      {
        "duration": 1551,
        "start_time": "2023-01-20T13:37:13.420Z"
      },
      {
        "duration": 834,
        "start_time": "2023-01-20T13:37:42.046Z"
      },
      {
        "duration": 1373,
        "start_time": "2023-01-20T13:42:32.208Z"
      },
      {
        "duration": 53,
        "start_time": "2023-01-20T13:42:33.583Z"
      },
      {
        "duration": 243,
        "start_time": "2023-01-20T13:42:33.637Z"
      },
      {
        "duration": 1087,
        "start_time": "2023-01-20T13:42:33.881Z"
      },
      {
        "duration": 1201,
        "start_time": "2023-01-20T13:42:34.971Z"
      },
      {
        "duration": 2,
        "start_time": "2023-01-20T13:42:36.174Z"
      },
      {
        "duration": 11,
        "start_time": "2023-01-20T13:42:36.177Z"
      },
      {
        "duration": 6,
        "start_time": "2023-01-20T13:42:36.189Z"
      },
      {
        "duration": 1589,
        "start_time": "2023-01-20T13:42:36.197Z"
      },
      {
        "duration": 16,
        "start_time": "2023-01-20T13:42:37.868Z"
      },
      {
        "duration": 25,
        "start_time": "2023-01-20T13:42:37.886Z"
      },
      {
        "duration": 357,
        "start_time": "2023-01-20T13:42:37.913Z"
      },
      {
        "duration": 97,
        "start_time": "2023-01-20T13:42:38.273Z"
      },
      {
        "duration": 1203,
        "start_time": "2023-01-20T13:42:38.373Z"
      },
      {
        "duration": 93,
        "start_time": "2023-01-20T13:42:39.578Z"
      },
      {
        "duration": 15232,
        "start_time": "2023-01-20T13:42:39.676Z"
      },
      {
        "duration": 6,
        "start_time": "2023-01-20T13:42:54.910Z"
      },
      {
        "duration": 951,
        "start_time": "2023-01-20T13:42:54.918Z"
      },
      {
        "duration": 4,
        "start_time": "2023-01-20T13:42:55.871Z"
      },
      {
        "duration": 94,
        "start_time": "2023-01-20T13:42:55.876Z"
      },
      {
        "duration": 17,
        "start_time": "2023-01-20T13:42:55.973Z"
      },
      {
        "duration": 3044,
        "start_time": "2023-01-20T13:42:55.992Z"
      },
      {
        "duration": 5,
        "start_time": "2023-01-20T13:42:59.038Z"
      },
      {
        "duration": 12,
        "start_time": "2023-01-20T13:42:59.045Z"
      },
      {
        "duration": 7,
        "start_time": "2023-01-20T13:42:59.059Z"
      },
      {
        "duration": 12,
        "start_time": "2023-01-20T13:42:59.068Z"
      },
      {
        "duration": 17,
        "start_time": "2023-01-20T13:42:59.082Z"
      },
      {
        "duration": 5,
        "start_time": "2023-01-20T13:42:59.101Z"
      },
      {
        "duration": 12,
        "start_time": "2023-01-20T13:42:59.108Z"
      },
      {
        "duration": 10,
        "start_time": "2023-01-20T13:42:59.121Z"
      },
      {
        "duration": 8,
        "start_time": "2023-01-20T13:42:59.168Z"
      },
      {
        "duration": 6694,
        "start_time": "2023-01-20T13:44:48.880Z"
      },
      {
        "duration": 1383,
        "start_time": "2023-01-20T13:45:27.455Z"
      },
      {
        "duration": 52,
        "start_time": "2023-01-20T13:45:28.840Z"
      },
      {
        "duration": 226,
        "start_time": "2023-01-20T13:45:28.893Z"
      },
      {
        "duration": 976,
        "start_time": "2023-01-20T13:45:29.120Z"
      },
      {
        "duration": 1152,
        "start_time": "2023-01-20T13:45:30.098Z"
      },
      {
        "duration": 3,
        "start_time": "2023-01-20T13:45:31.251Z"
      },
      {
        "duration": 16,
        "start_time": "2023-01-20T13:45:31.256Z"
      },
      {
        "duration": 17,
        "start_time": "2023-01-20T13:45:31.274Z"
      },
      {
        "duration": 7282,
        "start_time": "2023-01-20T13:45:31.293Z"
      },
      {
        "duration": 106,
        "start_time": "2023-01-20T13:45:38.577Z"
      },
      {
        "duration": 21,
        "start_time": "2023-01-20T13:45:38.685Z"
      },
      {
        "duration": 467,
        "start_time": "2023-01-20T13:45:38.708Z"
      },
      {
        "duration": 100,
        "start_time": "2023-01-20T13:45:39.267Z"
      },
      {
        "duration": 1206,
        "start_time": "2023-01-20T13:45:39.371Z"
      },
      {
        "duration": 10,
        "start_time": "2023-01-20T13:45:40.669Z"
      },
      {
        "duration": 21114,
        "start_time": "2023-01-20T13:45:40.768Z"
      },
      {
        "duration": 6,
        "start_time": "2023-01-20T13:46:01.884Z"
      },
      {
        "duration": 1378,
        "start_time": "2023-01-20T13:46:01.891Z"
      },
      {
        "duration": 6,
        "start_time": "2023-01-20T13:46:03.271Z"
      },
      {
        "duration": 91,
        "start_time": "2023-01-20T13:46:03.279Z"
      },
      {
        "duration": 6,
        "start_time": "2023-01-20T13:46:03.373Z"
      },
      {
        "duration": 6006,
        "start_time": "2023-01-20T13:46:03.380Z"
      },
      {
        "duration": 5,
        "start_time": "2023-01-20T13:46:09.388Z"
      },
      {
        "duration": 21,
        "start_time": "2023-01-20T13:46:09.394Z"
      },
      {
        "duration": 53,
        "start_time": "2023-01-20T13:46:09.417Z"
      },
      {
        "duration": 117,
        "start_time": "2023-01-20T13:46:09.472Z"
      },
      {
        "duration": 18,
        "start_time": "2023-01-20T13:46:09.591Z"
      },
      {
        "duration": 15,
        "start_time": "2023-01-20T13:46:09.611Z"
      },
      {
        "duration": 11,
        "start_time": "2023-01-20T13:46:09.627Z"
      },
      {
        "duration": 6,
        "start_time": "2023-01-20T13:46:09.667Z"
      },
      {
        "duration": 12,
        "start_time": "2023-01-20T13:46:09.674Z"
      },
      {
        "duration": 1370,
        "start_time": "2023-01-20T13:54:06.026Z"
      },
      {
        "duration": 54,
        "start_time": "2023-01-20T13:54:07.398Z"
      },
      {
        "duration": 236,
        "start_time": "2023-01-20T13:54:07.453Z"
      },
      {
        "duration": 1093,
        "start_time": "2023-01-20T13:54:07.691Z"
      },
      {
        "duration": 1164,
        "start_time": "2023-01-20T13:54:08.786Z"
      },
      {
        "duration": 2,
        "start_time": "2023-01-20T13:54:09.952Z"
      },
      {
        "duration": 20,
        "start_time": "2023-01-20T13:54:09.956Z"
      },
      {
        "duration": 13,
        "start_time": "2023-01-20T13:54:09.978Z"
      },
      {
        "duration": 6687,
        "start_time": "2023-01-20T13:54:09.993Z"
      },
      {
        "duration": 18,
        "start_time": "2023-01-20T13:54:16.681Z"
      },
      {
        "duration": 19,
        "start_time": "2023-01-20T13:54:16.701Z"
      },
      {
        "duration": 848,
        "start_time": "2023-01-20T13:54:16.721Z"
      },
      {
        "duration": 13,
        "start_time": "2023-01-20T13:54:17.571Z"
      },
      {
        "duration": 1204,
        "start_time": "2023-01-20T13:54:17.588Z"
      },
      {
        "duration": 79,
        "start_time": "2023-01-20T13:54:18.794Z"
      },
      {
        "duration": 22380,
        "start_time": "2023-01-20T13:54:18.876Z"
      },
      {
        "duration": 13,
        "start_time": "2023-01-20T13:54:41.257Z"
      },
      {
        "duration": 21319,
        "start_time": "2023-01-20T13:54:41.272Z"
      },
      {
        "duration": 85,
        "start_time": "2023-01-20T13:55:02.593Z"
      },
      {
        "duration": 17,
        "start_time": "2023-01-20T13:55:02.681Z"
      },
      {
        "duration": 8,
        "start_time": "2023-01-20T13:55:02.700Z"
      },
      {
        "duration": 5196,
        "start_time": "2023-01-20T13:55:02.710Z"
      },
      {
        "duration": 5,
        "start_time": "2023-01-20T13:55:07.908Z"
      },
      {
        "duration": 18,
        "start_time": "2023-01-20T13:55:07.915Z"
      },
      {
        "duration": 12,
        "start_time": "2023-01-20T13:55:07.934Z"
      },
      {
        "duration": 146,
        "start_time": "2023-01-20T13:55:07.948Z"
      },
      {
        "duration": 30,
        "start_time": "2023-01-20T13:55:08.096Z"
      },
      {
        "duration": 7,
        "start_time": "2023-01-20T13:55:08.128Z"
      },
      {
        "duration": 42,
        "start_time": "2023-01-20T13:55:08.136Z"
      },
      {
        "duration": 7,
        "start_time": "2023-01-20T13:55:08.181Z"
      },
      {
        "duration": 14,
        "start_time": "2023-01-20T13:55:08.189Z"
      },
      {
        "duration": 1500,
        "start_time": "2023-01-20T13:55:55.417Z"
      },
      {
        "duration": 57,
        "start_time": "2023-01-20T13:55:56.919Z"
      },
      {
        "duration": 308,
        "start_time": "2023-01-20T13:55:56.979Z"
      },
      {
        "duration": 1119,
        "start_time": "2023-01-20T13:55:57.289Z"
      },
      {
        "duration": 1128,
        "start_time": "2023-01-20T13:55:58.410Z"
      },
      {
        "duration": 3,
        "start_time": "2023-01-20T13:55:59.539Z"
      },
      {
        "duration": 8,
        "start_time": "2023-01-20T13:55:59.543Z"
      },
      {
        "duration": 5,
        "start_time": "2023-01-20T13:55:59.552Z"
      },
      {
        "duration": 6801,
        "start_time": "2023-01-20T13:55:59.575Z"
      },
      {
        "duration": 21,
        "start_time": "2023-01-20T13:56:06.378Z"
      },
      {
        "duration": 23,
        "start_time": "2023-01-20T13:56:06.401Z"
      },
      {
        "duration": 946,
        "start_time": "2023-01-20T13:56:06.426Z"
      },
      {
        "duration": 15,
        "start_time": "2023-01-20T13:56:07.376Z"
      },
      {
        "duration": 1694,
        "start_time": "2023-01-20T13:56:07.396Z"
      },
      {
        "duration": 82,
        "start_time": "2023-01-20T13:56:09.092Z"
      },
      {
        "duration": 22666,
        "start_time": "2023-01-20T13:56:09.179Z"
      },
      {
        "duration": 5,
        "start_time": "2023-01-20T13:56:31.847Z"
      },
      {
        "duration": 16328,
        "start_time": "2023-01-20T13:56:31.854Z"
      },
      {
        "duration": 5,
        "start_time": "2023-01-20T13:56:48.184Z"
      },
      {
        "duration": 88,
        "start_time": "2023-01-20T13:56:48.190Z"
      },
      {
        "duration": 11,
        "start_time": "2023-01-20T13:56:48.280Z"
      },
      {
        "duration": 4531,
        "start_time": "2023-01-20T13:56:48.293Z"
      },
      {
        "duration": 6,
        "start_time": "2023-01-20T13:56:52.826Z"
      },
      {
        "duration": 9,
        "start_time": "2023-01-20T13:56:52.834Z"
      },
      {
        "duration": 10,
        "start_time": "2023-01-20T13:56:52.845Z"
      },
      {
        "duration": 108,
        "start_time": "2023-01-20T13:56:52.885Z"
      },
      {
        "duration": 20,
        "start_time": "2023-01-20T13:56:52.995Z"
      },
      {
        "duration": 7,
        "start_time": "2023-01-20T13:56:53.017Z"
      },
      {
        "duration": 59,
        "start_time": "2023-01-20T13:56:53.025Z"
      },
      {
        "duration": 7,
        "start_time": "2023-01-20T13:56:53.088Z"
      },
      {
        "duration": 29,
        "start_time": "2023-01-20T13:56:53.097Z"
      },
      {
        "duration": 8,
        "start_time": "2023-01-20T13:57:15.920Z"
      },
      {
        "duration": 46,
        "start_time": "2023-01-20T13:57:15.930Z"
      },
      {
        "duration": 214,
        "start_time": "2023-01-20T13:57:15.978Z"
      },
      {
        "duration": 45,
        "start_time": "2023-01-20T13:57:16.194Z"
      },
      {
        "duration": 23,
        "start_time": "2023-01-20T13:57:16.242Z"
      },
      {
        "duration": 30,
        "start_time": "2023-01-20T13:57:16.267Z"
      },
      {
        "duration": 18,
        "start_time": "2023-01-20T13:57:16.299Z"
      },
      {
        "duration": 24,
        "start_time": "2023-01-20T13:57:16.318Z"
      },
      {
        "duration": 7,
        "start_time": "2023-01-20T13:57:29.509Z"
      },
      {
        "duration": 15,
        "start_time": "2023-01-20T13:57:29.518Z"
      },
      {
        "duration": 117,
        "start_time": "2023-01-20T13:57:29.571Z"
      },
      {
        "duration": 17,
        "start_time": "2023-01-20T13:57:29.689Z"
      },
      {
        "duration": 6,
        "start_time": "2023-01-20T13:57:29.708Z"
      },
      {
        "duration": 11,
        "start_time": "2023-01-20T13:57:29.716Z"
      },
      {
        "duration": 6,
        "start_time": "2023-01-20T13:57:29.729Z"
      },
      {
        "duration": 11,
        "start_time": "2023-01-20T13:57:29.736Z"
      },
      {
        "duration": 7,
        "start_time": "2023-01-20T13:59:19.140Z"
      },
      {
        "duration": 9,
        "start_time": "2023-01-20T13:59:19.151Z"
      },
      {
        "duration": 117,
        "start_time": "2023-01-20T13:59:19.163Z"
      },
      {
        "duration": 100,
        "start_time": "2023-01-20T13:59:19.284Z"
      },
      {
        "duration": 6,
        "start_time": "2023-01-20T13:59:19.385Z"
      },
      {
        "duration": 10,
        "start_time": "2023-01-20T13:59:19.393Z"
      },
      {
        "duration": 5,
        "start_time": "2023-01-20T13:59:19.405Z"
      },
      {
        "duration": 11,
        "start_time": "2023-01-20T13:59:19.412Z"
      },
      {
        "duration": 8,
        "start_time": "2023-01-20T13:59:33.729Z"
      },
      {
        "duration": 9,
        "start_time": "2023-01-20T13:59:33.739Z"
      },
      {
        "duration": 141,
        "start_time": "2023-01-20T13:59:33.751Z"
      },
      {
        "duration": 18,
        "start_time": "2023-01-20T13:59:33.894Z"
      },
      {
        "duration": 6,
        "start_time": "2023-01-20T13:59:33.914Z"
      },
      {
        "duration": 62,
        "start_time": "2023-01-20T13:59:33.921Z"
      },
      {
        "duration": 10,
        "start_time": "2023-01-20T13:59:33.985Z"
      },
      {
        "duration": 13,
        "start_time": "2023-01-20T13:59:33.996Z"
      },
      {
        "duration": 8,
        "start_time": "2023-01-20T14:00:46.890Z"
      },
      {
        "duration": 20,
        "start_time": "2023-01-20T14:00:46.900Z"
      },
      {
        "duration": 113,
        "start_time": "2023-01-20T14:00:46.975Z"
      },
      {
        "duration": 22,
        "start_time": "2023-01-20T14:00:47.089Z"
      },
      {
        "duration": 5,
        "start_time": "2023-01-20T14:00:47.113Z"
      },
      {
        "duration": 8,
        "start_time": "2023-01-20T14:00:47.120Z"
      },
      {
        "duration": 5,
        "start_time": "2023-01-20T14:00:47.130Z"
      },
      {
        "duration": 22,
        "start_time": "2023-01-20T14:00:47.136Z"
      },
      {
        "duration": 4,
        "start_time": "2023-01-20T14:00:57.782Z"
      },
      {
        "duration": 68,
        "start_time": "2023-01-20T14:00:57.788Z"
      },
      {
        "duration": 324,
        "start_time": "2023-01-20T14:00:57.857Z"
      },
      {
        "duration": 995,
        "start_time": "2023-01-20T14:00:58.183Z"
      },
      {
        "duration": 1190,
        "start_time": "2023-01-20T14:00:59.185Z"
      },
      {
        "duration": 6,
        "start_time": "2023-01-20T14:01:00.377Z"
      },
      {
        "duration": 50,
        "start_time": "2023-01-20T14:01:00.385Z"
      },
      {
        "duration": 18,
        "start_time": "2023-01-20T14:01:00.437Z"
      },
      {
        "duration": 6721,
        "start_time": "2023-01-20T14:01:00.457Z"
      },
      {
        "duration": 19,
        "start_time": "2023-01-20T14:01:07.184Z"
      },
      {
        "duration": 74,
        "start_time": "2023-01-20T14:01:07.204Z"
      },
      {
        "duration": 400,
        "start_time": "2023-01-20T14:01:07.280Z"
      },
      {
        "duration": 99,
        "start_time": "2023-01-20T14:01:07.684Z"
      },
      {
        "duration": 1396,
        "start_time": "2023-01-20T14:01:07.786Z"
      },
      {
        "duration": 19,
        "start_time": "2023-01-20T14:01:09.269Z"
      },
      {
        "duration": 22760,
        "start_time": "2023-01-20T14:01:09.369Z"
      },
      {
        "duration": 6,
        "start_time": "2023-01-20T14:01:32.131Z"
      },
      {
        "duration": 14552,
        "start_time": "2023-01-20T14:01:32.138Z"
      },
      {
        "duration": 5,
        "start_time": "2023-01-20T14:01:46.691Z"
      },
      {
        "duration": 173,
        "start_time": "2023-01-20T14:01:46.697Z"
      },
      {
        "duration": 10,
        "start_time": "2023-01-20T14:01:46.872Z"
      },
      {
        "duration": 4547,
        "start_time": "2023-01-20T14:01:46.884Z"
      },
      {
        "duration": 8,
        "start_time": "2023-01-20T14:01:51.433Z"
      },
      {
        "duration": 6,
        "start_time": "2023-01-20T14:05:02.082Z"
      },
      {
        "duration": 9,
        "start_time": "2023-01-20T14:05:09.990Z"
      },
      {
        "duration": 65,
        "start_time": "2023-01-20T14:05:10.003Z"
      },
      {
        "duration": 113,
        "start_time": "2023-01-20T14:05:10.077Z"
      },
      {
        "duration": 22,
        "start_time": "2023-01-20T14:05:10.193Z"
      },
      {
        "duration": 6,
        "start_time": "2023-01-20T14:05:10.217Z"
      },
      {
        "duration": 52,
        "start_time": "2023-01-20T14:05:10.224Z"
      },
      {
        "duration": 6,
        "start_time": "2023-01-20T14:05:10.279Z"
      },
      {
        "duration": 12,
        "start_time": "2023-01-20T14:05:10.286Z"
      },
      {
        "duration": 7,
        "start_time": "2023-01-20T14:05:19.134Z"
      },
      {
        "duration": 12,
        "start_time": "2023-01-20T14:05:19.142Z"
      },
      {
        "duration": 139,
        "start_time": "2023-01-20T14:05:19.156Z"
      },
      {
        "duration": 17,
        "start_time": "2023-01-20T14:05:19.297Z"
      },
      {
        "duration": 62,
        "start_time": "2023-01-20T14:05:19.316Z"
      },
      {
        "duration": 11,
        "start_time": "2023-01-20T14:05:19.380Z"
      },
      {
        "duration": 8,
        "start_time": "2023-01-20T14:05:19.392Z"
      },
      {
        "duration": 10,
        "start_time": "2023-01-20T14:05:19.402Z"
      },
      {
        "duration": 2346,
        "start_time": "2023-01-20T18:33:21.722Z"
      },
      {
        "duration": 165,
        "start_time": "2023-01-20T18:33:24.073Z"
      },
      {
        "duration": 259,
        "start_time": "2023-01-20T18:33:24.240Z"
      },
      {
        "duration": 1135,
        "start_time": "2023-01-20T18:33:24.501Z"
      },
      {
        "duration": 1148,
        "start_time": "2023-01-20T18:33:25.637Z"
      },
      {
        "duration": 3,
        "start_time": "2023-01-20T18:33:26.787Z"
      },
      {
        "duration": 18,
        "start_time": "2023-01-20T18:33:26.792Z"
      },
      {
        "duration": 7,
        "start_time": "2023-01-20T18:33:26.813Z"
      },
      {
        "duration": 6573,
        "start_time": "2023-01-20T18:33:26.822Z"
      },
      {
        "duration": 76,
        "start_time": "2023-01-20T18:33:33.399Z"
      },
      {
        "duration": 121,
        "start_time": "2023-01-20T18:33:59.315Z"
      },
      {
        "duration": 968,
        "start_time": "2023-01-20T18:35:09.676Z"
      },
      {
        "duration": 139,
        "start_time": "2023-01-20T18:35:46.510Z"
      },
      {
        "duration": 121,
        "start_time": "2023-01-20T18:39:00.605Z"
      },
      {
        "duration": 135,
        "start_time": "2023-01-20T18:39:47.964Z"
      },
      {
        "duration": 13,
        "start_time": "2023-01-20T18:40:38.690Z"
      },
      {
        "duration": 45,
        "start_time": "2023-01-20T18:41:27.258Z"
      },
      {
        "duration": 11,
        "start_time": "2023-01-20T18:41:55.733Z"
      },
      {
        "duration": 120,
        "start_time": "2023-01-20T18:42:12.702Z"
      },
      {
        "duration": 228,
        "start_time": "2023-01-20T18:42:32.815Z"
      },
      {
        "duration": 18,
        "start_time": "2023-01-20T19:00:46.359Z"
      },
      {
        "duration": 5,
        "start_time": "2023-01-20T19:01:10.913Z"
      },
      {
        "duration": 124,
        "start_time": "2023-01-20T19:01:25.125Z"
      },
      {
        "duration": 84,
        "start_time": "2023-01-20T19:02:09.986Z"
      },
      {
        "duration": 52,
        "start_time": "2023-01-20T19:02:36.964Z"
      },
      {
        "duration": 102072,
        "start_time": "2023-01-20T19:03:34.124Z"
      },
      {
        "duration": 82,
        "start_time": "2023-01-20T19:07:35.613Z"
      },
      {
        "duration": 6,
        "start_time": "2023-01-20T19:07:58.465Z"
      },
      {
        "duration": 5,
        "start_time": "2023-01-20T19:08:09.390Z"
      },
      {
        "duration": 1602,
        "start_time": "2023-01-25T12:47:50.973Z"
      },
      {
        "duration": 135,
        "start_time": "2023-01-25T12:47:52.577Z"
      },
      {
        "duration": 221,
        "start_time": "2023-01-25T12:47:52.713Z"
      },
      {
        "duration": 1077,
        "start_time": "2023-01-25T12:47:52.935Z"
      },
      {
        "duration": 1116,
        "start_time": "2023-01-25T12:47:54.014Z"
      },
      {
        "duration": 2,
        "start_time": "2023-01-25T12:47:55.132Z"
      },
      {
        "duration": 5,
        "start_time": "2023-01-25T12:48:52.913Z"
      },
      {
        "duration": 1476,
        "start_time": "2023-01-25T12:57:06.019Z"
      },
      {
        "duration": 3,
        "start_time": "2023-01-25T12:57:07.497Z"
      },
      {
        "duration": 57,
        "start_time": "2023-01-25T12:57:07.501Z"
      },
      {
        "duration": 217,
        "start_time": "2023-01-25T12:57:07.560Z"
      },
      {
        "duration": 1038,
        "start_time": "2023-01-25T12:57:07.778Z"
      },
      {
        "duration": 1094,
        "start_time": "2023-01-25T12:57:08.818Z"
      },
      {
        "duration": 2,
        "start_time": "2023-01-25T12:57:09.914Z"
      },
      {
        "duration": 13,
        "start_time": "2023-01-25T12:57:09.917Z"
      },
      {
        "duration": 13,
        "start_time": "2023-01-25T12:57:09.932Z"
      },
      {
        "duration": 7294,
        "start_time": "2023-01-25T12:57:20.079Z"
      },
      {
        "duration": 100,
        "start_time": "2023-01-25T12:58:12.561Z"
      },
      {
        "duration": 121,
        "start_time": "2023-01-25T12:59:26.383Z"
      },
      {
        "duration": 1325,
        "start_time": "2023-01-25T13:13:19.748Z"
      },
      {
        "duration": 106,
        "start_time": "2023-01-25T13:13:40.377Z"
      },
      {
        "duration": 1273,
        "start_time": "2023-01-25T13:13:59.558Z"
      },
      {
        "duration": 1419,
        "start_time": "2023-01-25T13:16:01.673Z"
      },
      {
        "duration": 1313,
        "start_time": "2023-01-25T13:16:06.693Z"
      },
      {
        "duration": 1387,
        "start_time": "2023-01-25T13:18:30.260Z"
      },
      {
        "duration": 2,
        "start_time": "2023-01-25T13:18:31.649Z"
      },
      {
        "duration": 65,
        "start_time": "2023-01-25T13:18:31.653Z"
      },
      {
        "duration": 295,
        "start_time": "2023-01-25T13:18:34.966Z"
      },
      {
        "duration": 351,
        "start_time": "2023-01-25T13:18:44.850Z"
      },
      {
        "duration": 1467,
        "start_time": "2023-01-25T13:21:46.061Z"
      },
      {
        "duration": 2,
        "start_time": "2023-01-25T13:21:47.530Z"
      },
      {
        "duration": 61,
        "start_time": "2023-01-25T13:21:47.533Z"
      },
      {
        "duration": 229,
        "start_time": "2023-01-25T13:21:47.595Z"
      },
      {
        "duration": 1038,
        "start_time": "2023-01-25T13:21:47.826Z"
      },
      {
        "duration": 1119,
        "start_time": "2023-01-25T13:21:48.866Z"
      },
      {
        "duration": 2,
        "start_time": "2023-01-25T13:21:49.986Z"
      },
      {
        "duration": 6,
        "start_time": "2023-01-25T13:21:49.990Z"
      },
      {
        "duration": 7,
        "start_time": "2023-01-25T13:21:49.997Z"
      },
      {
        "duration": 6869,
        "start_time": "2023-01-25T13:21:50.006Z"
      },
      {
        "duration": 1010,
        "start_time": "2023-01-25T13:21:56.877Z"
      },
      {
        "duration": 19,
        "start_time": "2023-01-25T13:21:57.889Z"
      },
      {
        "duration": 43,
        "start_time": "2023-01-25T13:21:57.909Z"
      },
      {
        "duration": 411,
        "start_time": "2023-01-25T13:21:57.955Z"
      },
      {
        "duration": 99,
        "start_time": "2023-01-25T13:21:58.369Z"
      },
      {
        "duration": 1387,
        "start_time": "2023-01-25T13:26:03.023Z"
      },
      {
        "duration": 2,
        "start_time": "2023-01-25T13:26:04.412Z"
      },
      {
        "duration": 71,
        "start_time": "2023-01-25T13:26:04.416Z"
      },
      {
        "duration": 234,
        "start_time": "2023-01-25T13:26:04.489Z"
      },
      {
        "duration": 1088,
        "start_time": "2023-01-25T13:26:04.724Z"
      },
      {
        "duration": 1171,
        "start_time": "2023-01-25T13:26:05.814Z"
      },
      {
        "duration": 3,
        "start_time": "2023-01-25T13:26:06.986Z"
      },
      {
        "duration": 7,
        "start_time": "2023-01-25T13:26:06.990Z"
      },
      {
        "duration": 6,
        "start_time": "2023-01-25T13:26:06.999Z"
      },
      {
        "duration": 6468,
        "start_time": "2023-01-25T13:26:07.007Z"
      },
      {
        "duration": 543,
        "start_time": "2023-01-25T13:26:13.477Z"
      },
      {
        "duration": 17,
        "start_time": "2023-01-25T13:26:14.021Z"
      },
      {
        "duration": 34,
        "start_time": "2023-01-25T13:26:14.040Z"
      },
      {
        "duration": 489,
        "start_time": "2023-01-25T13:26:14.077Z"
      },
      {
        "duration": 10,
        "start_time": "2023-01-25T13:26:14.569Z"
      },
      {
        "duration": 1289,
        "start_time": "2023-01-25T13:26:14.581Z"
      },
      {
        "duration": 96,
        "start_time": "2023-01-25T13:26:15.872Z"
      },
      {
        "duration": 20599,
        "start_time": "2023-01-25T13:26:15.974Z"
      },
      {
        "duration": 5,
        "start_time": "2023-01-25T13:26:36.574Z"
      },
      {
        "duration": 1292,
        "start_time": "2023-01-25T13:26:36.581Z"
      },
      {
        "duration": 4,
        "start_time": "2023-01-25T13:26:37.875Z"
      },
      {
        "duration": 91,
        "start_time": "2023-01-25T13:26:37.881Z"
      },
      {
        "duration": 21,
        "start_time": "2023-01-25T13:26:37.973Z"
      },
      {
        "duration": 4383,
        "start_time": "2023-01-25T13:26:37.995Z"
      },
      {
        "duration": 6,
        "start_time": "2023-01-25T13:26:42.379Z"
      },
      {
        "duration": 1368,
        "start_time": "2023-01-25T13:43:23.609Z"
      },
      {
        "duration": 2,
        "start_time": "2023-01-25T13:43:24.979Z"
      },
      {
        "duration": 64,
        "start_time": "2023-01-25T13:43:24.982Z"
      },
      {
        "duration": 216,
        "start_time": "2023-01-25T13:43:25.047Z"
      },
      {
        "duration": 1038,
        "start_time": "2023-01-25T13:43:25.266Z"
      },
      {
        "duration": 1162,
        "start_time": "2023-01-25T13:43:26.305Z"
      },
      {
        "duration": 2,
        "start_time": "2023-01-25T13:43:27.469Z"
      },
      {
        "duration": 46,
        "start_time": "2023-01-25T13:43:27.472Z"
      },
      {
        "duration": 25,
        "start_time": "2023-01-25T13:43:27.520Z"
      },
      {
        "duration": 6632,
        "start_time": "2023-01-25T13:43:27.547Z"
      },
      {
        "duration": 629,
        "start_time": "2023-01-25T13:43:34.182Z"
      },
      {
        "duration": 20,
        "start_time": "2023-01-25T13:43:34.812Z"
      },
      {
        "duration": 37,
        "start_time": "2023-01-25T13:43:34.833Z"
      },
      {
        "duration": 497,
        "start_time": "2023-01-25T13:43:34.872Z"
      },
      {
        "duration": 100,
        "start_time": "2023-01-25T13:43:35.372Z"
      },
      {
        "duration": 1593,
        "start_time": "2023-01-25T13:43:35.474Z"
      },
      {
        "duration": 100,
        "start_time": "2023-01-25T13:43:37.069Z"
      },
      {
        "duration": 21041,
        "start_time": "2023-01-25T13:43:37.171Z"
      },
      {
        "duration": 6,
        "start_time": "2023-01-25T13:43:58.214Z"
      },
      {
        "duration": 1253,
        "start_time": "2023-01-25T13:43:58.221Z"
      },
      {
        "duration": 3,
        "start_time": "2023-01-25T13:43:59.476Z"
      },
      {
        "duration": 90,
        "start_time": "2023-01-25T13:43:59.481Z"
      },
      {
        "duration": 6,
        "start_time": "2023-01-25T13:43:59.573Z"
      },
      {
        "duration": 4430,
        "start_time": "2023-01-25T13:43:59.581Z"
      },
      {
        "duration": 6,
        "start_time": "2023-01-25T13:44:04.013Z"
      },
      {
        "duration": 6,
        "start_time": "2023-01-25T13:44:04.021Z"
      },
      {
        "duration": 156,
        "start_time": "2023-01-25T13:44:04.028Z"
      },
      {
        "duration": 0,
        "start_time": "2023-01-25T13:44:04.186Z"
      },
      {
        "duration": 0,
        "start_time": "2023-01-25T13:44:04.188Z"
      },
      {
        "duration": 0,
        "start_time": "2023-01-25T13:44:04.190Z"
      },
      {
        "duration": 0,
        "start_time": "2023-01-25T13:44:04.191Z"
      },
      {
        "duration": 0,
        "start_time": "2023-01-25T13:44:04.192Z"
      },
      {
        "duration": 0,
        "start_time": "2023-01-25T13:44:04.194Z"
      },
      {
        "duration": 0,
        "start_time": "2023-01-25T13:44:04.195Z"
      },
      {
        "duration": 0,
        "start_time": "2023-01-25T13:44:04.196Z"
      },
      {
        "duration": 1429,
        "start_time": "2023-01-25T13:51:41.653Z"
      },
      {
        "duration": 3,
        "start_time": "2023-01-25T13:51:43.084Z"
      },
      {
        "duration": 64,
        "start_time": "2023-01-25T13:51:43.088Z"
      },
      {
        "duration": 239,
        "start_time": "2023-01-25T13:51:43.153Z"
      },
      {
        "duration": 1026,
        "start_time": "2023-01-25T13:51:43.394Z"
      },
      {
        "duration": 1087,
        "start_time": "2023-01-25T13:51:44.421Z"
      },
      {
        "duration": 3,
        "start_time": "2023-01-25T13:51:45.510Z"
      },
      {
        "duration": 7,
        "start_time": "2023-01-25T13:51:45.514Z"
      },
      {
        "duration": 6,
        "start_time": "2023-01-25T13:51:45.523Z"
      },
      {
        "duration": 6937,
        "start_time": "2023-01-25T13:51:45.530Z"
      },
      {
        "duration": 536,
        "start_time": "2023-01-25T13:51:52.469Z"
      },
      {
        "duration": 18,
        "start_time": "2023-01-25T13:51:53.007Z"
      },
      {
        "duration": 40,
        "start_time": "2023-01-25T13:51:53.027Z"
      },
      {
        "duration": 501,
        "start_time": "2023-01-25T13:51:53.071Z"
      },
      {
        "duration": 96,
        "start_time": "2023-01-25T13:51:53.576Z"
      },
      {
        "duration": 1396,
        "start_time": "2023-01-25T13:51:53.674Z"
      },
      {
        "duration": 96,
        "start_time": "2023-01-25T13:51:55.072Z"
      },
      {
        "duration": 20732,
        "start_time": "2023-01-25T13:51:55.170Z"
      },
      {
        "duration": 6,
        "start_time": "2023-01-25T13:52:15.904Z"
      },
      {
        "duration": 1557,
        "start_time": "2023-01-25T13:52:15.912Z"
      },
      {
        "duration": 4,
        "start_time": "2023-01-25T13:52:17.471Z"
      },
      {
        "duration": 22,
        "start_time": "2023-01-25T13:52:17.477Z"
      },
      {
        "duration": 5,
        "start_time": "2023-01-25T13:52:17.568Z"
      },
      {
        "duration": 4348,
        "start_time": "2023-01-25T13:52:17.575Z"
      },
      {
        "duration": 6,
        "start_time": "2023-01-25T13:52:21.925Z"
      },
      {
        "duration": 15,
        "start_time": "2023-01-25T13:52:21.933Z"
      },
      {
        "duration": 146,
        "start_time": "2023-01-25T13:52:21.950Z"
      },
      {
        "duration": 0,
        "start_time": "2023-01-25T13:52:22.097Z"
      },
      {
        "duration": 0,
        "start_time": "2023-01-25T13:52:22.099Z"
      },
      {
        "duration": 0,
        "start_time": "2023-01-25T13:52:22.100Z"
      },
      {
        "duration": 0,
        "start_time": "2023-01-25T13:52:22.102Z"
      },
      {
        "duration": 0,
        "start_time": "2023-01-25T13:52:22.103Z"
      },
      {
        "duration": 0,
        "start_time": "2023-01-25T13:52:22.105Z"
      },
      {
        "duration": 0,
        "start_time": "2023-01-25T13:52:22.106Z"
      },
      {
        "duration": 0,
        "start_time": "2023-01-25T13:52:22.109Z"
      },
      {
        "duration": 8,
        "start_time": "2023-01-25T13:53:50.570Z"
      },
      {
        "duration": 1554,
        "start_time": "2023-01-25T13:58:23.569Z"
      },
      {
        "duration": 3,
        "start_time": "2023-01-25T13:58:25.125Z"
      },
      {
        "duration": 61,
        "start_time": "2023-01-25T13:58:25.129Z"
      },
      {
        "duration": 227,
        "start_time": "2023-01-25T13:58:25.192Z"
      },
      {
        "duration": 935,
        "start_time": "2023-01-25T13:58:25.421Z"
      },
      {
        "duration": 1036,
        "start_time": "2023-01-25T13:58:26.357Z"
      },
      {
        "duration": 2,
        "start_time": "2023-01-25T13:58:27.395Z"
      },
      {
        "duration": 8,
        "start_time": "2023-01-25T13:58:27.398Z"
      },
      {
        "duration": 11,
        "start_time": "2023-01-25T13:58:27.407Z"
      },
      {
        "duration": 6554,
        "start_time": "2023-01-25T13:58:27.420Z"
      },
      {
        "duration": 554,
        "start_time": "2023-01-25T13:58:33.976Z"
      },
      {
        "duration": 18,
        "start_time": "2023-01-25T13:58:34.532Z"
      },
      {
        "duration": 34,
        "start_time": "2023-01-25T13:58:34.552Z"
      },
      {
        "duration": 781,
        "start_time": "2023-01-25T13:58:34.589Z"
      },
      {
        "duration": 7,
        "start_time": "2023-01-25T13:58:35.373Z"
      },
      {
        "duration": 1388,
        "start_time": "2023-01-25T13:58:35.383Z"
      },
      {
        "duration": 86,
        "start_time": "2023-01-25T13:58:36.782Z"
      },
      {
        "duration": 20564,
        "start_time": "2023-01-25T13:58:36.869Z"
      },
      {
        "duration": 5,
        "start_time": "2023-01-25T13:58:57.435Z"
      },
      {
        "duration": 1232,
        "start_time": "2023-01-25T13:58:57.441Z"
      },
      {
        "duration": 4,
        "start_time": "2023-01-25T13:58:58.674Z"
      },
      {
        "duration": 93,
        "start_time": "2023-01-25T13:58:58.679Z"
      },
      {
        "duration": 5,
        "start_time": "2023-01-25T13:58:58.774Z"
      },
      {
        "duration": 4236,
        "start_time": "2023-01-25T13:58:58.781Z"
      },
      {
        "duration": 6,
        "start_time": "2023-01-25T13:59:03.018Z"
      },
      {
        "duration": 18,
        "start_time": "2023-01-25T13:59:03.026Z"
      },
      {
        "duration": 23,
        "start_time": "2023-01-25T13:59:03.046Z"
      },
      {
        "duration": 10,
        "start_time": "2023-01-25T13:59:03.070Z"
      },
      {
        "duration": 126,
        "start_time": "2023-01-25T13:59:03.081Z"
      },
      {
        "duration": 0,
        "start_time": "2023-01-25T13:59:03.208Z"
      },
      {
        "duration": 0,
        "start_time": "2023-01-25T13:59:03.209Z"
      },
      {
        "duration": 0,
        "start_time": "2023-01-25T13:59:03.210Z"
      },
      {
        "duration": 0,
        "start_time": "2023-01-25T13:59:03.211Z"
      },
      {
        "duration": 0,
        "start_time": "2023-01-25T13:59:03.213Z"
      },
      {
        "duration": 0,
        "start_time": "2023-01-25T13:59:03.214Z"
      },
      {
        "duration": 10,
        "start_time": "2023-01-25T14:00:23.911Z"
      },
      {
        "duration": 8,
        "start_time": "2023-01-25T14:00:26.280Z"
      },
      {
        "duration": 13,
        "start_time": "2023-01-25T14:00:28.263Z"
      },
      {
        "duration": 7,
        "start_time": "2023-01-25T14:00:30.474Z"
      },
      {
        "duration": 15,
        "start_time": "2023-01-25T14:00:32.721Z"
      },
      {
        "duration": 9,
        "start_time": "2023-01-25T14:00:34.961Z"
      },
      {
        "duration": 8,
        "start_time": "2023-01-25T14:00:37.187Z"
      },
      {
        "duration": 1760,
        "start_time": "2023-01-25T17:01:06.315Z"
      },
      {
        "duration": 3,
        "start_time": "2023-01-25T17:01:08.077Z"
      },
      {
        "duration": 258,
        "start_time": "2023-01-25T17:01:08.082Z"
      },
      {
        "duration": 335,
        "start_time": "2023-01-25T17:01:08.343Z"
      },
      {
        "duration": 1139,
        "start_time": "2023-01-25T17:01:08.681Z"
      },
      {
        "duration": 1151,
        "start_time": "2023-01-25T17:01:09.823Z"
      },
      {
        "duration": 3,
        "start_time": "2023-01-25T17:01:10.976Z"
      },
      {
        "duration": 4,
        "start_time": "2023-01-25T17:01:10.992Z"
      },
      {
        "duration": 8,
        "start_time": "2023-01-25T17:01:10.998Z"
      },
      {
        "duration": 6991,
        "start_time": "2023-01-25T17:01:11.008Z"
      },
      {
        "duration": 554,
        "start_time": "2023-01-25T17:01:18.000Z"
      },
      {
        "duration": 38,
        "start_time": "2023-01-25T17:01:18.555Z"
      },
      {
        "duration": 22,
        "start_time": "2023-01-25T17:01:18.595Z"
      },
      {
        "duration": 777,
        "start_time": "2023-01-25T17:01:18.618Z"
      },
      {
        "duration": 93,
        "start_time": "2023-01-25T17:01:19.399Z"
      },
      {
        "duration": 807,
        "start_time": "2023-01-25T17:01:19.494Z"
      },
      {
        "duration": 91,
        "start_time": "2023-01-25T17:01:20.304Z"
      },
      {
        "duration": 22717,
        "start_time": "2023-01-25T17:01:20.396Z"
      },
      {
        "duration": 5,
        "start_time": "2023-01-25T17:01:43.115Z"
      },
      {
        "duration": 278378,
        "start_time": "2023-01-25T17:01:43.122Z"
      },
      {
        "duration": 4,
        "start_time": "2023-01-25T17:06:21.502Z"
      },
      {
        "duration": 94,
        "start_time": "2023-01-25T17:06:21.508Z"
      },
      {
        "duration": 7,
        "start_time": "2023-01-25T17:06:21.604Z"
      },
      {
        "duration": 5303,
        "start_time": "2023-01-25T17:06:21.613Z"
      },
      {
        "duration": 6,
        "start_time": "2023-01-25T17:06:26.918Z"
      },
      {
        "duration": 8,
        "start_time": "2023-01-25T17:06:26.926Z"
      },
      {
        "duration": 11,
        "start_time": "2023-01-25T17:06:26.936Z"
      },
      {
        "duration": 9,
        "start_time": "2023-01-25T17:06:26.951Z"
      },
      {
        "duration": 36,
        "start_time": "2023-01-25T17:06:26.962Z"
      },
      {
        "duration": 108,
        "start_time": "2023-01-25T17:06:27.001Z"
      },
      {
        "duration": 18,
        "start_time": "2023-01-25T17:06:27.112Z"
      },
      {
        "duration": 7,
        "start_time": "2023-01-25T17:06:27.132Z"
      },
      {
        "duration": 57,
        "start_time": "2023-01-25T17:06:27.141Z"
      },
      {
        "duration": 6,
        "start_time": "2023-01-25T17:06:27.200Z"
      },
      {
        "duration": 12,
        "start_time": "2023-01-25T17:06:27.208Z"
      }
    ],
    "kernelspec": {
      "display_name": "Python 3 (ipykernel)",
      "language": "python",
      "name": "python3"
    },
    "language_info": {
      "codemirror_mode": {
        "name": "ipython",
        "version": 3
      },
      "file_extension": ".py",
      "mimetype": "text/x-python",
      "name": "python",
      "nbconvert_exporter": "python",
      "pygments_lexer": "ipython3",
      "version": "3.9.5"
    },
    "toc": {
      "base_numbering": 1,
      "nav_menu": {},
      "number_sections": true,
      "sideBar": true,
      "skip_h1_title": true,
      "title_cell": "Содержание",
      "title_sidebar": "Contents",
      "toc_cell": true,
      "toc_position": {
        "height": "436px",
        "left": "23px",
        "top": "111.125px",
        "width": "184px"
      },
      "toc_section_display": true,
      "toc_window_display": false
    },
    "colab": {
      "provenance": []
    },
    "widgets": {
      "application/vnd.jupyter.widget-state+json": {
        "899ede68fe74412f99bb3a845e3127eb": {
          "model_module": "catboost-widget",
          "model_name": "CatboostWidgetModel",
          "model_module_version": "^1.0.0",
          "state": {
            "_dom_classes": [],
            "_model_module": "catboost-widget",
            "_model_module_version": "^1.0.0",
            "_model_name": "CatboostWidgetModel",
            "_view_count": null,
            "_view_module": "catboost-widget",
            "_view_module_version": "^1.0.0",
            "_view_name": "CatboostWidgetView",
            "data": {
              "catboost_info": {
                "path": "catboost_info",
                "name": "catboost_info",
                "content": {
                  "passed_iterations": 199,
                  "total_iterations": 200,
                  "data": {
                    "iterations": [
                      {
                        "learn": [
                          37.66154859
                        ],
                        "iteration": 0,
                        "passed_time": 0.02487990066,
                        "remaining_time": 4.951100232
                      },
                      {
                        "learn": [
                          36.05341359
                        ],
                        "iteration": 1,
                        "passed_time": 0.04480189049,
                        "remaining_time": 4.435387159
                      },
                      {
                        "learn": [
                          34.68438687
                        ],
                        "iteration": 2,
                        "passed_time": 0.06297580798,
                        "remaining_time": 4.135411391
                      },
                      {
                        "learn": [
                          33.38214569
                        ],
                        "iteration": 3,
                        "passed_time": 0.08254892691,
                        "remaining_time": 4.044897419
                      },
                      {
                        "learn": [
                          32.1310169
                        ],
                        "iteration": 4,
                        "passed_time": 0.1046266005,
                        "remaining_time": 4.080437421
                      },
                      {
                        "learn": [
                          31.10479846
                        ],
                        "iteration": 5,
                        "passed_time": 0.1228978629,
                        "remaining_time": 3.973697568
                      },
                      {
                        "learn": [
                          30.19514059
                        ],
                        "iteration": 6,
                        "passed_time": 0.1491605303,
                        "remaining_time": 4.112568907
                      },
                      {
                        "learn": [
                          29.4467413
                        ],
                        "iteration": 7,
                        "passed_time": 0.1732576212,
                        "remaining_time": 4.158182909
                      },
                      {
                        "learn": [
                          28.81500825
                        ],
                        "iteration": 8,
                        "passed_time": 0.1979056466,
                        "remaining_time": 4.199997612
                      },
                      {
                        "learn": [
                          28.12410336
                        ],
                        "iteration": 9,
                        "passed_time": 0.2210042828,
                        "remaining_time": 4.199081373
                      },
                      {
                        "learn": [
                          27.57640915
                        ],
                        "iteration": 10,
                        "passed_time": 0.242125882,
                        "remaining_time": 4.160162882
                      },
                      {
                        "learn": [
                          27.08948212
                        ],
                        "iteration": 11,
                        "passed_time": 0.2629474264,
                        "remaining_time": 4.11950968
                      },
                      {
                        "learn": [
                          26.66483006
                        ],
                        "iteration": 12,
                        "passed_time": 0.2809649412,
                        "remaining_time": 4.041572616
                      },
                      {
                        "learn": [
                          26.20556297
                        ],
                        "iteration": 13,
                        "passed_time": 0.2987672582,
                        "remaining_time": 3.969336431
                      },
                      {
                        "learn": [
                          25.77924901
                        ],
                        "iteration": 14,
                        "passed_time": 0.3172635447,
                        "remaining_time": 3.912917051
                      },
                      {
                        "learn": [
                          25.44416867
                        ],
                        "iteration": 15,
                        "passed_time": 0.336376121,
                        "remaining_time": 3.868325392
                      },
                      {
                        "learn": [
                          25.13991195
                        ],
                        "iteration": 16,
                        "passed_time": 0.3577884633,
                        "remaining_time": 3.851487575
                      },
                      {
                        "learn": [
                          24.87155973
                        ],
                        "iteration": 17,
                        "passed_time": 0.3753762397,
                        "remaining_time": 3.795470868
                      },
                      {
                        "learn": [
                          24.63963899
                        ],
                        "iteration": 18,
                        "passed_time": 0.3926175541,
                        "remaining_time": 3.740198805
                      },
                      {
                        "learn": [
                          24.39172798
                        ],
                        "iteration": 19,
                        "passed_time": 0.4099174509,
                        "remaining_time": 3.689257058
                      },
                      {
                        "learn": [
                          24.10407894
                        ],
                        "iteration": 20,
                        "passed_time": 0.4273749584,
                        "remaining_time": 3.642862741
                      },
                      {
                        "learn": [
                          23.88094556
                        ],
                        "iteration": 21,
                        "passed_time": 0.445085909,
                        "remaining_time": 3.601149628
                      },
                      {
                        "learn": [
                          23.69074938
                        ],
                        "iteration": 22,
                        "passed_time": 0.4625808565,
                        "remaining_time": 3.559861374
                      },
                      {
                        "learn": [
                          23.47490297
                        ],
                        "iteration": 23,
                        "passed_time": 0.4811351645,
                        "remaining_time": 3.52832454
                      },
                      {
                        "learn": [
                          23.23835984
                        ],
                        "iteration": 24,
                        "passed_time": 0.4990765805,
                        "remaining_time": 3.493536063
                      },
                      {
                        "learn": [
                          23.08877256
                        ],
                        "iteration": 25,
                        "passed_time": 0.516932993,
                        "remaining_time": 3.459474646
                      },
                      {
                        "learn": [
                          22.85791365
                        ],
                        "iteration": 26,
                        "passed_time": 0.5345051265,
                        "remaining_time": 3.424792107
                      },
                      {
                        "learn": [
                          22.6969147
                        ],
                        "iteration": 27,
                        "passed_time": 0.5545214315,
                        "remaining_time": 3.406345936
                      },
                      {
                        "learn": [
                          22.54203322
                        ],
                        "iteration": 28,
                        "passed_time": 0.5732839425,
                        "remaining_time": 3.38039842
                      },
                      {
                        "learn": [
                          22.40641197
                        ],
                        "iteration": 29,
                        "passed_time": 0.5907648687,
                        "remaining_time": 3.347667589
                      },
                      {
                        "learn": [
                          22.34363631
                        ],
                        "iteration": 30,
                        "passed_time": 0.6082388,
                        "remaining_time": 3.31588249
                      },
                      {
                        "learn": [
                          22.17210831
                        ],
                        "iteration": 31,
                        "passed_time": 0.6260195783,
                        "remaining_time": 3.286602786
                      },
                      {
                        "learn": [
                          22.03636728
                        ],
                        "iteration": 32,
                        "passed_time": 0.6459466794,
                        "remaining_time": 3.268881681
                      },
                      {
                        "learn": [
                          21.86904926
                        ],
                        "iteration": 33,
                        "passed_time": 0.6638503,
                        "remaining_time": 3.241151465
                      },
                      {
                        "learn": [
                          21.7795695
                        ],
                        "iteration": 34,
                        "passed_time": 0.6815745066,
                        "remaining_time": 3.21313696
                      },
                      {
                        "learn": [
                          21.69078252
                        ],
                        "iteration": 35,
                        "passed_time": 0.6986061827,
                        "remaining_time": 3.182539277
                      },
                      {
                        "learn": [
                          21.55669802
                        ],
                        "iteration": 36,
                        "passed_time": 0.7241217622,
                        "remaining_time": 3.190049925
                      },
                      {
                        "learn": [
                          21.44806147
                        ],
                        "iteration": 37,
                        "passed_time": 0.750259321,
                        "remaining_time": 3.198473948
                      },
                      {
                        "learn": [
                          21.37612041
                        ],
                        "iteration": 38,
                        "passed_time": 0.7707731941,
                        "remaining_time": 3.181909852
                      },
                      {
                        "learn": [
                          21.32142072
                        ],
                        "iteration": 39,
                        "passed_time": 0.7901008391,
                        "remaining_time": 3.160403356
                      },
                      {
                        "learn": [
                          21.2163518
                        ],
                        "iteration": 40,
                        "passed_time": 0.8074865101,
                        "remaining_time": 3.131472076
                      },
                      {
                        "learn": [
                          21.20068586
                        ],
                        "iteration": 41,
                        "passed_time": 0.8129884507,
                        "remaining_time": 3.058385124
                      },
                      {
                        "learn": [
                          21.16569233
                        ],
                        "iteration": 42,
                        "passed_time": 0.8303469953,
                        "remaining_time": 3.031732053
                      },
                      {
                        "learn": [
                          21.06447526
                        ],
                        "iteration": 43,
                        "passed_time": 0.8482392207,
                        "remaining_time": 3.007393601
                      },
                      {
                        "learn": [
                          21.005914
                        ],
                        "iteration": 44,
                        "passed_time": 0.8734831908,
                        "remaining_time": 3.008664324
                      },
                      {
                        "learn": [
                          20.97321248
                        ],
                        "iteration": 45,
                        "passed_time": 0.8914859161,
                        "remaining_time": 2.984539806
                      },
                      {
                        "learn": [
                          20.86897607
                        ],
                        "iteration": 46,
                        "passed_time": 0.9093789505,
                        "remaining_time": 2.960318711
                      },
                      {
                        "learn": [
                          20.85066331
                        ],
                        "iteration": 47,
                        "passed_time": 0.9263856709,
                        "remaining_time": 2.933554624
                      },
                      {
                        "learn": [
                          20.79410482
                        ],
                        "iteration": 48,
                        "passed_time": 0.9448439466,
                        "remaining_time": 2.911661958
                      },
                      {
                        "learn": [
                          20.64896018
                        ],
                        "iteration": 49,
                        "passed_time": 0.9632082534,
                        "remaining_time": 2.88962476
                      },
                      {
                        "learn": [
                          20.6134673
                        ],
                        "iteration": 50,
                        "passed_time": 0.9806045506,
                        "remaining_time": 2.864903491
                      },
                      {
                        "learn": [
                          20.50411758
                        ],
                        "iteration": 51,
                        "passed_time": 1.005421983,
                        "remaining_time": 2.861585644
                      },
                      {
                        "learn": [
                          20.43200369
                        ],
                        "iteration": 52,
                        "passed_time": 1.022668977,
                        "remaining_time": 2.836459237
                      },
                      {
                        "learn": [
                          20.33270094
                        ],
                        "iteration": 53,
                        "passed_time": 1.041790384,
                        "remaining_time": 2.81669252
                      },
                      {
                        "learn": [
                          20.30772922
                        ],
                        "iteration": 54,
                        "passed_time": 1.059224472,
                        "remaining_time": 2.792500881
                      },
                      {
                        "learn": [
                          20.22921918
                        ],
                        "iteration": 55,
                        "passed_time": 1.07749109,
                        "remaining_time": 2.770691375
                      },
                      {
                        "learn": [
                          20.15106
                        ],
                        "iteration": 56,
                        "passed_time": 1.095528563,
                        "remaining_time": 2.748431308
                      },
                      {
                        "learn": [
                          20.05050378
                        ],
                        "iteration": 57,
                        "passed_time": 1.112951265,
                        "remaining_time": 2.724811718
                      },
                      {
                        "learn": [
                          19.98705783
                        ],
                        "iteration": 58,
                        "passed_time": 1.131798239,
                        "remaining_time": 2.70480596
                      },
                      {
                        "learn": [
                          19.9391646
                        ],
                        "iteration": 59,
                        "passed_time": 1.154231278,
                        "remaining_time": 2.693206315
                      },
                      {
                        "learn": [
                          19.92612041
                        ],
                        "iteration": 60,
                        "passed_time": 1.171744432,
                        "remaining_time": 2.670040591
                      },
                      {
                        "learn": [
                          19.88447123
                        ],
                        "iteration": 61,
                        "passed_time": 1.189013713,
                        "remaining_time": 2.646514392
                      },
                      {
                        "learn": [
                          19.86349871
                        ],
                        "iteration": 62,
                        "passed_time": 1.206314523,
                        "remaining_time": 2.623255391
                      },
                      {
                        "learn": [
                          19.77614104
                        ],
                        "iteration": 63,
                        "passed_time": 1.224210597,
                        "remaining_time": 2.601447519
                      },
                      {
                        "learn": [
                          19.69582383
                        ],
                        "iteration": 64,
                        "passed_time": 1.242750685,
                        "remaining_time": 2.581097576
                      },
                      {
                        "learn": [
                          19.6089859
                        ],
                        "iteration": 65,
                        "passed_time": 1.260406618,
                        "remaining_time": 2.559007376
                      },
                      {
                        "learn": [
                          19.52547045
                        ],
                        "iteration": 66,
                        "passed_time": 1.27887374,
                        "remaining_time": 2.538659812
                      },
                      {
                        "learn": [
                          19.46333415
                        ],
                        "iteration": 67,
                        "passed_time": 1.296433986,
                        "remaining_time": 2.51660715
                      },
                      {
                        "learn": [
                          19.44058168
                        ],
                        "iteration": 68,
                        "passed_time": 1.313573337,
                        "remaining_time": 2.493885611
                      },
                      {
                        "learn": [
                          19.39261606
                        ],
                        "iteration": 69,
                        "passed_time": 1.333337865,
                        "remaining_time": 2.476198893
                      },
                      {
                        "learn": [
                          19.34675774
                        ],
                        "iteration": 70,
                        "passed_time": 1.35065533,
                        "remaining_time": 2.454007571
                      },
                      {
                        "learn": [
                          19.27913987
                        ],
                        "iteration": 71,
                        "passed_time": 1.369531312,
                        "remaining_time": 2.434722333
                      },
                      {
                        "learn": [
                          19.23332081
                        ],
                        "iteration": 72,
                        "passed_time": 1.386501279,
                        "remaining_time": 2.412132362
                      },
                      {
                        "learn": [
                          19.13517207
                        ],
                        "iteration": 73,
                        "passed_time": 1.40523771,
                        "remaining_time": 2.392702046
                      },
                      {
                        "learn": [
                          19.04422062
                        ],
                        "iteration": 74,
                        "passed_time": 1.422301424,
                        "remaining_time": 2.370502374
                      },
                      {
                        "learn": [
                          18.94553403
                        ],
                        "iteration": 75,
                        "passed_time": 1.439528567,
                        "remaining_time": 2.348704503
                      },
                      {
                        "learn": [
                          18.93348178
                        ],
                        "iteration": 76,
                        "passed_time": 1.457423733,
                        "remaining_time": 2.328092457
                      },
                      {
                        "learn": [
                          18.87630278
                        ],
                        "iteration": 77,
                        "passed_time": 1.479522531,
                        "remaining_time": 2.314124985
                      },
                      {
                        "learn": [
                          18.83688885
                        ],
                        "iteration": 78,
                        "passed_time": 1.496856212,
                        "remaining_time": 2.292653185
                      },
                      {
                        "learn": [
                          18.78368642
                        ],
                        "iteration": 79,
                        "passed_time": 1.515099847,
                        "remaining_time": 2.272649771
                      },
                      {
                        "learn": [
                          18.71641393
                        ],
                        "iteration": 80,
                        "passed_time": 1.532645574,
                        "remaining_time": 2.251664485
                      },
                      {
                        "learn": [
                          18.64492115
                        ],
                        "iteration": 81,
                        "passed_time": 1.552692668,
                        "remaining_time": 2.23436262
                      },
                      {
                        "learn": [
                          18.63527863
                        ],
                        "iteration": 82,
                        "passed_time": 1.570089101,
                        "remaining_time": 2.21325813
                      },
                      {
                        "learn": [
                          18.62418216
                        ],
                        "iteration": 83,
                        "passed_time": 1.587703112,
                        "remaining_time": 2.192542392
                      },
                      {
                        "learn": [
                          18.55455294
                        ],
                        "iteration": 84,
                        "passed_time": 1.608643527,
                        "remaining_time": 2.176400066
                      },
                      {
                        "learn": [
                          18.54540362
                        ],
                        "iteration": 85,
                        "passed_time": 1.62629584,
                        "remaining_time": 2.155787509
                      },
                      {
                        "learn": [
                          18.47092329
                        ],
                        "iteration": 86,
                        "passed_time": 1.645204076,
                        "remaining_time": 2.136874259
                      },
                      {
                        "learn": [
                          18.37021775
                        ],
                        "iteration": 87,
                        "passed_time": 1.662872478,
                        "remaining_time": 2.116383153
                      },
                      {
                        "learn": [
                          18.28275803
                        ],
                        "iteration": 88,
                        "passed_time": 1.680015453,
                        "remaining_time": 2.095300171
                      },
                      {
                        "learn": [
                          18.19775107
                        ],
                        "iteration": 89,
                        "passed_time": 1.697977352,
                        "remaining_time": 2.075305652
                      },
                      {
                        "learn": [
                          18.13457415
                        ],
                        "iteration": 90,
                        "passed_time": 1.715532765,
                        "remaining_time": 2.054868917
                      },
                      {
                        "learn": [
                          18.1188526
                        ],
                        "iteration": 91,
                        "passed_time": 1.733271743,
                        "remaining_time": 2.034710307
                      },
                      {
                        "learn": [
                          18.11246793
                        ],
                        "iteration": 92,
                        "passed_time": 1.765539805,
                        "remaining_time": 2.031319991
                      },
                      {
                        "learn": [
                          18.05265387
                        ],
                        "iteration": 93,
                        "passed_time": 1.783462604,
                        "remaining_time": 2.011138681
                      },
                      {
                        "learn": [
                          18.04525922
                        ],
                        "iteration": 94,
                        "passed_time": 1.800806882,
                        "remaining_time": 1.990365502
                      },
                      {
                        "learn": [
                          17.94875259
                        ],
                        "iteration": 95,
                        "passed_time": 1.818288768,
                        "remaining_time": 1.969812832
                      },
                      {
                        "learn": [
                          17.9449107
                        ],
                        "iteration": 96,
                        "passed_time": 1.827421115,
                        "remaining_time": 1.940457473
                      },
                      {
                        "learn": [
                          17.86309809
                        ],
                        "iteration": 97,
                        "passed_time": 1.844893484,
                        "remaining_time": 1.920195259
                      },
                      {
                        "learn": [
                          17.80235228
                        ],
                        "iteration": 98,
                        "passed_time": 1.865203756,
                        "remaining_time": 1.90288464
                      },
                      {
                        "learn": [
                          17.7114882
                        ],
                        "iteration": 99,
                        "passed_time": 1.883066254,
                        "remaining_time": 1.883066254
                      },
                      {
                        "learn": [
                          17.63244737
                        ],
                        "iteration": 100,
                        "passed_time": 1.900677025,
                        "remaining_time": 1.863039856
                      },
                      {
                        "learn": [
                          17.54487614
                        ],
                        "iteration": 101,
                        "passed_time": 1.91797523,
                        "remaining_time": 1.842760515
                      },
                      {
                        "learn": [
                          17.49463521
                        ],
                        "iteration": 102,
                        "passed_time": 1.935475591,
                        "remaining_time": 1.82272944
                      },
                      {
                        "learn": [
                          17.48007801
                        ],
                        "iteration": 103,
                        "passed_time": 1.952275128,
                        "remaining_time": 1.802100118
                      },
                      {
                        "learn": [
                          17.44816516
                        ],
                        "iteration": 104,
                        "passed_time": 1.969696351,
                        "remaining_time": 1.782106222
                      },
                      {
                        "learn": [
                          17.42423903
                        ],
                        "iteration": 105,
                        "passed_time": 1.992696756,
                        "remaining_time": 1.767108444
                      },
                      {
                        "learn": [
                          17.35673524
                        ],
                        "iteration": 106,
                        "passed_time": 2.012115494,
                        "remaining_time": 1.748848046
                      },
                      {
                        "learn": [
                          17.30502314
                        ],
                        "iteration": 107,
                        "passed_time": 2.030032256,
                        "remaining_time": 1.729286737
                      },
                      {
                        "learn": [
                          17.24242461
                        ],
                        "iteration": 108,
                        "passed_time": 2.050489756,
                        "remaining_time": 1.711876769
                      },
                      {
                        "learn": [
                          17.15131658
                        ],
                        "iteration": 109,
                        "passed_time": 2.068643649,
                        "remaining_time": 1.692526622
                      },
                      {
                        "learn": [
                          17.06369278
                        ],
                        "iteration": 110,
                        "passed_time": 2.086193689,
                        "remaining_time": 1.672713859
                      },
                      {
                        "learn": [
                          17.00539262
                        ],
                        "iteration": 111,
                        "passed_time": 2.104460215,
                        "remaining_time": 1.653504455
                      },
                      {
                        "learn": [
                          16.91586519
                        ],
                        "iteration": 112,
                        "passed_time": 2.122658073,
                        "remaining_time": 1.63425887
                      },
                      {
                        "learn": [
                          16.86487801
                        ],
                        "iteration": 113,
                        "passed_time": 2.146473803,
                        "remaining_time": 1.619269711
                      },
                      {
                        "learn": [
                          16.85240506
                        ],
                        "iteration": 114,
                        "passed_time": 2.163729706,
                        "remaining_time": 1.599278479
                      },
                      {
                        "learn": [
                          16.77483939
                        ],
                        "iteration": 115,
                        "passed_time": 2.182112572,
                        "remaining_time": 1.580150483
                      },
                      {
                        "learn": [
                          16.7688611
                        ],
                        "iteration": 116,
                        "passed_time": 2.199113526,
                        "remaining_time": 1.560054894
                      },
                      {
                        "learn": [
                          16.69490382
                        ],
                        "iteration": 117,
                        "passed_time": 2.217457649,
                        "remaining_time": 1.540945146
                      },
                      {
                        "learn": [
                          16.69102777
                        ],
                        "iteration": 118,
                        "passed_time": 2.23552798,
                        "remaining_time": 1.521661902
                      },
                      {
                        "learn": [
                          16.60194041
                        ],
                        "iteration": 119,
                        "passed_time": 2.254161125,
                        "remaining_time": 1.502774084
                      },
                      {
                        "learn": [
                          16.51575911
                        ],
                        "iteration": 120,
                        "passed_time": 2.271718871,
                        "remaining_time": 1.483188354
                      },
                      {
                        "learn": [
                          16.48300783
                        ],
                        "iteration": 121,
                        "passed_time": 2.29060617,
                        "remaining_time": 1.464485912
                      },
                      {
                        "learn": [
                          16.39798997
                        ],
                        "iteration": 122,
                        "passed_time": 2.308929451,
                        "remaining_time": 1.44542738
                      },
                      {
                        "learn": [
                          16.33126715
                        ],
                        "iteration": 123,
                        "passed_time": 2.328765735,
                        "remaining_time": 1.427308031
                      },
                      {
                        "learn": [
                          16.30745585
                        ],
                        "iteration": 124,
                        "passed_time": 2.346499462,
                        "remaining_time": 1.407899677
                      },
                      {
                        "learn": [
                          16.22410138
                        ],
                        "iteration": 125,
                        "passed_time": 2.364250815,
                        "remaining_time": 1.388528256
                      },
                      {
                        "learn": [
                          16.15746647
                        ],
                        "iteration": 126,
                        "passed_time": 2.382278494,
                        "remaining_time": 1.369341182
                      },
                      {
                        "learn": [
                          16.09848481
                        ],
                        "iteration": 127,
                        "passed_time": 2.399698833,
                        "remaining_time": 1.349830594
                      },
                      {
                        "learn": [
                          16.0349909
                        ],
                        "iteration": 128,
                        "passed_time": 2.417756358,
                        "remaining_time": 1.330703112
                      },
                      {
                        "learn": [
                          15.98034577
                        ],
                        "iteration": 129,
                        "passed_time": 2.436201071,
                        "remaining_time": 1.311800577
                      },
                      {
                        "learn": [
                          15.9154653
                        ],
                        "iteration": 130,
                        "passed_time": 2.4540465,
                        "remaining_time": 1.292589378
                      },
                      {
                        "learn": [
                          15.83632458
                        ],
                        "iteration": 131,
                        "passed_time": 2.471643994,
                        "remaining_time": 1.273271148
                      },
                      {
                        "learn": [
                          15.78928057
                        ],
                        "iteration": 132,
                        "passed_time": 2.489665658,
                        "remaining_time": 1.254192474
                      },
                      {
                        "learn": [
                          15.7339724
                        ],
                        "iteration": 133,
                        "passed_time": 2.522241952,
                        "remaining_time": 1.242298275
                      },
                      {
                        "learn": [
                          15.69083932
                        ],
                        "iteration": 134,
                        "passed_time": 2.560059919,
                        "remaining_time": 1.232621443
                      },
                      {
                        "learn": [
                          15.62878031
                        ],
                        "iteration": 135,
                        "passed_time": 2.58435878,
                        "remaining_time": 1.216168838
                      },
                      {
                        "learn": [
                          15.57656476
                        ],
                        "iteration": 136,
                        "passed_time": 2.615381114,
                        "remaining_time": 1.202693505
                      },
                      {
                        "learn": [
                          15.50820442
                        ],
                        "iteration": 137,
                        "passed_time": 2.640781527,
                        "remaining_time": 1.186438077
                      },
                      {
                        "learn": [
                          15.45636707
                        ],
                        "iteration": 138,
                        "passed_time": 2.66823941,
                        "remaining_time": 1.170953986
                      },
                      {
                        "learn": [
                          15.40406297
                        ],
                        "iteration": 139,
                        "passed_time": 2.6971467,
                        "remaining_time": 1.155920014
                      },
                      {
                        "learn": [
                          15.36177192
                        ],
                        "iteration": 140,
                        "passed_time": 2.731852962,
                        "remaining_time": 1.143115778
                      },
                      {
                        "learn": [
                          15.30728647
                        ],
                        "iteration": 141,
                        "passed_time": 2.767666309,
                        "remaining_time": 1.130455253
                      },
                      {
                        "learn": [
                          15.24063353
                        ],
                        "iteration": 142,
                        "passed_time": 2.803542108,
                        "remaining_time": 1.117495805
                      },
                      {
                        "learn": [
                          15.18290829
                        ],
                        "iteration": 143,
                        "passed_time": 2.841861107,
                        "remaining_time": 1.105168208
                      },
                      {
                        "learn": [
                          15.12353704
                        ],
                        "iteration": 144,
                        "passed_time": 2.882366304,
                        "remaining_time": 1.093311357
                      },
                      {
                        "learn": [
                          15.07452295
                        ],
                        "iteration": 145,
                        "passed_time": 2.921654419,
                        "remaining_time": 1.080611908
                      },
                      {
                        "learn": [
                          15.02980964
                        ],
                        "iteration": 146,
                        "passed_time": 2.959393561,
                        "remaining_time": 1.066992236
                      },
                      {
                        "learn": [
                          14.96355474
                        ],
                        "iteration": 147,
                        "passed_time": 3.006818921,
                        "remaining_time": 1.056449891
                      },
                      {
                        "learn": [
                          14.90803315
                        ],
                        "iteration": 148,
                        "passed_time": 3.045710132,
                        "remaining_time": 1.042491387
                      },
                      {
                        "learn": [
                          14.87465017
                        ],
                        "iteration": 149,
                        "passed_time": 3.081778679,
                        "remaining_time": 1.02725956
                      },
                      {
                        "learn": [
                          14.80330225
                        ],
                        "iteration": 150,
                        "passed_time": 3.119254962,
                        "remaining_time": 1.012208564
                      },
                      {
                        "learn": [
                          14.74201467
                        ],
                        "iteration": 151,
                        "passed_time": 3.156341125,
                        "remaining_time": 0.9967393027
                      },
                      {
                        "learn": [
                          14.70974966
                        ],
                        "iteration": 152,
                        "passed_time": 3.191310048,
                        "remaining_time": 0.9803370737
                      },
                      {
                        "learn": [
                          14.67805719
                        ],
                        "iteration": 153,
                        "passed_time": 3.226237655,
                        "remaining_time": 0.9636813775
                      },
                      {
                        "learn": [
                          14.64319706
                        ],
                        "iteration": 154,
                        "passed_time": 3.262895093,
                        "remaining_time": 0.9472921238
                      },
                      {
                        "learn": [
                          14.60649433
                        ],
                        "iteration": 155,
                        "passed_time": 3.300426424,
                        "remaining_time": 0.9308895043
                      },
                      {
                        "learn": [
                          14.58694606
                        ],
                        "iteration": 156,
                        "passed_time": 3.337650363,
                        "remaining_time": 0.914133539
                      },
                      {
                        "learn": [
                          14.52921542
                        ],
                        "iteration": 157,
                        "passed_time": 3.374993262,
                        "remaining_time": 0.8971501076
                      },
                      {
                        "learn": [
                          14.46217286
                        ],
                        "iteration": 158,
                        "passed_time": 3.409405734,
                        "remaining_time": 0.8791549377
                      },
                      {
                        "learn": [
                          14.43242413
                        ],
                        "iteration": 159,
                        "passed_time": 3.447236603,
                        "remaining_time": 0.8618091507
                      },
                      {
                        "learn": [
                          14.38409709
                        ],
                        "iteration": 160,
                        "passed_time": 3.488595458,
                        "remaining_time": 0.845063496
                      },
                      {
                        "learn": [
                          14.32352619
                        ],
                        "iteration": 161,
                        "passed_time": 3.52449256,
                        "remaining_time": 0.8267328228
                      },
                      {
                        "learn": [
                          14.27809116
                        ],
                        "iteration": 162,
                        "passed_time": 3.560815461,
                        "remaining_time": 0.8082832642
                      },
                      {
                        "learn": [
                          14.22632537
                        ],
                        "iteration": 163,
                        "passed_time": 3.599966574,
                        "remaining_time": 0.7902365651
                      },
                      {
                        "learn": [
                          14.20723408
                        ],
                        "iteration": 164,
                        "passed_time": 3.625452009,
                        "remaining_time": 0.7690352747
                      },
                      {
                        "learn": [
                          14.16504987
                        ],
                        "iteration": 165,
                        "passed_time": 3.659081915,
                        "remaining_time": 0.7494505128
                      },
                      {
                        "learn": [
                          14.11204278
                        ],
                        "iteration": 166,
                        "passed_time": 3.699314543,
                        "remaining_time": 0.731002275
                      },
                      {
                        "learn": [
                          14.10200579
                        ],
                        "iteration": 167,
                        "passed_time": 3.735266414,
                        "remaining_time": 0.711479317
                      },
                      {
                        "learn": [
                          14.05872561
                        ],
                        "iteration": 168,
                        "passed_time": 3.77109319,
                        "remaining_time": 0.6917389875
                      },
                      {
                        "learn": [
                          14.0092784
                        ],
                        "iteration": 169,
                        "passed_time": 3.810249431,
                        "remaining_time": 0.6723969583
                      },
                      {
                        "learn": [
                          14.00677499
                        ],
                        "iteration": 170,
                        "passed_time": 3.846273969,
                        "remaining_time": 0.6522920767
                      },
                      {
                        "learn": [
                          13.94677618
                        ],
                        "iteration": 171,
                        "passed_time": 3.883930299,
                        "remaining_time": 0.6322677231
                      },
                      {
                        "learn": [
                          13.90890991
                        ],
                        "iteration": 172,
                        "passed_time": 3.919841385,
                        "remaining_time": 0.6117671525
                      },
                      {
                        "learn": [
                          13.86278614
                        ],
                        "iteration": 173,
                        "passed_time": 3.957641751,
                        "remaining_time": 0.5913717558
                      },
                      {
                        "learn": [
                          13.86018103
                        ],
                        "iteration": 174,
                        "passed_time": 4.002263989,
                        "remaining_time": 0.5717519984
                      },
                      {
                        "learn": [
                          13.80862504
                        ],
                        "iteration": 175,
                        "passed_time": 4.043368405,
                        "remaining_time": 0.5513684189
                      },
                      {
                        "learn": [
                          13.7405427
                        ],
                        "iteration": 176,
                        "passed_time": 4.07955235,
                        "remaining_time": 0.5301113224
                      },
                      {
                        "learn": [
                          13.69839872
                        ],
                        "iteration": 177,
                        "passed_time": 4.113527888,
                        "remaining_time": 0.5084135592
                      },
                      {
                        "learn": [
                          13.65684006
                        ],
                        "iteration": 178,
                        "passed_time": 4.147816755,
                        "remaining_time": 0.4866153734
                      },
                      {
                        "learn": [
                          13.6544698
                        ],
                        "iteration": 179,
                        "passed_time": 4.183777105,
                        "remaining_time": 0.4648641228
                      },
                      {
                        "learn": [
                          13.59603252
                        ],
                        "iteration": 180,
                        "passed_time": 4.218933092,
                        "remaining_time": 0.4428714295
                      },
                      {
                        "learn": [
                          13.54220477
                        ],
                        "iteration": 181,
                        "passed_time": 4.254503249,
                        "remaining_time": 0.4207750466
                      },
                      {
                        "learn": [
                          13.48198186
                        ],
                        "iteration": 182,
                        "passed_time": 4.293477385,
                        "remaining_time": 0.3988476259
                      },
                      {
                        "learn": [
                          13.42070291
                        ],
                        "iteration": 183,
                        "passed_time": 4.328866189,
                        "remaining_time": 0.3764231468
                      },
                      {
                        "learn": [
                          13.41864907
                        ],
                        "iteration": 184,
                        "passed_time": 4.359423213,
                        "remaining_time": 0.353466747
                      },
                      {
                        "learn": [
                          13.36986106
                        ],
                        "iteration": 185,
                        "passed_time": 4.394251976,
                        "remaining_time": 0.3307501487
                      },
                      {
                        "learn": [
                          13.34929495
                        ],
                        "iteration": 186,
                        "passed_time": 4.429565634,
                        "remaining_time": 0.3079377179
                      },
                      {
                        "learn": [
                          13.29946094
                        ],
                        "iteration": 187,
                        "passed_time": 4.464525955,
                        "remaining_time": 0.2849697418
                      },
                      {
                        "learn": [
                          13.27255987
                        ],
                        "iteration": 188,
                        "passed_time": 4.495363162,
                        "remaining_time": 0.261634893
                      },
                      {
                        "learn": [
                          13.21342618
                        ],
                        "iteration": 189,
                        "passed_time": 4.529684408,
                        "remaining_time": 0.2384044425
                      },
                      {
                        "learn": [
                          13.16792028
                        ],
                        "iteration": 190,
                        "passed_time": 4.56437954,
                        "remaining_time": 0.2150754757
                      },
                      {
                        "learn": [
                          13.12485595
                        ],
                        "iteration": 191,
                        "passed_time": 4.601823859,
                        "remaining_time": 0.1917426608
                      },
                      {
                        "learn": [
                          13.07937698
                        ],
                        "iteration": 192,
                        "passed_time": 4.633818353,
                        "remaining_time": 0.1680659506
                      },
                      {
                        "learn": [
                          13.07748854
                        ],
                        "iteration": 193,
                        "passed_time": 4.670635217,
                        "remaining_time": 0.1444526356
                      },
                      {
                        "learn": [
                          13.05031266
                        ],
                        "iteration": 194,
                        "passed_time": 4.7056749,
                        "remaining_time": 0.1206583308
                      },
                      {
                        "learn": [
                          13.0272575
                        ],
                        "iteration": 195,
                        "passed_time": 4.739811258,
                        "remaining_time": 0.096730842
                      },
                      {
                        "learn": [
                          12.98550576
                        ],
                        "iteration": 196,
                        "passed_time": 4.774725298,
                        "remaining_time": 0.07271155277
                      },
                      {
                        "learn": [
                          12.93296193
                        ],
                        "iteration": 197,
                        "passed_time": 4.810958731,
                        "remaining_time": 0.04859554274
                      },
                      {
                        "learn": [
                          12.88803774
                        ],
                        "iteration": 198,
                        "passed_time": 4.84404656,
                        "remaining_time": 0.02434194251
                      },
                      {
                        "learn": [
                          12.84597178
                        ],
                        "iteration": 199,
                        "passed_time": 4.884234884,
                        "remaining_time": 0
                      }
                    ],
                    "meta": {
                      "test_sets": [],
                      "test_metrics": [],
                      "learn_metrics": [
                        {
                          "best_value": "Min",
                          "name": "RMSE"
                        }
                      ],
                      "launch_mode": "Train",
                      "parameters": "",
                      "iteration_count": 200,
                      "learn_sets": [
                        "learn"
                      ],
                      "name": "experiment"
                    }
                  }
                }
              }
            },
            "layout": "IPY_MODEL_dad172587cd046b1b742b2dd29f3b692"
          }
        }
      }
    }
  },
  "nbformat": 4,
  "nbformat_minor": 0
}